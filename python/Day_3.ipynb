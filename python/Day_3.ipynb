{
 "cells": [
  {
   "cell_type": "markdown",
   "id": "1b586dde",
   "metadata": {},
   "source": [
    "<div class = 'alert alert-block alert-info'> \n",
    "    <h3> Functions Review </h3>\n",
    "    https://github.com/Asabeneh/30-Days-Of-Python/\n",
    "</div>"
   ]
  },
  {
   "cell_type": "markdown",
   "id": "0ecc5dc3",
   "metadata": {},
   "source": [
    "<span style = color:green>\n",
    "    <h3> Level 3 </h3>\n",
    "</span>"
   ]
  },
  {
   "cell_type": "markdown",
   "id": "6585cdf4",
   "metadata": {},
   "source": [
    "**5. Go to the data folder and access the countries-data.py file.**\n",
    "- Create a function called the most_spoken_languages in the world. It should return 10 or 20 most spoken languages in the \n",
    "- Create a function called the most_populated_countries. It should return 10 or 20 most populated countries in descending order."
   ]
  },
  {
   "cell_type": "code",
   "execution_count": 21,
   "id": "057d99d7",
   "metadata": {},
   "outputs": [],
   "source": [
    "from Data.countries_data import countries\n",
    "from collections import Counter\n",
    "\n",
    "def most_spoken_languages(countries, top):\n",
    "    \n",
    "    All_languages = []\n",
    "    for country in countries:\n",
    "        for language in country['languages']:\n",
    "            All_languages.append(language)\n",
    "            \n",
    "    \n",
    "    language_cnt = Counter(All_languages)\n",
    "    common_language = language_cnt.most_common(top)\n",
    "    top_languages = []\n",
    "    for language in common_language:\n",
    "        top_languages.append(language[0])\n",
    "        \n",
    "    print(top_languages)\n",
    "    "
   ]
  },
  {
   "cell_type": "code",
   "execution_count": 29,
   "id": "34423992",
   "metadata": {},
   "outputs": [],
   "source": [
    "def most_populated_countries(countries, top):\n",
    "    populated_countries = sorted(countries, key = lambda x: x['population'],\n",
    "                                 reverse = True)\n",
    "    pop_countries = []\n",
    "    i = 0\n",
    "    for country in populated_countries:\n",
    "        name_country = {\n",
    "            'name': country['name'],\n",
    "            'population': country['population']\n",
    "        }\n",
    "        pop_countries.append(name_country)\n",
    "        i+=1\n",
    "        if (i==top):\n",
    "            break\n",
    "        \n",
    "    return pop_countries\n",
    "    "
   ]
  },
  {
   "cell_type": "code",
   "execution_count": 30,
   "id": "046bb713",
   "metadata": {},
   "outputs": [
    {
     "name": "stdout",
     "output_type": "stream",
     "text": [
      "['English', 'French', 'Arabic', 'Spanish', 'Portuguese', 'Russian', 'Dutch', 'German', 'Chinese', 'Serbian']\n"
     ]
    }
   ],
   "source": [
    "most_spoken_languages(countries, 10)"
   ]
  },
  {
   "cell_type": "code",
   "execution_count": 31,
   "id": "a433c05c",
   "metadata": {},
   "outputs": [
    {
     "data": {
      "text/plain": [
       "[{'name': 'China', 'population': 1377422166},\n",
       " {'name': 'India', 'population': 1295210000},\n",
       " {'name': 'United States of America', 'population': 323947000},\n",
       " {'name': 'Indonesia', 'population': 258705000},\n",
       " {'name': 'Brazil', 'population': 206135893},\n",
       " {'name': 'Pakistan', 'population': 194125062},\n",
       " {'name': 'Nigeria', 'population': 186988000},\n",
       " {'name': 'Bangladesh', 'population': 161006790},\n",
       " {'name': 'Russian Federation', 'population': 146599183},\n",
       " {'name': 'Japan', 'population': 126960000}]"
      ]
     },
     "execution_count": 31,
     "metadata": {},
     "output_type": "execute_result"
    }
   ],
   "source": [
    "most_populated_countries(countries, 10)"
   ]
  },
  {
   "cell_type": "markdown",
   "id": "13d78b8b",
   "metadata": {},
   "source": [
    "<div class = \"alert alert-block alert-info\"> \n",
    "    <h3> Modules </h3>\n",
    "    https://github.com/Asabeneh/30-Days-Of-Python/\n",
    "</div>"
   ]
  },
  {
   "cell_type": "markdown",
   "id": "b7be9510",
   "metadata": {},
   "source": [
    "<span style = color:green> \n",
    "    <h3> Level 1 </h3>\n",
    "</span>"
   ]
  },
  {
   "cell_type": "markdown",
   "id": "4f041ecb",
   "metadata": {},
   "source": [
    "**1. Write a function which generates a six digit/character random_user_id**\n",
    "```\n",
    "print(random_user_id());\n",
    "'1ee33d'\n",
    "```"
   ]
  },
  {
   "cell_type": "code",
   "execution_count": 63,
   "id": "f09e997b",
   "metadata": {},
   "outputs": [],
   "source": [
    "from random import random, randint\n",
    "\n",
    "def random_user_id():\n",
    "    s = ''\n",
    "    while (len(s)<6):\n",
    "        choice = randint(1,2)\n",
    "        if (choice == 1):\n",
    "            digit = randint(48,57)\n",
    "            s +=chr(digit)\n",
    "        elif (choice == 2):\n",
    "            character = randint(97, 122)\n",
    "            s += chr(character)\n",
    "    return s"
   ]
  },
  {
   "cell_type": "code",
   "execution_count": 64,
   "id": "2dbb3564",
   "metadata": {},
   "outputs": [
    {
     "name": "stdout",
     "output_type": "stream",
     "text": [
      "1fmqk7\n"
     ]
    }
   ],
   "source": [
    "print(random_user_id())"
   ]
  },
  {
   "cell_type": "markdown",
   "id": "04126d80",
   "metadata": {},
   "source": [
    "**2. Modify the previous task. Declare a function named user_id_gen_by_user. It doesn't take any parameters but it takes two inputs using input(). One of the inputs is the number of characters and the second input is the number of IDs which are supposed to be generated**\n",
    "```\n",
    "print(user_id_gen_by_user()) #user input: 5 6\n",
    "#output:\n",
    "    kcsy2\n",
    "    SMFYb\n",
    "    bWmeq\n",
    "    ZXOYh\n",
    "    2Rgxf\n",
    "    3FPTU\n",
    "```"
   ]
  },
  {
   "cell_type": "code",
   "execution_count": 79,
   "id": "c98574e1",
   "metadata": {},
   "outputs": [],
   "source": [
    "def user_id_gen_by_user():\n",
    "    char_num, ID_num = map(int, input(\"Input: \").split())\n",
    "    i = 0\n",
    "    while (i<ID_num):\n",
    "        s = ''\n",
    "        while (len(s)<char_num):\n",
    "            choice = randint(1,3)\n",
    "            if (choice == 1):\n",
    "                digit = randint(48,57)\n",
    "                s +=chr(digit)\n",
    "            elif (choice == 2):\n",
    "                character = randint(97, 122)\n",
    "                s += chr(character)\n",
    "            elif (choice == 3):\n",
    "                character = randint(65, 90)\n",
    "                s += chr(character)\n",
    "        print(s)\n",
    "        i+=1"
   ]
  },
  {
   "cell_type": "code",
   "execution_count": 80,
   "id": "b2a159a4",
   "metadata": {},
   "outputs": [
    {
     "name": "stdout",
     "output_type": "stream",
     "text": [
      "Input: 10 3\n",
      "cEy2pPLCCR\n",
      "31py9L6680\n",
      "XevrM4w45B\n"
     ]
    }
   ],
   "source": [
    "user_id_gen_by_user()"
   ]
  },
  {
   "cell_type": "markdown",
   "id": "80a2e354",
   "metadata": {},
   "source": [
    "**3. Write a function named rgb_color_gen. It will generate rgb colors (3 values ranging from 0 to 255 each).**\n",
    "```\n",
    "print(rgb_color_gen())\n",
    "# rgb(125, 244, 255)\n",
    "```"
   ]
  },
  {
   "cell_type": "code",
   "execution_count": 93,
   "id": "fda85fa0",
   "metadata": {},
   "outputs": [],
   "source": [
    "import matplotlib.pyplot as plt\n",
    "\n",
    "def rgb_color_gen():\n",
    "    red = randint(0, 255)\n",
    "    green = randint(0, 255)\n",
    "    blue = randint(0, 255)\n",
    "    \n",
    "    #Random color\n",
    "    rgb_color = f\"rgb({red}, {green}, {blue})\"\n",
    "    \n",
    "    #Show the color\n",
    "    color = [red, green , blue]\n",
    "    plt.imshow([[color]])\n",
    "    plt.axis('off')\n",
    "    plt.show()\n",
    "    \n",
    "    return rgb_color"
   ]
  },
  {
   "cell_type": "code",
   "execution_count": 94,
   "id": "9bf022fa",
   "metadata": {},
   "outputs": [
    {
     "data": {
      "image/png": "[encoded data removed]",
      "text/plain": [
       "<Figure size 640x480 with 1 Axes>"
      ]
     },
     "metadata": {},
     "output_type": "display_data"
    },
    {
     "name": "stdout",
     "output_type": "stream",
     "text": [
      "rgb(23, 29, 171)\n"
     ]
    }
   ],
   "source": [
    "print(rgb_color_gen())"
   ]
  },
  {
   "cell_type": "markdown",
   "id": "b240fa24",
   "metadata": {},
   "source": [
    "<span style = color:green> \n",
    "    <h3> Level 2 </h3>\n",
    "</span>"
   ]
  },
  {
   "cell_type": "code",
   "execution_count": 117,
   "id": "5d74c338",
   "metadata": {},
   "outputs": [],
   "source": [
    "def list_of_hexa_colors():\n",
    "    color = \"#{:02X}{:02X}{:02X}\".format(randint(0,255),\n",
    "                                          randint(0,255),\n",
    "                                          randint(0,255))\n",
    "    red = int(color[1:3],16)\n",
    "    green = int(color[3:5],16)\n",
    "    blue = int(color[5:7],16)\n",
    "    \n",
    "    print(color)\n",
    "    color_rgb = [red,green,blue]\n",
    "    plt.imshow([[color_rgb]])\n",
    "    plt.axis('off')\n",
    "    plt.show()"
   ]
  },
  {
   "cell_type": "code",
   "execution_count": 118,
   "id": "dfcbc254",
   "metadata": {},
   "outputs": [
    {
     "name": "stdout",
     "output_type": "stream",
     "text": [
      "#7D7CA0\n"
     ]
    },
    {
     "data": {
      "image/png": "[encoded data removed]",
      "text/plain": [
       "<Figure size 640x480 with 1 Axes>"
      ]
     },
     "metadata": {},
     "output_type": "display_data"
    }
   ],
   "source": [
    "list_of_hexa_colors()"
   ]
  }
 ],
 "metadata": {
  "kernelspec": {
   "display_name": "Python 3 (ipykernel)",
   "language": "python",
   "name": "python3"
  },
  "language_info": {
   "codemirror_mode": {
    "name": "ipython",
    "version": 3
   },
   "file_extension": ".py",
   "mimetype": "text/x-python",
   "name": "python",
   "nbconvert_exporter": "python",
   "pygments_lexer": "ipython3",
   "version": "3.11.3"
  }
 },
 "nbformat": 4,
 "nbformat_minor": 5
}
