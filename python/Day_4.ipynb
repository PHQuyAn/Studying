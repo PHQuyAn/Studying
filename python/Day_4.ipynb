{
 "cells": [
  {
   "cell_type": "markdown",
   "id": "b0470bd6",
   "metadata": {},
   "source": [
    "<div class = \"alert alert-block alert-info\"> \n",
    "    <h3> Modules (continue) </h3>\n",
    "    https://github.com/Asabeneh/30-Days-Of-Python/\n",
    "</div>"
   ]
  },
  {
   "cell_type": "markdown",
   "id": "e8579767",
   "metadata": {},
   "source": [
    "<span style = color:green> \n",
    "    <h3> Level 2 </h3>\n",
    "</span>"
   ]
  },
  {
   "cell_type": "markdown",
   "id": "4c7b3dcd",
   "metadata": {},
   "source": [
    "**1. Write a function generate_colors which can generate any number of hexa or rgb colors**\n",
    "```\n",
    "   generate_colors('hexa', 3) # ['#a3e12f','#03ed55','#eb3d2b'] \n",
    "   generate_colors('hexa', 1) # ['#b334ef']\n",
    "   generate_colors('rgb', 3)  # ['rgb(5, 55, 175','rgb(50, 105, 100','rgb(15, 26, 80'] \n",
    "   generate_colors('rgb', 1)  # ['rgb(33,79, 176)']\n",
    "```"
   ]
  },
  {
   "cell_type": "code",
   "execution_count": 12,
   "id": "16bf530e",
   "metadata": {},
   "outputs": [],
   "source": [
    "from random import random, randint\n",
    "import matplotlib.pyplot as plt"
   ]
  },
  {
   "cell_type": "code",
   "execution_count": 6,
   "id": "00208d29",
   "metadata": {},
   "outputs": [],
   "source": [
    "def generate_hexa_colors():\n",
    "    color = '#{:02X}{:02X}{:02X}'.format(randint(0,255),\n",
    "                                           randint(0,255),\n",
    "                                           randint(0,255))\n",
    "    return color"
   ]
  },
  {
   "cell_type": "code",
   "execution_count": 8,
   "id": "b449b92a",
   "metadata": {},
   "outputs": [],
   "source": [
    "def generate_rgb_colors():\n",
    "    red = randint(0,255)\n",
    "    green = randint(0,255)\n",
    "    blue = randint(0,255)\n",
    "    \n",
    "    color = f\"rgb({red}, {green}, {blue})\"\n",
    "    return color"
   ]
  },
  {
   "cell_type": "code",
   "execution_count": 10,
   "id": "9f7e220c",
   "metadata": {},
   "outputs": [],
   "source": [
    "def generate_colors(type_color, numbers):\n",
    "    lst_color = []\n",
    "    if (type_color == 'hexa'):\n",
    "        for i in range(0,numbers):\n",
    "            lst_color.append(generate_hexa_colors())\n",
    "    elif(type_color == 'rgb'):\n",
    "        for i in range(0,numbers):\n",
    "            lst_color.append(generate_rgb_colors())\n",
    "    else:\n",
    "        return 'Enter your type color again: rgb or hexa'\n",
    "    return lst_color"
   ]
  },
  {
   "cell_type": "code",
   "execution_count": 47,
   "id": "e5b4f7c0",
   "metadata": {},
   "outputs": [],
   "source": [
    "def show_hexaColors(color):\n",
    "    red = int(color[1:3],16)\n",
    "    green = int(color[3:5],16)\n",
    "    blue = int(color[5:7],16)\n",
    "    \n",
    "    color_rgb = [red,green,blue]\n",
    "    plt.imshow([[color_rgb]])\n",
    "    plt.axis('off')\n",
    "    plt.show()"
   ]
  },
  {
   "cell_type": "code",
   "execution_count": 48,
   "id": "75d16a72",
   "metadata": {},
   "outputs": [],
   "source": [
    "def show_rgbColors(color):\n",
    "    numbers = color.split('(')[1].split(')')[0]\n",
    "    rgb_values = numbers.split(',')\n",
    "    \n",
    "    #Take rgb value for showing color\n",
    "    rgb = []\n",
    "    for rgb_value in rgb_values:\n",
    "        rgb.append(int(rgb_value))\n",
    "    \n",
    "    red, green, blue = rgb[0], rgb[1], rgb[2]\n",
    "    \n",
    "    #Show color\n",
    "    color_rgb = [red, green, blue]\n",
    "    plt.imshow([[color_rgb]])\n",
    "    plt.axis('off')\n",
    "    plt.show()"
   ]
  },
  {
   "cell_type": "code",
   "execution_count": 49,
   "id": "5308294c",
   "metadata": {},
   "outputs": [],
   "source": [
    "def show_colors(type_color, colors):\n",
    "    if (type_color == 'hexa'):\n",
    "        for color in colors:\n",
    "            print(color)\n",
    "            show_hexaColors(color)\n",
    "    elif (type_color == 'rgb'):\n",
    "        for color in colors:\n",
    "            print(color)\n",
    "            show_rgbColors(color)\n",
    "    else:\n",
    "        return 'Show color Fail, check your input'"
   ]
  },
  {
   "cell_type": "code",
   "execution_count": 52,
   "id": "71f501d6",
   "metadata": {},
   "outputs": [
    {
     "name": "stdout",
     "output_type": "stream",
     "text": [
      "rgb(56, 88, 155)\n"
     ]
    },
    {
     "data": {
      "image/png": "[encoded data removed]",
      "text/plain": [
       "<Figure size 640x480 with 1 Axes>"
      ]
     },
     "metadata": {},
     "output_type": "display_data"
    },
    {
     "name": "stdout",
     "output_type": "stream",
     "text": [
      "rgb(127, 167, 180)\n"
     ]
    },
    {
     "data": {
      "image/png": "[encoded data removed]",
      "text/plain": [
       "<Figure size 640x480 with 1 Axes>"
      ]
     },
     "metadata": {},
     "output_type": "display_data"
    },
    {
     "name": "stdout",
     "output_type": "stream",
     "text": [
      "rgb(226, 95, 236)\n"
     ]
    },
    {
     "data": {
      "image/png": "[encoded data removed]",
      "text/plain": [
       "<Figure size 640x480 with 1 Axes>"
      ]
     },
     "metadata": {},
     "output_type": "display_data"
    },
    {
     "name": "stdout",
     "output_type": "stream",
     "text": [
      "rgb(164, 37, 63)\n"
     ]
    },
    {
     "data": {
      "image/png": "[encoded data removed]",
      "text/plain": [
       "<Figure size 640x480 with 1 Axes>"
      ]
     },
     "metadata": {},
     "output_type": "display_data"
    },
    {
     "name": "stdout",
     "output_type": "stream",
     "text": [
      "rgb(16, 94, 203)\n"
     ]
    },
    {
     "data": {
      "image/png": "[encoded data removed]",
      "text/plain": [
       "<Figure size 640x480 with 1 Axes>"
      ]
     },
     "metadata": {},
     "output_type": "display_data"
    }
   ],
   "source": [
    "show_colors('rgb',generate_colors('rgb',5))"
   ]
  },
  {
   "cell_type": "code",
   "execution_count": 53,
   "id": "eff78912",
   "metadata": {},
   "outputs": [
    {
     "name": "stdout",
     "output_type": "stream",
     "text": [
      "#320361\n"
     ]
    },
    {
     "data": {
      "image/png": "[encoded data removed]",
      "text/plain": [
       "<Figure size 640x480 with 1 Axes>"
      ]
     },
     "metadata": {},
     "output_type": "display_data"
    },
    {
     "name": "stdout",
     "output_type": "stream",
     "text": [
      "#0703DB\n"
     ]
    },
    {
     "data": {
      "image/png": "[encoded data removed]",
      "text/plain": [
       "<Figure size 640x480 with 1 Axes>"
      ]
     },
     "metadata": {},
     "output_type": "display_data"
    },
    {
     "name": "stdout",
     "output_type": "stream",
     "text": [
      "#775AEF\n"
     ]
    },
    {
     "data": {
      "image/png": "[encoded data removed]",
      "text/plain": [
       "<Figure size 640x480 with 1 Axes>"
      ]
     },
     "metadata": {},
     "output_type": "display_data"
    },
    {
     "name": "stdout",
     "output_type": "stream",
     "text": [
      "#DBF1CB\n"
     ]
    },
    {
     "data": {
      "image/png": "[encoded data removed]",
      "text/plain": [
       "<Figure size 640x480 with 1 Axes>"
      ]
     },
     "metadata": {},
     "output_type": "display_data"
    },
    {
     "name": "stdout",
     "output_type": "stream",
     "text": [
      "#C70E3D\n"
     ]
    },
    {
     "data": {
      "image/png": "[encoded data removed]",
      "text/plain": [
       "<Figure size 640x480 with 1 Axes>"
      ]
     },
     "metadata": {},
     "output_type": "display_data"
    }
   ],
   "source": [
    "show_colors('hexa', generate_colors('hexa',5))"
   ]
  },
  {
   "cell_type": "markdown",
   "id": "99acfa1e",
   "metadata": {},
   "source": [
    "<span style = color:green> \n",
    "    <h3> Level 3 </h3>\n",
    "</span>"
   ]
  },
  {
   "cell_type": "markdown",
   "id": "c7beaf76",
   "metadata": {},
   "source": [
    "**2. Write a function which returns an array of seven random numbers in a range of 0-9. All the numbers must be unique**"
   ]
  },
  {
   "cell_type": "code",
   "execution_count": 54,
   "id": "3ee7b410",
   "metadata": {},
   "outputs": [],
   "source": [
    "from random import randint, random"
   ]
  },
  {
   "cell_type": "code",
   "execution_count": 62,
   "id": "8c090c18",
   "metadata": {},
   "outputs": [],
   "source": [
    "def sevenRandom():\n",
    "    s = []\n",
    "    i = 0\n",
    "    while i<7:\n",
    "        num = str(randint(0,9))\n",
    "        if num not in s:\n",
    "            s.append(num)\n",
    "            i+=1\n",
    "    return s"
   ]
  },
  {
   "cell_type": "code",
   "execution_count": 63,
   "id": "5e3282ac",
   "metadata": {},
   "outputs": [
    {
     "data": {
      "text/plain": [
       "['1', '5', '2', '4', '9', '6', '0']"
      ]
     },
     "execution_count": 63,
     "metadata": {},
     "output_type": "execute_result"
    }
   ],
   "source": [
    "sevenRandom()"
   ]
  },
  {
   "cell_type": "markdown",
   "id": "f27e4a88",
   "metadata": {},
   "source": [
    "<div class = 'alert alert-block alert-info'> \n",
    "    <h3> List Comprehension </h3>\n",
    "    https://github.com/Asabeneh/30-Days-Of-Python/\n",
    "</div>"
   ]
  },
  {
   "cell_type": "markdown",
   "id": "fc71dae1",
   "metadata": {},
   "source": [
    "**1. Filter only negative and zero in the list using list comprehension**\n",
    "```\n",
    "number = [-4, -3, -2, -1, 0, 2, 4, 6]\n",
    "```"
   ]
  },
  {
   "cell_type": "code",
   "execution_count": 70,
   "id": "a823b382",
   "metadata": {},
   "outputs": [
    {
     "data": {
      "text/plain": [
       "[-4, -3, -2, -1, 0]"
      ]
     },
     "execution_count": 70,
     "metadata": {},
     "output_type": "execute_result"
    }
   ],
   "source": [
    "number = [-4, -3, -2, -1, 0, 2, 4, 6]\n",
    "\n",
    "negNumber = [i for i in number if i<=0]\n",
    "negNumber"
   ]
  },
  {
   "cell_type": "markdown",
   "id": "915dcecd",
   "metadata": {},
   "source": [
    "**2. Flatten the following list of lists to a one dimensional list:**\n",
    "```\n",
    "list_of_lists =[[[1, 2, 3]], [[4, 5, 6]], [[7, 8, 9]]]\n",
    "\n",
    "output\n",
    "[1, 2, 3, 4, 5, 6, 7, 8, 9]\n",
    "```"
   ]
  },
  {
   "cell_type": "code",
   "execution_count": 72,
   "id": "9a9b2eca",
   "metadata": {},
   "outputs": [
    {
     "name": "stdout",
     "output_type": "stream",
     "text": [
      "[1, 2, 3, 4, 5, 6, 7, 8, 9]\n"
     ]
    }
   ],
   "source": [
    "list_of_lists = [[[1,2,3]], [[4,5,6]],[[7,8,9]]]\n",
    "\n",
    "oneDim = [i for sub_list in list_of_lists for inner in sub_list for i in inner]\n",
    "print(oneDim)"
   ]
  },
  {
   "cell_type": "markdown",
   "id": "dff7089d",
   "metadata": {},
   "source": [
    "**3. Using list comprehension create the following list of tuples**\n",
    "```\n",
    "[(0, 1, 0, 0, 0, 0, 0),\n",
    "(1, 1, 1, 1, 1, 1, 1),\n",
    "(2, 1, 2, 4, 8, 16, 32),\n",
    "(3, 1, 3, 9, 27, 81, 243),\n",
    "(4, 1, 4, 16, 64, 256, 1024),\n",
    "(5, 1, 5, 25, 125, 625, 3125),\n",
    "(6, 1, 6, 36, 216, 1296, 7776),\n",
    "(7, 1, 7, 49, 343, 2401, 16807),\n",
    "(8, 1, 8, 64, 512, 4096, 32768),\n",
    "(9, 1, 9, 81, 729, 6561, 59049),\n",
    "(10, 1, 10, 100, 1000, 10000, 100000)]\n",
    "```"
   ]
  },
  {
   "cell_type": "code",
   "execution_count": 75,
   "id": "b77aebc2",
   "metadata": {},
   "outputs": [
    {
     "data": {
      "text/plain": [
       "[(0, 1, 0, 0, 0, 0, 0),\n",
       " (1, 1, 1, 1, 1, 1, 1),\n",
       " (2, 1, 4, 8, 16, 32, 64),\n",
       " (3, 1, 9, 27, 81, 243, 729),\n",
       " (4, 1, 16, 64, 256, 1024, 4096),\n",
       " (5, 1, 25, 125, 625, 3125, 15625),\n",
       " (6, 1, 36, 216, 1296, 7776, 46656),\n",
       " (7, 1, 49, 343, 2401, 16807, 117649),\n",
       " (8, 1, 64, 512, 4096, 32768, 262144),\n",
       " (9, 1, 81, 729, 6561, 59049, 531441),\n",
       " (10, 1, 100, 1000, 10000, 100000, 1000000)]"
      ]
     },
     "execution_count": 75,
     "metadata": {},
     "output_type": "execute_result"
    }
   ],
   "source": [
    "result = [(x, 1, x**2, x**3, x**4, x**5, x**6) for x in range(11)]\n",
    "result"
   ]
  },
  {
   "cell_type": "markdown",
   "id": "4ef707f8",
   "metadata": {},
   "source": [
    "**4. Flatten the following list to a new list:**\n",
    "```\n",
    "countries = [[('Finland', 'Helsinki')], [('Sweden', 'Stockholm')], [('Norway', 'Oslo')]]\n",
    "output:\n",
    "[['FINLAND','FIN', 'HELSINKI'], ['SWEDEN', 'SWE', 'STOCKHOLM'], ['NORWAY', 'NOR', 'OSLO']]\n",
    "```"
   ]
  },
  {
   "cell_type": "code",
   "execution_count": 80,
   "id": "527b3aac",
   "metadata": {},
   "outputs": [
    {
     "data": {
      "text/plain": [
       "[['FINLAND', 'FIN', 'HELSINKI'],\n",
       " ['SWEDEN', 'SWE', 'STOCKHOLM'],\n",
       " ['NORWAY', 'NOR', 'OSLO']]"
      ]
     },
     "execution_count": 80,
     "metadata": {},
     "output_type": "execute_result"
    }
   ],
   "source": [
    "countries = [[('Finland', 'Helsinki')], [('Sweden', 'Stockholm')], [('Norway', 'Oslo')]]\n",
    "\n",
    "countries = [[x[0].upper(), x[0][:3].upper(), x[1].upper()] for sublist in countries for x in sublist]\n",
    "countries"
   ]
  },
  {
   "cell_type": "markdown",
   "id": "4e2c9c7c",
   "metadata": {},
   "source": [
    "**5. Change the following list to a list of dictionaries:**\n",
    "```\n",
    "countries = [[('Finland', 'Helsinki')], [('Sweden', 'Stockholm')], [('Norway', 'Oslo')]]\n",
    "output:\n",
    "[{'country': 'FINLAND', 'city': 'HELSINKI'},\n",
    "{'country': 'SWEDEN', 'city': 'STOCKHOLM'},\n",
    "{'country': 'NORWAY', 'city': 'OSLO'}]\n",
    "```"
   ]
  },
  {
   "cell_type": "code",
   "execution_count": 81,
   "id": "7760137f",
   "metadata": {},
   "outputs": [
    {
     "data": {
      "text/plain": [
       "[{'country': 'FINLAND', 'city': 'HELSINKI'},\n",
       " {'country': 'SWEDEN', 'city': 'STOCKHOLM'},\n",
       " {'country': 'NORWAY', 'city': 'OSLO'}]"
      ]
     },
     "execution_count": 81,
     "metadata": {},
     "output_type": "execute_result"
    }
   ],
   "source": [
    "countries = [[('Finland', 'Helsinki')], [('Sweden', 'Stockholm')], [('Norway', 'Oslo')]]\n",
    "\n",
    "countries = [{'country': x[0].upper(),\n",
    "              'city': x[1].upper()} for sublist in countries for x in sublist]\n",
    "countries"
   ]
  },
  {
   "cell_type": "markdown",
   "id": "7023f99d",
   "metadata": {},
   "source": [
    "**6. Change the following list of lists to a list of concatenated strings:**\n",
    "```\n",
    "names = [[('Asabeneh', 'Yetayeh')], [('David', 'Smith')], [('Donald', 'Trump')], [('Bill', 'Gates')]]\n",
    "output\n",
    "['Asabeneh Yetaeyeh', 'David Smith', 'Donald Trump', 'Bill Gates']\n",
    "```"
   ]
  },
  {
   "cell_type": "code",
   "execution_count": 83,
   "id": "b6892b63",
   "metadata": {},
   "outputs": [
    {
     "data": {
      "text/plain": [
       "['Asabeneh Yetayeh', 'David Smith', 'Donald Trump', 'Bill Gates']"
      ]
     },
     "execution_count": 83,
     "metadata": {},
     "output_type": "execute_result"
    }
   ],
   "source": [
    "names = [[('Asabeneh', 'Yetayeh')], [('David', 'Smith')], [('Donald', 'Trump')], [('Bill', 'Gates')]]\n",
    "\n",
    "names = [x[0]+' '+x[1] for name in names for x in name]\n",
    "names"
   ]
  },
  {
   "cell_type": "markdown",
   "id": "86dc3fea",
   "metadata": {},
   "source": [
    "**7. Write a lambda function which can solve a slope or y-intercept of linear functions.**\n",
    "```\n",
    "Linear functions: y = mx + b\n",
    "```\n",
    "- slope: m\n",
    "- y-intercept: b"
   ]
  },
  {
   "cell_type": "code",
   "execution_count": 88,
   "id": "9c4d32b5",
   "metadata": {},
   "outputs": [
    {
     "name": "stdout",
     "output_type": "stream",
     "text": [
      "Slope: 2.0\n",
      "y intercept: -1.0\n",
      "y = 2.0x + -1.0\n"
     ]
    }
   ],
   "source": [
    "calculate_slope = lambda x1, y1, x2, y2: (y2-y1)/(x2-x1)\n",
    "\n",
    "calculate_yIntercept = lambda slope, x, y: y - slope*x\n",
    "\n",
    "slope = calculate_slope(2,3,5,9)\n",
    "y_intercept = calculate_yIntercept(slope, 5,9)\n",
    "\n",
    "print('Slope:',slope)\n",
    "print('y intercept:',y_intercept)\n",
    "print('y =',str(slope) +'x + ' + str(y_intercept))"
   ]
  }
 ],
 "metadata": {
  "kernelspec": {
   "display_name": "Python 3 (ipykernel)",
   "language": "python",
   "name": "python3"
  },
  "language_info": {
   "codemirror_mode": {
    "name": "ipython",
    "version": 3
   },
   "file_extension": ".py",
   "mimetype": "text/x-python",
   "name": "python",
   "nbconvert_exporter": "python",
   "pygments_lexer": "ipython3",
   "version": "3.11.3"
  }
 },
 "nbformat": 4,
 "nbformat_minor": 5
}
