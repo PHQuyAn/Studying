{
 "cells": [
  {
   "cell_type": "markdown",
   "id": "8e5a5feb",
   "metadata": {},
   "source": [
    "<span style=color:green> \n",
    "    <h3> Change Jupyter theme </h3>\n",
    "</span>"
   ]
  },
  {
   "cell_type": "code",
   "execution_count": 2,
   "id": "e3e1447b",
   "metadata": {},
   "outputs": [
    {
     "name": "stdout",
     "output_type": "stream",
     "text": [
      "Collecting jupyterthemes"
     ]
    },
    {
     "name": "stderr",
     "output_type": "stream",
     "text": [
      "\n",
      "[notice] A new release of pip is available: 23.1.2 -> 23.3.2\n",
      "[notice] To update, run: python.exe -m pip install --upgrade pip\n"
     ]
    },
    {
     "name": "stdout",
     "output_type": "stream",
     "text": [
      "\n",
      "  Downloading jupyterthemes-0.20.0-py2.py3-none-any.whl (7.0 MB)\n",
      "                                              0.0/7.0 MB ? eta -:--:--\n",
      "                                              0.0/7.0 MB ? eta -:--:--\n",
      "                                              0.0/7.0 MB ? eta -:--:--\n",
      "                                              0.1/7.0 MB 1.1 MB/s eta 0:00:07\n",
      "                                              0.1/7.0 MB 1.1 MB/s eta 0:00:07\n",
      "     -                                        0.2/7.0 MB 1.0 MB/s eta 0:00:07\n",
      "     -                                        0.2/7.0 MB 1.0 MB/s eta 0:00:07\n",
      "     -                                        0.2/7.0 MB 1.0 MB/s eta 0:00:07\n",
      "     -                                        0.2/7.0 MB 1.0 MB/s eta 0:00:07\n",
      "     -                                        0.3/7.0 MB 785.7 kB/s eta 0:00:09\n",
      "     -                                        0.3/7.0 MB 807.1 kB/s eta 0:00:09\n",
      "     --                                       0.4/7.0 MB 851.5 kB/s eta 0:00:08\n",
      "     --                                       0.5/7.0 MB 873.2 kB/s eta 0:00:08\n",
      "     --                                       0.5/7.0 MB 917.3 kB/s eta 0:00:08\n",
      "     ---                                      0.6/7.0 MB 982.6 kB/s eta 0:00:07\n",
      "     ----                                     0.8/7.0 MB 1.2 MB/s eta 0:00:06\n",
      "     -----                                    0.9/7.0 MB 1.3 MB/s eta 0:00:05\n",
      "     ------                                   1.1/7.0 MB 1.5 MB/s eta 0:00:05\n",
      "     ------                                   1.2/7.0 MB 1.6 MB/s eta 0:00:04\n",
      "     -------                                  1.4/7.0 MB 1.7 MB/s eta 0:00:04\n",
      "     --------                                 1.6/7.0 MB 1.8 MB/s eta 0:00:03\n",
      "     ---------                                1.7/7.0 MB 1.9 MB/s eta 0:00:03\n",
      "     ----------                               1.9/7.0 MB 2.0 MB/s eta 0:00:03\n",
      "     -----------                              2.1/7.0 MB 2.1 MB/s eta 0:00:03\n",
      "     ------------                             2.2/7.0 MB 2.2 MB/s eta 0:00:03\n",
      "     -------------                            2.4/7.0 MB 2.3 MB/s eta 0:00:03\n",
      "     --------------                           2.5/7.0 MB 2.3 MB/s eta 0:00:02\n",
      "     ---------------                          2.7/7.0 MB 2.4 MB/s eta 0:00:02\n",
      "     ----------------                         2.9/7.0 MB 2.5 MB/s eta 0:00:02\n",
      "     -----------------                        3.1/7.0 MB 2.5 MB/s eta 0:00:02\n",
      "     ------------------                       3.3/7.0 MB 2.6 MB/s eta 0:00:02\n",
      "     -------------------                      3.4/7.0 MB 2.6 MB/s eta 0:00:02\n",
      "     --------------------                     3.6/7.0 MB 2.7 MB/s eta 0:00:02\n",
      "     ---------------------                    3.8/7.0 MB 2.7 MB/s eta 0:00:02\n",
      "     ----------------------                   4.0/7.0 MB 2.8 MB/s eta 0:00:02\n",
      "     -----------------------                  4.2/7.0 MB 2.8 MB/s eta 0:00:02\n",
      "     ------------------------                 4.3/7.0 MB 2.9 MB/s eta 0:00:01\n",
      "     -------------------------                4.5/7.0 MB 2.9 MB/s eta 0:00:01\n",
      "     --------------------------               4.6/7.0 MB 2.9 MB/s eta 0:00:01\n",
      "     ---------------------------              4.9/7.0 MB 3.0 MB/s eta 0:00:01\n",
      "     ----------------------------             5.1/7.0 MB 3.0 MB/s eta 0:00:01\n",
      "     -----------------------------            5.3/7.0 MB 3.0 MB/s eta 0:00:01\n",
      "     ------------------------------           5.4/7.0 MB 3.1 MB/s eta 0:00:01\n",
      "     -------------------------------          5.6/7.0 MB 3.1 MB/s eta 0:00:01\n",
      "     ---------------------------------        5.8/7.0 MB 3.1 MB/s eta 0:00:01\n",
      "     ---------------------------------        5.9/7.0 MB 3.1 MB/s eta 0:00:01\n",
      "     -----------------------------------      6.2/7.0 MB 3.2 MB/s eta 0:00:01\n",
      "     -----------------------------------      6.3/7.0 MB 3.2 MB/s eta 0:00:01\n",
      "     -------------------------------------    6.5/7.0 MB 3.2 MB/s eta 0:00:01\n",
      "     --------------------------------------   6.7/7.0 MB 3.3 MB/s eta 0:00:01\n",
      "     ---------------------------------------  6.9/7.0 MB 3.3 MB/s eta 0:00:01\n",
      "     ---------------------------------------  7.0/7.0 MB 3.3 MB/s eta 0:00:01\n",
      "     ---------------------------------------- 7.0/7.0 MB 3.3 MB/s eta 0:00:00\n",
      "Requirement already satisfied: jupyter-core in d:\\python3.11\\lib\\site-packages (from jupyterthemes) (5.3.1)\n",
      "Requirement already satisfied: notebook>=5.6.0 in d:\\python3.11\\lib\\site-packages (from jupyterthemes) (6.5.4)\n",
      "Requirement already satisfied: ipython>=5.4.1 in d:\\python3.11\\lib\\site-packages (from jupyterthemes) (8.14.0)\n",
      "Requirement already satisfied: matplotlib>=1.4.3 in d:\\python3.11\\lib\\site-packages (from jupyterthemes) (3.7.1)\n",
      "Collecting lesscpy>=0.11.2 (from jupyterthemes)\n",
      "  Downloading lesscpy-0.15.1-py2.py3-none-any.whl (46 kB)\n",
      "                                              0.0/46.7 kB ? eta -:--:--\n",
      "     ---------------------------------------- 46.7/46.7 kB 2.4 MB/s eta 0:00:00\n",
      "Requirement already satisfied: backcall in d:\\python3.11\\lib\\site-packages (from ipython>=5.4.1->jupyterthemes) (0.2.0)\n",
      "Requirement already satisfied: decorator in d:\\python3.11\\lib\\site-packages (from ipython>=5.4.1->jupyterthemes) (5.1.1)\n",
      "Requirement already satisfied: jedi>=0.16 in d:\\python3.11\\lib\\site-packages (from ipython>=5.4.1->jupyterthemes) (0.18.2)\n",
      "Requirement already satisfied: matplotlib-inline in d:\\python3.11\\lib\\site-packages (from ipython>=5.4.1->jupyterthemes) (0.1.6)\n",
      "Requirement already satisfied: pickleshare in d:\\python3.11\\lib\\site-packages (from ipython>=5.4.1->jupyterthemes) (0.7.5)\n",
      "Requirement already satisfied: prompt-toolkit!=3.0.37,<3.1.0,>=3.0.30 in d:\\python3.11\\lib\\site-packages (from ipython>=5.4.1->jupyterthemes) (3.0.38)\n",
      "Requirement already satisfied: pygments>=2.4.0 in d:\\python3.11\\lib\\site-packages (from ipython>=5.4.1->jupyterthemes) (2.15.1)\n",
      "Requirement already satisfied: stack-data in d:\\python3.11\\lib\\site-packages (from ipython>=5.4.1->jupyterthemes) (0.6.2)\n",
      "Requirement already satisfied: traitlets>=5 in d:\\python3.11\\lib\\site-packages (from ipython>=5.4.1->jupyterthemes) (5.9.0)\n",
      "Requirement already satisfied: colorama in d:\\python3.11\\lib\\site-packages (from ipython>=5.4.1->jupyterthemes) (0.4.6)\n",
      "Collecting ply (from lesscpy>=0.11.2->jupyterthemes)\n",
      "  Downloading ply-3.11-py2.py3-none-any.whl (49 kB)\n",
      "                                              0.0/49.6 kB ? eta -:--:--\n",
      "     ---------------------------------------- 49.6/49.6 kB ? eta 0:00:00\n",
      "Requirement already satisfied: contourpy>=1.0.1 in d:\\python3.11\\lib\\site-packages (from matplotlib>=1.4.3->jupyterthemes) (1.0.7)\n",
      "Requirement already satisfied: cycler>=0.10 in d:\\python3.11\\lib\\site-packages (from matplotlib>=1.4.3->jupyterthemes) (0.11.0)\n",
      "Requirement already satisfied: fonttools>=4.22.0 in d:\\python3.11\\lib\\site-packages (from matplotlib>=1.4.3->jupyterthemes) (4.39.4)\n",
      "Requirement already satisfied: kiwisolver>=1.0.1 in d:\\python3.11\\lib\\site-packages (from matplotlib>=1.4.3->jupyterthemes) (1.4.4)\n",
      "Requirement already satisfied: numpy>=1.20 in d:\\python3.11\\lib\\site-packages (from matplotlib>=1.4.3->jupyterthemes) (1.23.5)\n",
      "Requirement already satisfied: packaging>=20.0 in d:\\python3.11\\lib\\site-packages (from matplotlib>=1.4.3->jupyterthemes) (23.1)\n",
      "Requirement already satisfied: pillow>=6.2.0 in d:\\python3.11\\lib\\site-packages (from matplotlib>=1.4.3->jupyterthemes) (9.5.0)\n",
      "Requirement already satisfied: pyparsing>=2.3.1 in d:\\python3.11\\lib\\site-packages (from matplotlib>=1.4.3->jupyterthemes) (3.0.9)\n",
      "Requirement already satisfied: python-dateutil>=2.7 in d:\\python3.11\\lib\\site-packages (from matplotlib>=1.4.3->jupyterthemes) (2.8.2)\n",
      "Requirement already satisfied: jinja2 in d:\\python3.11\\lib\\site-packages (from notebook>=5.6.0->jupyterthemes) (3.1.2)\n",
      "Requirement already satisfied: tornado>=6.1 in d:\\python3.11\\lib\\site-packages (from notebook>=5.6.0->jupyterthemes) (6.3.2)\n",
      "Requirement already satisfied: pyzmq>=17 in d:\\python3.11\\lib\\site-packages (from notebook>=5.6.0->jupyterthemes) (25.1.0)\n",
      "Requirement already satisfied: argon2-cffi in d:\\python3.11\\lib\\site-packages (from notebook>=5.6.0->jupyterthemes) (21.3.0)\n",
      "Requirement already satisfied: jupyter-client>=5.3.4 in d:\\python3.11\\lib\\site-packages (from notebook>=5.6.0->jupyterthemes) (8.3.0)\n",
      "Requirement already satisfied: ipython-genutils in d:\\python3.11\\lib\\site-packages (from notebook>=5.6.0->jupyterthemes) (0.2.0)\n",
      "Requirement already satisfied: nbformat in d:\\python3.11\\lib\\site-packages (from notebook>=5.6.0->jupyterthemes) (5.9.0)\n",
      "Requirement already satisfied: nbconvert>=5 in d:\\python3.11\\lib\\site-packages (from notebook>=5.6.0->jupyterthemes) (7.6.0)\n",
      "Requirement already satisfied: nest-asyncio>=1.5 in d:\\python3.11\\lib\\site-packages (from notebook>=5.6.0->jupyterthemes) (1.5.6)\n",
      "Requirement already satisfied: ipykernel in d:\\python3.11\\lib\\site-packages (from notebook>=5.6.0->jupyterthemes) (6.23.3)\n",
      "Requirement already satisfied: Send2Trash>=1.8.0 in d:\\python3.11\\lib\\site-packages (from notebook>=5.6.0->jupyterthemes) (1.8.2)\n",
      "Requirement already satisfied: terminado>=0.8.3 in d:\\python3.11\\lib\\site-packages (from notebook>=5.6.0->jupyterthemes) (0.17.1)\n",
      "Requirement already satisfied: prometheus-client in d:\\python3.11\\lib\\site-packages (from notebook>=5.6.0->jupyterthemes) (0.17.0)\n",
      "Requirement already satisfied: nbclassic>=0.4.7 in d:\\python3.11\\lib\\site-packages (from notebook>=5.6.0->jupyterthemes) (1.0.0)\n",
      "Requirement already satisfied: platformdirs>=2.5 in d:\\python3.11\\lib\\site-packages (from jupyter-core->jupyterthemes) (3.8.0)\n",
      "Requirement already satisfied: pywin32>=300 in d:\\python3.11\\lib\\site-packages (from jupyter-core->jupyterthemes) (306)\n",
      "Requirement already satisfied: parso<0.9.0,>=0.8.0 in d:\\python3.11\\lib\\site-packages (from jedi>=0.16->ipython>=5.4.1->jupyterthemes) (0.8.3)\n",
      "Requirement already satisfied: jupyter-server>=1.8 in d:\\python3.11\\lib\\site-packages (from nbclassic>=0.4.7->notebook>=5.6.0->jupyterthemes) (2.7.0)\n",
      "Requirement already satisfied: notebook-shim>=0.2.3 in d:\\python3.11\\lib\\site-packages (from nbclassic>=0.4.7->notebook>=5.6.0->jupyterthemes) (0.2.3)\n",
      "Requirement already satisfied: beautifulsoup4 in d:\\python3.11\\lib\\site-packages (from nbconvert>=5->notebook>=5.6.0->jupyterthemes) (4.12.2)\n",
      "Requirement already satisfied: bleach!=5.0.0 in d:\\python3.11\\lib\\site-packages (from nbconvert>=5->notebook>=5.6.0->jupyterthemes) (6.0.0)\n",
      "Requirement already satisfied: defusedxml in d:\\python3.11\\lib\\site-packages (from nbconvert>=5->notebook>=5.6.0->jupyterthemes) (0.7.1)\n",
      "Requirement already satisfied: jupyterlab-pygments in d:\\python3.11\\lib\\site-packages (from nbconvert>=5->notebook>=5.6.0->jupyterthemes) (0.2.2)\n",
      "Requirement already satisfied: markupsafe>=2.0 in d:\\python3.11\\lib\\site-packages (from nbconvert>=5->notebook>=5.6.0->jupyterthemes) (2.1.3)\n",
      "Requirement already satisfied: mistune<4,>=2.0.3 in d:\\python3.11\\lib\\site-packages (from nbconvert>=5->notebook>=5.6.0->jupyterthemes) (3.0.1)\n",
      "Requirement already satisfied: nbclient>=0.5.0 in d:\\python3.11\\lib\\site-packages (from nbconvert>=5->notebook>=5.6.0->jupyterthemes) (0.8.0)\n",
      "Requirement already satisfied: pandocfilters>=1.4.1 in d:\\python3.11\\lib\\site-packages (from nbconvert>=5->notebook>=5.6.0->jupyterthemes) (1.5.0)\n",
      "Requirement already satisfied: tinycss2 in d:\\python3.11\\lib\\site-packages (from nbconvert>=5->notebook>=5.6.0->jupyterthemes) (1.2.1)\n",
      "Requirement already satisfied: fastjsonschema in d:\\python3.11\\lib\\site-packages (from nbformat->notebook>=5.6.0->jupyterthemes) (2.17.1)\n",
      "Requirement already satisfied: jsonschema>=2.6 in d:\\python3.11\\lib\\site-packages (from nbformat->notebook>=5.6.0->jupyterthemes) (4.17.3)\n",
      "Requirement already satisfied: wcwidth in d:\\python3.11\\lib\\site-packages (from prompt-toolkit!=3.0.37,<3.1.0,>=3.0.30->ipython>=5.4.1->jupyterthemes) (0.2.6)\n",
      "Requirement already satisfied: six>=1.5 in d:\\python3.11\\lib\\site-packages (from python-dateutil>=2.7->matplotlib>=1.4.3->jupyterthemes) (1.16.0)\n",
      "Requirement already satisfied: pywinpty>=1.1.0 in d:\\python3.11\\lib\\site-packages (from terminado>=0.8.3->notebook>=5.6.0->jupyterthemes) (2.0.10)\n",
      "Requirement already satisfied: argon2-cffi-bindings in d:\\python3.11\\lib\\site-packages (from argon2-cffi->notebook>=5.6.0->jupyterthemes) (21.2.0)\n",
      "Requirement already satisfied: comm>=0.1.1 in d:\\python3.11\\lib\\site-packages (from ipykernel->notebook>=5.6.0->jupyterthemes) (0.1.3)\n",
      "Requirement already satisfied: debugpy>=1.6.5 in d:\\python3.11\\lib\\site-packages (from ipykernel->notebook>=5.6.0->jupyterthemes) (1.6.7)\n",
      "Requirement already satisfied: psutil in d:\\python3.11\\lib\\site-packages (from ipykernel->notebook>=5.6.0->jupyterthemes) (5.9.5)\n",
      "Requirement already satisfied: executing>=1.2.0 in d:\\python3.11\\lib\\site-packages (from stack-data->ipython>=5.4.1->jupyterthemes) (1.2.0)\n",
      "Requirement already satisfied: asttokens>=2.1.0 in d:\\python3.11\\lib\\site-packages (from stack-data->ipython>=5.4.1->jupyterthemes) (2.2.1)\n",
      "Requirement already satisfied: pure-eval in d:\\python3.11\\lib\\site-packages (from stack-data->ipython>=5.4.1->jupyterthemes) (0.2.2)\n",
      "Requirement already satisfied: webencodings in d:\\python3.11\\lib\\site-packages (from bleach!=5.0.0->nbconvert>=5->notebook>=5.6.0->jupyterthemes) (0.5.1)\n",
      "Requirement already satisfied: attrs>=17.4.0 in d:\\python3.11\\lib\\site-packages (from jsonschema>=2.6->nbformat->notebook>=5.6.0->jupyterthemes) (23.1.0)\n",
      "Requirement already satisfied: pyrsistent!=0.17.0,!=0.17.1,!=0.17.2,>=0.14.0 in d:\\python3.11\\lib\\site-packages (from jsonschema>=2.6->nbformat->notebook>=5.6.0->jupyterthemes) (0.19.3)\n",
      "Requirement already satisfied: anyio>=3.1.0 in d:\\python3.11\\lib\\site-packages (from jupyter-server>=1.8->nbclassic>=0.4.7->notebook>=5.6.0->jupyterthemes) (3.6.2)\n",
      "Requirement already satisfied: jupyter-events>=0.6.0 in d:\\python3.11\\lib\\site-packages (from jupyter-server>=1.8->nbclassic>=0.4.7->notebook>=5.6.0->jupyterthemes) (0.6.3)\n",
      "Requirement already satisfied: jupyter-server-terminals in d:\\python3.11\\lib\\site-packages (from jupyter-server>=1.8->nbclassic>=0.4.7->notebook>=5.6.0->jupyterthemes) (0.4.4)\n",
      "Requirement already satisfied: overrides in d:\\python3.11\\lib\\site-packages (from jupyter-server>=1.8->nbclassic>=0.4.7->notebook>=5.6.0->jupyterthemes) (7.3.1)\n",
      "Requirement already satisfied: websocket-client in d:\\python3.11\\lib\\site-packages (from jupyter-server>=1.8->nbclassic>=0.4.7->notebook>=5.6.0->jupyterthemes) (1.1.0)\n",
      "Requirement already satisfied: cffi>=1.0.1 in d:\\python3.11\\lib\\site-packages (from argon2-cffi-bindings->argon2-cffi->notebook>=5.6.0->jupyterthemes) (1.15.1)\n",
      "Requirement already satisfied: soupsieve>1.2 in d:\\python3.11\\lib\\site-packages (from beautifulsoup4->nbconvert>=5->notebook>=5.6.0->jupyterthemes) (2.4.1)\n",
      "Requirement already satisfied: idna>=2.8 in d:\\python3.11\\lib\\site-packages (from anyio>=3.1.0->jupyter-server>=1.8->nbclassic>=0.4.7->notebook>=5.6.0->jupyterthemes) (3.4)\n",
      "Requirement already satisfied: sniffio>=1.1 in d:\\python3.11\\lib\\site-packages (from anyio>=3.1.0->jupyter-server>=1.8->nbclassic>=0.4.7->notebook>=5.6.0->jupyterthemes) (1.3.0)\n",
      "Requirement already satisfied: pycparser in d:\\python3.11\\lib\\site-packages (from cffi>=1.0.1->argon2-cffi-bindings->argon2-cffi->notebook>=5.6.0->jupyterthemes) (2.21)\n",
      "Requirement already satisfied: python-json-logger>=2.0.4 in d:\\python3.11\\lib\\site-packages (from jupyter-events>=0.6.0->jupyter-server>=1.8->nbclassic>=0.4.7->notebook>=5.6.0->jupyterthemes) (2.0.7)\n",
      "Requirement already satisfied: pyyaml>=5.3 in d:\\python3.11\\lib\\site-packages (from jupyter-events>=0.6.0->jupyter-server>=1.8->nbclassic>=0.4.7->notebook>=5.6.0->jupyterthemes) (6.0)\n",
      "Requirement already satisfied: rfc3339-validator in d:\\python3.11\\lib\\site-packages (from jupyter-events>=0.6.0->jupyter-server>=1.8->nbclassic>=0.4.7->notebook>=5.6.0->jupyterthemes) (0.1.4)\n",
      "Requirement already satisfied: rfc3986-validator>=0.1.1 in d:\\python3.11\\lib\\site-packages (from jupyter-events>=0.6.0->jupyter-server>=1.8->nbclassic>=0.4.7->notebook>=5.6.0->jupyterthemes) (0.1.1)\n",
      "Requirement already satisfied: fqdn in d:\\python3.11\\lib\\site-packages (from jsonschema>=2.6->nbformat->notebook>=5.6.0->jupyterthemes) (1.5.1)\n",
      "Requirement already satisfied: isoduration in d:\\python3.11\\lib\\site-packages (from jsonschema>=2.6->nbformat->notebook>=5.6.0->jupyterthemes) (20.11.0)\n",
      "Requirement already satisfied: jsonpointer>1.13 in d:\\python3.11\\lib\\site-packages (from jsonschema>=2.6->nbformat->notebook>=5.6.0->jupyterthemes) (2.4)\n",
      "Requirement already satisfied: uri-template in d:\\python3.11\\lib\\site-packages (from jsonschema>=2.6->nbformat->notebook>=5.6.0->jupyterthemes) (1.3.0)\n",
      "Requirement already satisfied: webcolors>=1.11 in d:\\python3.11\\lib\\site-packages (from jsonschema>=2.6->nbformat->notebook>=5.6.0->jupyterthemes) (1.13)\n",
      "Requirement already satisfied: arrow>=0.15.0 in d:\\python3.11\\lib\\site-packages (from isoduration->jsonschema>=2.6->nbformat->notebook>=5.6.0->jupyterthemes) (1.2.3)\n",
      "Installing collected packages: ply, lesscpy, jupyterthemes\n",
      "Successfully installed jupyterthemes-0.20.0 lesscpy-0.15.1 ply-3.11\n"
     ]
    },
    {
     "name": "stdout",
     "output_type": "stream",
     "text": [
      "Requirement already satisfied: jupyterthemes in d:\\python3.11\\lib\\site-packages (0.20.0)\n",
      "Requirement already satisfied: jupyter-core in d:\\python3.11\\lib\\site-packages (from jupyterthemes) (5.3.1)\n",
      "Requirement already satisfied: notebook>=5.6.0 in d:\\python3.11\\lib\\site-packages (from jupyterthemes) (6.5.4)\n",
      "Requirement already satisfied: ipython>=5.4.1 in d:\\python3.11\\lib\\site-packages (from jupyterthemes) (8.14.0)\n",
      "Requirement already satisfied: matplotlib>=1.4.3 in d:\\python3.11\\lib\\site-packages (from jupyterthemes) (3.7.1)\n",
      "Requirement already satisfied: lesscpy>=0.11.2 in d:\\python3.11\\lib\\site-packages (from jupyterthemes) (0.15.1)\n",
      "Requirement already satisfied: backcall in d:\\python3.11\\lib\\site-packages (from ipython>=5.4.1->jupyterthemes) (0.2.0)\n",
      "Requirement already satisfied: decorator in d:\\python3.11\\lib\\site-packages (from ipython>=5.4.1->jupyterthemes) (5.1.1)\n",
      "Requirement already satisfied: jedi>=0.16 in d:\\python3.11\\lib\\site-packages (from ipython>=5.4.1->jupyterthemes) (0.18.2)\n",
      "Requirement already satisfied: matplotlib-inline in d:\\python3.11\\lib\\site-packages (from ipython>=5.4.1->jupyterthemes) (0.1.6)\n",
      "Requirement already satisfied: pickleshare in d:\\python3.11\\lib\\site-packages (from ipython>=5.4.1->jupyterthemes) (0.7.5)\n",
      "Requirement already satisfied: prompt-toolkit!=3.0.37,<3.1.0,>=3.0.30 in d:\\python3.11\\lib\\site-packages (from ipython>=5.4.1->jupyterthemes) (3.0.38)\n",
      "Requirement already satisfied: pygments>=2.4.0 in d:\\python3.11\\lib\\site-packages (from ipython>=5.4.1->jupyterthemes) (2.15.1)\n",
      "Requirement already satisfied: stack-data in d:\\python3.11\\lib\\site-packages (from ipython>=5.4.1->jupyterthemes) (0.6.2)\n",
      "Requirement already satisfied: traitlets>=5 in d:\\python3.11\\lib\\site-packages (from ipython>=5.4.1->jupyterthemes) (5.9.0)\n",
      "Requirement already satisfied: colorama in d:\\python3.11\\lib\\site-packages (from ipython>=5.4.1->jupyterthemes) (0.4.6)\n",
      "Requirement already satisfied: ply in d:\\python3.11\\lib\\site-packages (from lesscpy>=0.11.2->jupyterthemes) (3.11)\n",
      "Requirement already satisfied: contourpy>=1.0.1 in d:\\python3.11\\lib\\site-packages (from matplotlib>=1.4.3->jupyterthemes) (1.0.7)\n",
      "Requirement already satisfied: cycler>=0.10 in d:\\python3.11\\lib\\site-packages (from matplotlib>=1.4.3->jupyterthemes) (0.11.0)\n",
      "Requirement already satisfied: fonttools>=4.22.0 in d:\\python3.11\\lib\\site-packages (from matplotlib>=1.4.3->jupyterthemes) (4.39.4)\n",
      "Requirement already satisfied: kiwisolver>=1.0.1 in d:\\python3.11\\lib\\site-packages (from matplotlib>=1.4.3->jupyterthemes) (1.4.4)\n",
      "Requirement already satisfied: numpy>=1.20 in d:\\python3.11\\lib\\site-packages (from matplotlib>=1.4.3->jupyterthemes) (1.23.5)\n",
      "Requirement already satisfied: packaging>=20.0 in d:\\python3.11\\lib\\site-packages (from matplotlib>=1.4.3->jupyterthemes) (23.1)\n",
      "Requirement already satisfied: pillow>=6.2.0 in d:\\python3.11\\lib\\site-packages (from matplotlib>=1.4.3->jupyterthemes) (9.5.0)\n",
      "Requirement already satisfied: pyparsing>=2.3.1 in d:\\python3.11\\lib\\site-packages (from matplotlib>=1.4.3->jupyterthemes) (3.0.9)\n",
      "Requirement already satisfied: python-dateutil>=2.7 in d:\\python3.11\\lib\\site-packages (from matplotlib>=1.4.3->jupyterthemes) (2.8.2)\n",
      "Requirement already satisfied: jinja2 in d:\\python3.11\\lib\\site-packages (from notebook>=5.6.0->jupyterthemes) (3.1.2)\n",
      "Requirement already satisfied: tornado>=6.1 in d:\\python3.11\\lib\\site-packages (from notebook>=5.6.0->jupyterthemes) (6.3.2)\n",
      "Requirement already satisfied: pyzmq>=17 in d:\\python3.11\\lib\\site-packages (from notebook>=5.6.0->jupyterthemes) (25.1.0)\n",
      "Requirement already satisfied: argon2-cffi in d:\\python3.11\\lib\\site-packages (from notebook>=5.6.0->jupyterthemes) (21.3.0)\n",
      "Requirement already satisfied: jupyter-client>=5.3.4 in d:\\python3.11\\lib\\site-packages (from notebook>=5.6.0->jupyterthemes) (8.3.0)\n",
      "Requirement already satisfied: ipython-genutils in d:\\python3.11\\lib\\site-packages (from notebook>=5.6.0->jupyterthemes) (0.2.0)\n",
      "Requirement already satisfied: nbformat in d:\\python3.11\\lib\\site-packages (from notebook>=5.6.0->jupyterthemes) (5.9.0)\n",
      "Requirement already satisfied: nbconvert>=5 in d:\\python3.11\\lib\\site-packages (from notebook>=5.6.0->jupyterthemes) (7.6.0)\n",
      "Requirement already satisfied: nest-asyncio>=1.5 in d:\\python3.11\\lib\\site-packages (from notebook>=5.6.0->jupyterthemes) (1.5.6)\n",
      "Requirement already satisfied: ipykernel in d:\\python3.11\\lib\\site-packages (from notebook>=5.6.0->jupyterthemes) (6.23.3)\n",
      "Requirement already satisfied: Send2Trash>=1.8.0 in d:\\python3.11\\lib\\site-packages (from notebook>=5.6.0->jupyterthemes) (1.8.2)\n",
      "Requirement already satisfied: terminado>=0.8.3 in d:\\python3.11\\lib\\site-packages (from notebook>=5.6.0->jupyterthemes) (0.17.1)\n",
      "Requirement already satisfied: prometheus-client in d:\\python3.11\\lib\\site-packages (from notebook>=5.6.0->jupyterthemes) (0.17.0)\n",
      "Requirement already satisfied: nbclassic>=0.4.7 in d:\\python3.11\\lib\\site-packages (from notebook>=5.6.0->jupyterthemes) (1.0.0)\n",
      "Requirement already satisfied: platformdirs>=2.5 in d:\\python3.11\\lib\\site-packages (from jupyter-core->jupyterthemes) (3.8.0)\n",
      "Requirement already satisfied: pywin32>=300 in d:\\python3.11\\lib\\site-packages (from jupyter-core->jupyterthemes) (306)\n",
      "Requirement already satisfied: parso<0.9.0,>=0.8.0 in d:\\python3.11\\lib\\site-packages (from jedi>=0.16->ipython>=5.4.1->jupyterthemes) (0.8.3)\n",
      "Requirement already satisfied: jupyter-server>=1.8 in d:\\python3.11\\lib\\site-packages (from nbclassic>=0.4.7->notebook>=5.6.0->jupyterthemes) (2.7.0)\n",
      "Requirement already satisfied: notebook-shim>=0.2.3 in d:\\python3.11\\lib\\site-packages (from nbclassic>=0.4.7->notebook>=5.6.0->jupyterthemes) (0.2.3)\n",
      "Requirement already satisfied: beautifulsoup4 in d:\\python3.11\\lib\\site-packages (from nbconvert>=5->notebook>=5.6.0->jupyterthemes) (4.12.2)\n",
      "Requirement already satisfied: bleach!=5.0.0 in d:\\python3.11\\lib\\site-packages (from nbconvert>=5->notebook>=5.6.0->jupyterthemes) (6.0.0)\n",
      "Requirement already satisfied: defusedxml in d:\\python3.11\\lib\\site-packages (from nbconvert>=5->notebook>=5.6.0->jupyterthemes) (0.7.1)\n",
      "Requirement already satisfied: jupyterlab-pygments in d:\\python3.11\\lib\\site-packages (from nbconvert>=5->notebook>=5.6.0->jupyterthemes) (0.2.2)\n",
      "Requirement already satisfied: markupsafe>=2.0 in d:\\python3.11\\lib\\site-packages (from nbconvert>=5->notebook>=5.6.0->jupyterthemes) (2.1.3)\n",
      "Requirement already satisfied: mistune<4,>=2.0.3 in d:\\python3.11\\lib\\site-packages (from nbconvert>=5->notebook>=5.6.0->jupyterthemes) (3.0.1)\n",
      "Requirement already satisfied: nbclient>=0.5.0 in d:\\python3.11\\lib\\site-packages (from nbconvert>=5->notebook>=5.6.0->jupyterthemes) (0.8.0)\n",
      "Requirement already satisfied: pandocfilters>=1.4.1 in d:\\python3.11\\lib\\site-packages (from nbconvert>=5->notebook>=5.6.0->jupyterthemes) (1.5.0)\n",
      "Requirement already satisfied: tinycss2 in d:\\python3.11\\lib\\site-packages (from nbconvert>=5->notebook>=5.6.0->jupyterthemes) (1.2.1)\n",
      "Requirement already satisfied: fastjsonschema in d:\\python3.11\\lib\\site-packages (from nbformat->notebook>=5.6.0->jupyterthemes) (2.17.1)\n",
      "Requirement already satisfied: jsonschema>=2.6 in d:\\python3.11\\lib\\site-packages (from nbformat->notebook>=5.6.0->jupyterthemes) (4.17.3)\n",
      "Requirement already satisfied: wcwidth in d:\\python3.11\\lib\\site-packages (from prompt-toolkit!=3.0.37,<3.1.0,>=3.0.30->ipython>=5.4.1->jupyterthemes) (0.2.6)\n",
      "Requirement already satisfied: six>=1.5 in d:\\python3.11\\lib\\site-packages (from python-dateutil>=2.7->matplotlib>=1.4.3->jupyterthemes) (1.16.0)\n",
      "Requirement already satisfied: pywinpty>=1.1.0 in d:\\python3.11\\lib\\site-packages (from terminado>=0.8.3->notebook>=5.6.0->jupyterthemes) (2.0.10)\n",
      "Requirement already satisfied: argon2-cffi-bindings in d:\\python3.11\\lib\\site-packages (from argon2-cffi->notebook>=5.6.0->jupyterthemes) (21.2.0)\n",
      "Requirement already satisfied: comm>=0.1.1 in d:\\python3.11\\lib\\site-packages (from ipykernel->notebook>=5.6.0->jupyterthemes) (0.1.3)\n",
      "Requirement already satisfied: debugpy>=1.6.5 in d:\\python3.11\\lib\\site-packages (from ipykernel->notebook>=5.6.0->jupyterthemes) (1.6.7)\n",
      "Requirement already satisfied: psutil in d:\\python3.11\\lib\\site-packages (from ipykernel->notebook>=5.6.0->jupyterthemes) (5.9.5)\n",
      "Requirement already satisfied: executing>=1.2.0 in d:\\python3.11\\lib\\site-packages (from stack-data->ipython>=5.4.1->jupyterthemes) (1.2.0)\n",
      "Requirement already satisfied: asttokens>=2.1.0 in d:\\python3.11\\lib\\site-packages (from stack-data->ipython>=5.4.1->jupyterthemes) (2.2.1)\n",
      "Requirement already satisfied: pure-eval in d:\\python3.11\\lib\\site-packages (from stack-data->ipython>=5.4.1->jupyterthemes) (0.2.2)\n",
      "Requirement already satisfied: webencodings in d:\\python3.11\\lib\\site-packages (from bleach!=5.0.0->nbconvert>=5->notebook>=5.6.0->jupyterthemes) (0.5.1)\n",
      "Requirement already satisfied: attrs>=17.4.0 in d:\\python3.11\\lib\\site-packages (from jsonschema>=2.6->nbformat->notebook>=5.6.0->jupyterthemes) (23.1.0)\n",
      "Requirement already satisfied: pyrsistent!=0.17.0,!=0.17.1,!=0.17.2,>=0.14.0 in d:\\python3.11\\lib\\site-packages (from jsonschema>=2.6->nbformat->notebook>=5.6.0->jupyterthemes) (0.19.3)\n",
      "Requirement already satisfied: anyio>=3.1.0 in d:\\python3.11\\lib\\site-packages (from jupyter-server>=1.8->nbclassic>=0.4.7->notebook>=5.6.0->jupyterthemes) (3.6.2)\n",
      "Requirement already satisfied: jupyter-events>=0.6.0 in d:\\python3.11\\lib\\site-packages (from jupyter-server>=1.8->nbclassic>=0.4.7->notebook>=5.6.0->jupyterthemes) (0.6.3)\n",
      "Requirement already satisfied: jupyter-server-terminals in d:\\python3.11\\lib\\site-packages (from jupyter-server>=1.8->nbclassic>=0.4.7->notebook>=5.6.0->jupyterthemes) (0.4.4)\n",
      "Requirement already satisfied: overrides in d:\\python3.11\\lib\\site-packages (from jupyter-server>=1.8->nbclassic>=0.4.7->notebook>=5.6.0->jupyterthemes) (7.3.1)\n",
      "Requirement already satisfied: websocket-client in d:\\python3.11\\lib\\site-packages (from jupyter-server>=1.8->nbclassic>=0.4.7->notebook>=5.6.0->jupyterthemes) (1.1.0)\n",
      "Requirement already satisfied: cffi>=1.0.1 in d:\\python3.11\\lib\\site-packages (from argon2-cffi-bindings->argon2-cffi->notebook>=5.6.0->jupyterthemes) (1.15.1)\n",
      "Requirement already satisfied: soupsieve>1.2 in d:\\python3.11\\lib\\site-packages (from beautifulsoup4->nbconvert>=5->notebook>=5.6.0->jupyterthemes) (2.4.1)\n",
      "Requirement already satisfied: idna>=2.8 in d:\\python3.11\\lib\\site-packages (from anyio>=3.1.0->jupyter-server>=1.8->nbclassic>=0.4.7->notebook>=5.6.0->jupyterthemes) (3.4)\n",
      "Requirement already satisfied: sniffio>=1.1 in d:\\python3.11\\lib\\site-packages (from anyio>=3.1.0->jupyter-server>=1.8->nbclassic>=0.4.7->notebook>=5.6.0->jupyterthemes) (1.3.0)\n",
      "Requirement already satisfied: pycparser in d:\\python3.11\\lib\\site-packages (from cffi>=1.0.1->argon2-cffi-bindings->argon2-cffi->notebook>=5.6.0->jupyterthemes) (2.21)\n",
      "Requirement already satisfied: python-json-logger>=2.0.4 in d:\\python3.11\\lib\\site-packages (from jupyter-events>=0.6.0->jupyter-server>=1.8->nbclassic>=0.4.7->notebook>=5.6.0->jupyterthemes) (2.0.7)\n",
      "Requirement already satisfied: pyyaml>=5.3 in d:\\python3.11\\lib\\site-packages (from jupyter-events>=0.6.0->jupyter-server>=1.8->nbclassic>=0.4.7->notebook>=5.6.0->jupyterthemes) (6.0)\n",
      "Requirement already satisfied: rfc3339-validator in d:\\python3.11\\lib\\site-packages (from jupyter-events>=0.6.0->jupyter-server>=1.8->nbclassic>=0.4.7->notebook>=5.6.0->jupyterthemes) (0.1.4)\n",
      "Requirement already satisfied: rfc3986-validator>=0.1.1 in d:\\python3.11\\lib\\site-packages (from jupyter-events>=0.6.0->jupyter-server>=1.8->nbclassic>=0.4.7->notebook>=5.6.0->jupyterthemes) (0.1.1)\n",
      "Requirement already satisfied: fqdn in d:\\python3.11\\lib\\site-packages (from jsonschema>=2.6->nbformat->notebook>=5.6.0->jupyterthemes) (1.5.1)\n",
      "Requirement already satisfied: isoduration in d:\\python3.11\\lib\\site-packages (from jsonschema>=2.6->nbformat->notebook>=5.6.0->jupyterthemes) (20.11.0)\n",
      "Requirement already satisfied: jsonpointer>1.13 in d:\\python3.11\\lib\\site-packages (from jsonschema>=2.6->nbformat->notebook>=5.6.0->jupyterthemes) (2.4)\n",
      "Requirement already satisfied: uri-template in d:\\python3.11\\lib\\site-packages (from jsonschema>=2.6->nbformat->notebook>=5.6.0->jupyterthemes) (1.3.0)\n",
      "Requirement already satisfied: webcolors>=1.11 in d:\\python3.11\\lib\\site-packages (from jsonschema>=2.6->nbformat->notebook>=5.6.0->jupyterthemes) (1.13)\n",
      "Requirement already satisfied: arrow>=0.15.0 in d:\\python3.11\\lib\\site-packages (from isoduration->jsonschema>=2.6->nbformat->notebook>=5.6.0->jupyterthemes) (1.2.3)\n"
     ]
    },
    {
     "name": "stderr",
     "output_type": "stream",
     "text": [
      "\n",
      "[notice] A new release of pip is available: 23.1.2 -> 23.3.2\n",
      "[notice] To update, run: python.exe -m pip install --upgrade pip\n"
     ]
    }
   ],
   "source": [
    "# install jupyterthemes\n",
    "!pip install jupyterthemes \n",
    "\n",
    "# upgrade to latest version\n",
    "!pip install --upgrade jupyterthemes "
   ]
  },
  {
   "cell_type": "code",
   "execution_count": 3,
   "id": "d77010f0",
   "metadata": {},
   "outputs": [
    {
     "name": "stdout",
     "output_type": "stream",
     "text": [
      "Available Themes: \n",
      "   chesterish\n",
      "   grade3\n",
      "   gruvboxd\n",
      "   gruvboxl\n",
      "   monokai\n",
      "   oceans16\n",
      "   onedork\n",
      "   solarizedd\n",
      "   solarizedl\n"
     ]
    }
   ],
   "source": [
    "!jt -l"
   ]
  },
  {
   "cell_type": "code",
   "execution_count": 10,
   "id": "dd6b586b",
   "metadata": {
    "scrolled": true
   },
   "outputs": [
    {
     "name": "stdout",
     "output_type": "stream",
     "text": [
      "Reset css and font defaults in:\n",
      "C:\\Users\\Admin\\.jupyter\\custom &\n",
      "C:\\Users\\Admin\\AppData\\Roaming\\jupyter\\nbextensions\n"
     ]
    }
   ],
   "source": [
    "!jt -r"
   ]
  },
  {
   "cell_type": "code",
   "execution_count": 9,
   "id": "ce8ba7f1",
   "metadata": {},
   "outputs": [],
   "source": [
    "!jt -t chesterish"
   ]
  },
  {
   "cell_type": "markdown",
   "id": "96fecfb6",
   "metadata": {},
   "source": [
    "<div class=\"alert alert-block alert-info\">\n",
    "    <h3> Python Date time</h3>\n",
    "    github.com/Asabeneh/30-Days-Of-Python/blob/master/16_Day_Python_date_time/\n",
    "</div>"
   ]
  },
  {
   "cell_type": "markdown",
   "id": "ca3fac18",
   "metadata": {},
   "source": [
    "### Python datetime"
   ]
  },
  {
   "cell_type": "code",
   "execution_count": 1,
   "id": "7407c92f",
   "metadata": {},
   "outputs": [
    {
     "name": "stdout",
     "output_type": "stream",
     "text": [
      "['MAXYEAR', 'MINYEAR', 'UTC', '__all__', '__builtins__', '__cached__', '__doc__', '__file__', '__loader__', '__name__', '__package__', '__spec__', 'date', 'datetime', 'datetime_CAPI', 'sys', 'time', 'timedelta', 'timezone', 'tzinfo']\n"
     ]
    }
   ],
   "source": [
    "import datetime\n",
    "print(dir(datetime))"
   ]
  },
  {
   "cell_type": "markdown",
   "id": "e7d8a3a7",
   "metadata": {},
   "source": [
    "With 'dir' or 'help', it shows us about the available functions in a certain module.\n",
    "There are many function, the main points are *date, datetime,* and *timedelta*"
   ]
  },
  {
   "cell_type": "markdown",
   "id": "5d35bcf1",
   "metadata": {},
   "source": [
    "### Getting datetime Infomation"
   ]
  },
  {
   "cell_type": "code",
   "execution_count": 2,
   "id": "ab706dcd",
   "metadata": {},
   "outputs": [
    {
     "name": "stdout",
     "output_type": "stream",
     "text": [
      "2023-12-09 20:59:56.708705\n"
     ]
    }
   ],
   "source": [
    "from datetime import datetime\n",
    "now = datetime.now()\n",
    "print(now)"
   ]
  },
  {
   "cell_type": "code",
   "execution_count": 6,
   "id": "95413276",
   "metadata": {},
   "outputs": [
    {
     "name": "stdout",
     "output_type": "stream",
     "text": [
      "9 12 2023 20 59\n",
      "timestamp: 1702130396.708705\n",
      "9/12/2023, 20:59\n"
     ]
    }
   ],
   "source": [
    "day = now.day\n",
    "month = now.month\n",
    "year = now.year\n",
    "hour = now.hour\n",
    "minute = now.minute\n",
    "second = now.second\n",
    "timestamp = now.timestamp()\n",
    "\n",
    "print(day,month,year,hour,minute)\n",
    "print('timestamp:', timestamp)\n",
    "print(f'{day}/{month}/{year}, {hour}:{minute}')"
   ]
  },
  {
   "cell_type": "markdown",
   "id": "3414b208",
   "metadata": {},
   "source": [
    "**Timestamp** or **Unix timestamp** is the number of seconds elapsed from 1st of January 1970 UTC"
   ]
  },
  {
   "cell_type": "code",
   "execution_count": 13,
   "id": "93143782",
   "metadata": {},
   "outputs": [
    {
     "name": "stdout",
     "output_type": "stream",
     "text": [
      "0.0\n"
     ]
    }
   ],
   "source": [
    "New_timestamp = now.timestamp()\n",
    "print(New_timestamp - timestamp)"
   ]
  },
  {
   "cell_type": "markdown",
   "id": "16bc4211",
   "metadata": {},
   "source": [
    "### Formatting Date Output using strftime"
   ]
  },
  {
   "cell_type": "code",
   "execution_count": 16,
   "id": "900ce3a9",
   "metadata": {},
   "outputs": [
    {
     "name": "stdout",
     "output_type": "stream",
     "text": [
      "time: 21:08:05\n"
     ]
    }
   ],
   "source": [
    "from datetime import datetime\n",
    "#current date and time\n",
    "now = datetime.now()\n",
    "t = now.strftime(\"%H:%M:%S\")\n",
    "print(\"time:\",t)\n"
   ]
  },
  {
   "cell_type": "code",
   "execution_count": 27,
   "id": "f3436cf8",
   "metadata": {},
   "outputs": [
    {
     "name": "stdout",
     "output_type": "stream",
     "text": [
      "time one: 12/09/2023, 21:08:05\n"
     ]
    }
   ],
   "source": [
    "# mm/dd/YY H:M:S format\n",
    "time_one = now.strftime(\"%m/%d/%Y, %H:%M:%S\")\n",
    "print(\"time one:\", time_one)"
   ]
  },
  {
   "cell_type": "code",
   "execution_count": 24,
   "id": "f9424755",
   "metadata": {},
   "outputs": [
    {
     "name": "stdout",
     "output_type": "stream",
     "text": [
      "time two: 09/12/2023, 21:08:05\n"
     ]
    }
   ],
   "source": [
    "# dd/mm/YY H:M:S format\n",
    "time_two = now.strftime(\"%d/%m/%Y, %H:%M:%S\")\n",
    "print(\"time two:\", time_two)"
   ]
  },
  {
   "cell_type": "code",
   "execution_count": 29,
   "id": "adec03b3",
   "metadata": {},
   "outputs": [
    {
     "name": "stdout",
     "output_type": "stream",
     "text": [
      "343\n"
     ]
    }
   ],
   "source": [
    "print(now.strftime(\"%j\"))"
   ]
  },
  {
   "cell_type": "code",
   "execution_count": 36,
   "id": "e14fecd8",
   "metadata": {},
   "outputs": [
    {
     "data": {
      "text/html": [
       "<img src=\"https://raw.githubusercontent.com/Asabeneh/30-Days-Of-Python/master/images/strftime.png\" width=\"1000\" height=\"1050\"/>"
      ],
      "text/plain": [
       "<IPython.core.display.Image object>"
      ]
     },
     "execution_count": 36,
     "metadata": {},
     "output_type": "execute_result"
    }
   ],
   "source": [
    "from IPython.display import Image\n",
    "from IPython.core.display import HTML\n",
    "Image(url=\"https://raw.githubusercontent.com/Asabeneh/30-Days-Of-Python/master/images/strftime.png\",\n",
    "      width=1000, height=1050)"
   ]
  },
  {
   "cell_type": "markdown",
   "id": "450aa22d",
   "metadata": {},
   "source": [
    "### String to Time Using strptime"
   ]
  },
  {
   "cell_type": "code",
   "execution_count": 40,
   "id": "61635674",
   "metadata": {},
   "outputs": [
    {
     "name": "stdout",
     "output_type": "stream",
     "text": [
      "date_string= 5 December, 2019\n",
      "date_object= 2019-12-05 00:00:00\n"
     ]
    }
   ],
   "source": [
    "from datetime import datetime\n",
    "date_string = \"5 December, 2019\"\n",
    "print(\"date_string=\",date_string)\n",
    "date_object = datetime.strptime(date_string,\"%d %B, %Y\")\n",
    "print(\"date_object=\",date_object)"
   ]
  },
  {
   "cell_type": "markdown",
   "id": "0b85f179",
   "metadata": {},
   "source": [
    "- %Y: 4-digit year\n",
    "- %y: 2-digit year\n",
    "- %m: 2-digit month (01-12)\n",
    "- %d: 2-digit day of the month (01-31)\n",
    "- %H: 2-digit hour (00-23)\n",
    "- %M: 2-digit minute(00-59)\n",
    "- %S: 2-digit second(00-59)  \n",
    "https://www.datacamp.com/tutorial/converting-strings-datetime-objects\n"
   ]
  },
  {
   "cell_type": "markdown",
   "id": "c1d3dd07",
   "metadata": {},
   "source": [
    "### Using date from datetime"
   ]
  },
  {
   "cell_type": "code",
   "execution_count": 55,
   "id": "7f3d8671",
   "metadata": {},
   "outputs": [
    {
     "name": "stdout",
     "output_type": "stream",
     "text": [
      "2023-12-09\n",
      "Current date: 2023-12-09\n",
      "Current year: 2023\n",
      "Current month: 12\n",
      "Current day: 9\n"
     ]
    }
   ],
   "source": [
    "from datetime import date\n",
    "d = date(2023,12,9)\n",
    "print(d)\n",
    "print('Current date:',d.today())\n",
    "\n",
    "#date object of today's date\n",
    "today = date.today()\n",
    "print(\"Current year:\",today.year)\n",
    "print(\"Current month:\",today.month)\n",
    "print(\"Current day:\",today.day)"
   ]
  },
  {
   "cell_type": "markdown",
   "id": "d70a1118",
   "metadata": {},
   "source": [
    "### Time Objects to Represent Time"
   ]
  },
  {
   "cell_type": "code",
   "execution_count": 57,
   "id": "2a7483e7",
   "metadata": {},
   "outputs": [
    {
     "name": "stdout",
     "output_type": "stream",
     "text": [
      "00:00:00\n"
     ]
    }
   ],
   "source": [
    "from datetime import time\n",
    "a = time()\n",
    "print(a)"
   ]
  },
  {
   "cell_type": "code",
   "execution_count": 59,
   "id": "5cad8154",
   "metadata": {},
   "outputs": [
    {
     "name": "stdout",
     "output_type": "stream",
     "text": [
      "10:30:50\n"
     ]
    }
   ],
   "source": [
    "b = time(10,30,50)\n",
    "print(b)"
   ]
  },
  {
   "cell_type": "code",
   "execution_count": 60,
   "id": "88519f75",
   "metadata": {},
   "outputs": [
    {
     "name": "stdout",
     "output_type": "stream",
     "text": [
      "10:30:50\n"
     ]
    }
   ],
   "source": [
    "c = time(hour=10,minute=30,second=50)\n",
    "print(c)"
   ]
  },
  {
   "cell_type": "code",
   "execution_count": 61,
   "id": "45b30b77",
   "metadata": {},
   "outputs": [
    {
     "name": "stdout",
     "output_type": "stream",
     "text": [
      "d = 10:30:50.200555\n"
     ]
    }
   ],
   "source": [
    "d = time(10,30,50,200555)\n",
    "print(\"d =\",d)"
   ]
  },
  {
   "cell_type": "markdown",
   "id": "096f5a27",
   "metadata": {},
   "source": [
    "### Difference two points in time using"
   ]
  },
  {
   "cell_type": "code",
   "execution_count": 69,
   "id": "6ac580b4",
   "metadata": {},
   "outputs": [
    {
     "name": "stdout",
     "output_type": "stream",
     "text": [
      "Time left for new years: 31 days, 0:00:00\n",
      "Time left: 30 days, 23:30:00\n"
     ]
    }
   ],
   "source": [
    "today = date(year=2023, month=12, day=9)\n",
    "new_year = date(2024, month=1, day = 9)\n",
    "time_left = new_year - today\n",
    "\n",
    "print(\"Time left for new years:\",time_left)\n",
    "\n",
    "#Hours\n",
    "t1 = datetime(day=9, month = 12, year=2023,hour = 0, minute=59, second = 10)\n",
    "t2 = datetime(day=9, month = 1, year=2024,hour = 0, minute=29, second = 10)\n",
    "print('Time left:', t2-t1)"
   ]
  },
  {
   "cell_type": "markdown",
   "id": "321b11d1",
   "metadata": {},
   "source": [
    "Or we can use **timedelta**"
   ]
  },
  {
   "cell_type": "code",
   "execution_count": 70,
   "id": "a6993412",
   "metadata": {},
   "outputs": [
    {
     "name": "stdout",
     "output_type": "stream",
     "text": [
      "t3 = 86 days, 22:56:50\n"
     ]
    }
   ],
   "source": [
    "from datetime import timedelta\n",
    "t1 = timedelta(weeks=12, days=10, hours=4, seconds=20)\n",
    "t2 = timedelta(days=7, hours=5, minutes=3, seconds=30)\n",
    "t3 = t1 - t2\n",
    "print(\"t3 =\", t3)"
   ]
  },
  {
   "cell_type": "markdown",
   "id": "ebe275f1",
   "metadata": {},
   "source": [
    "<span style=color:green> \n",
    "    <h3> Exercises </h3>\n",
    "</span>"
   ]
  },
  {
   "cell_type": "markdown",
   "id": "eebfe0bc",
   "metadata": {},
   "source": [
    "1. Get the current day, month, year, hour, minute and timestamp from datetime module"
   ]
  },
  {
   "cell_type": "code",
   "execution_count": 81,
   "id": "f6eb1a98",
   "metadata": {},
   "outputs": [
    {
     "name": "stdout",
     "output_type": "stream",
     "text": [
      "Current day, month, year, hour, minute and timestamp\n",
      "9/12/2023, 21:36, 1702132595.72469\n"
     ]
    }
   ],
   "source": [
    "from datetime import datetime\n",
    "\n",
    "day = datetime.now().day\n",
    "month = datetime.now().month\n",
    "year = datetime.now().year\n",
    "hour, minute, timestamp = datetime.now().hour, datetime.now().minute, datetime.now().timestamp()\n",
    "\n",
    "print(\"Current day, month, year, hour, minute and timestamp\")\n",
    "print(f\"{day}/{month}/{year}, {hour}:{minute}, {timestamp}\")"
   ]
  },
  {
   "cell_type": "code",
   "execution_count": 83,
   "id": "d9b440b7",
   "metadata": {},
   "outputs": [
    {
     "data": {
      "text/plain": [
       "2199.0159850120544"
      ]
     },
     "execution_count": 83,
     "metadata": {},
     "output_type": "execute_result"
    }
   ],
   "source": [
    "timestamp - New_timestamp"
   ]
  },
  {
   "cell_type": "markdown",
   "id": "7f371f05",
   "metadata": {},
   "source": [
    "2. Format the current date using this format: %m/%d/%Y, %H:%M:%S"
   ]
  },
  {
   "cell_type": "code",
   "execution_count": 4,
   "id": "d79cae17",
   "metadata": {},
   "outputs": [
    {
     "data": {
      "text/plain": [
       "'12/25/2023, 06:26:33'"
      ]
     },
     "execution_count": 4,
     "metadata": {},
     "output_type": "execute_result"
    }
   ],
   "source": [
    "from datetime import datetime\n",
    "now = datetime.now()\n",
    "date = now.strftime(\"%m/%d/%Y, %H:%M:%S\")\n",
    "date"
   ]
  },
  {
   "cell_type": "markdown",
   "id": "b75e3f1b",
   "metadata": {},
   "source": [
    "3. Today is 5 December, 2019. Change this time string to time."
   ]
  },
  {
   "cell_type": "code",
   "execution_count": 9,
   "id": "a91f0814",
   "metadata": {},
   "outputs": [
    {
     "name": "stdout",
     "output_type": "stream",
     "text": [
      "Today is 2019-12-05 00:00:00\n"
     ]
    }
   ],
   "source": [
    "from datetime import datetime\n",
    "today = \"5 December, 2019\"\n",
    "todayftm = datetime.strptime(today,\"%d %B, %Y\")\n",
    "print(\"Today is\",todayftm)"
   ]
  },
  {
   "cell_type": "markdown",
   "id": "d5ed6ad2",
   "metadata": {},
   "source": [
    "4. Calculate the time difference between now and new year"
   ]
  },
  {
   "cell_type": "code",
   "execution_count": 7,
   "id": "5c94b612",
   "metadata": {},
   "outputs": [
    {
     "name": "stdout",
     "output_type": "stream",
     "text": [
      "6 days, 2:55:24.734861\n"
     ]
    }
   ],
   "source": [
    "from datetime import datetime\n",
    "now = datetime.now()\n",
    "newYear = datetime(day = 1, month=1, year=2024, hour=0, minute=0, second=0)\n",
    "\n",
    "print(newYear - now)"
   ]
  },
  {
   "cell_type": "markdown",
   "id": "72085cd3",
   "metadata": {},
   "source": [
    "5. Calculate the time difference between 1 January 1970 and now"
   ]
  },
  {
   "cell_type": "code",
   "execution_count": 9,
   "id": "ab58c151",
   "metadata": {},
   "outputs": [
    {
     "name": "stdout",
     "output_type": "stream",
     "text": [
      "It was\n",
      "19716 days, 21:07:59.272933\n"
     ]
    }
   ],
   "source": [
    "from datetime import datetime\n",
    "now = datetime.now()\n",
    "date = datetime(year=1970, month=1, day=1, hour=0,minute=0,second=0)\n",
    "\n",
    "print('It was')\n",
    "print(now-date)"
   ]
  },
  {
   "cell_type": "markdown",
   "id": "f9fb7253",
   "metadata": {},
   "source": [
    "6. We can use the datetime module for:\n",
    "- Time Series Analysis: `datetime`, `date`, `time`, `timedelta` to represent the duration of date and time.\n",
    "- Logging and Timestamps: everytime working with logging applications, `datetime` can be used to timestamp to record when events occurred.\n",
    "- Web development: tracking data, timestamps information, handling user session expiration, etc\n",
    "- Scheduled Tasks and Automation\n",
    "- Comparing and Calculating Durations\n",
    "- Databases Operations: timestamps for record everytime we interact with Databases"
   ]
  },
  {
   "cell_type": "markdown",
   "id": "f72bf17a",
   "metadata": {},
   "source": [
    "<div class=\"alert alert-block alert-info\"> \n",
    "    <h3><b> End Day </b></h3>\n",
    "</div>"
   ]
  }
 ],
 "metadata": {
  "kernelspec": {
   "display_name": "Python 3 (ipykernel)",
   "language": "python",
   "name": "python3"
  },
  "language_info": {
   "codemirror_mode": {
    "name": "ipython",
    "version": 3
   },
   "file_extension": ".py",
   "mimetype": "text/x-python",
   "name": "python",
   "nbconvert_exporter": "python",
   "pygments_lexer": "ipython3",
   "version": "3.11.3"
  }
 },
 "nbformat": 4,
 "nbformat_minor": 5
}
