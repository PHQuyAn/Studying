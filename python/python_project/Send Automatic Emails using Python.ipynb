{
 "cells": [
  {
   "cell_type": "markdown",
   "id": "698ae12b",
   "metadata": {},
   "source": [
    "<div class = \"alert alert-block alert-info\">\n",
    "    <h2> Send Automatic Emails using Python </h2>\n",
    "    https://thecleverprogrammer.com/2021/01/14/python-projects-with-source-code/\n",
    "</div>"
   ]
  },
  {
   "cell_type": "markdown",
   "id": "2cb7f672",
   "metadata": {},
   "source": [
    "<span style = color:green>\n",
    "    <h3> 2 steps verifications </h3>\n",
    "</span>\n",
    "\n",
    "- Go to 'Manage your Account'\n",
    "- Turn on 2 steps verifications at the gmail account that want to send\n",
    "- Create password from \"App Password\" (Can find by 'search box')\n",
    "- Use this Password for this program"
   ]
  },
  {
   "cell_type": "code",
   "execution_count": 32,
   "id": "ca302c23",
   "metadata": {},
   "outputs": [],
   "source": [
    "import smtplib\n",
    "import getpass\n",
    "\n",
    "def automatic_email(email, email_received, password):\n",
    "    #Using smtplib\n",
    "    session = smtplib.SMTP('smtp.gmail.com', 587)\n",
    "    session.starttls()\n",
    "    session.login(email_received, password)\n",
    "    \n",
    "    #Send mail\n",
    "    mail_content = '''Subject: Hello. \\n\n",
    "    Finally, I can send this email for you\n",
    "    Hope you have good experiences\n",
    "    Thank you and Welcome.\n",
    "    '''\n",
    "    \n",
    "    session.sendmail(email, email_received, mail_content)\n",
    "    print('Mail sent')"
   ]
  },
  {
   "cell_type": "code",
   "execution_count": 33,
   "id": "fbb1ac3a",
   "metadata": {
    "scrolled": true
   },
   "outputs": [
    {
     "name": "stdout",
     "output_type": "stream",
     "text": [
      "Email:  lalaland19072000@gmail.com\n",
      "Password: ········\n",
      "Mail sent\n"
     ]
    }
   ],
   "source": [
    "email_sent = 'lalaland19072000@gmail.com'\n",
    "email = 'lalaland19072000@gmail.com'\n",
    "print('Email: ',email)\n",
    "password = getpass.getpass('Password: ')\n",
    "automatic_email(email_sent,email,password)"
   ]
  }
 ],
 "metadata": {
  "kernelspec": {
   "display_name": "Python 3 (ipykernel)",
   "language": "python",
   "name": "python3"
  },
  "language_info": {
   "codemirror_mode": {
    "name": "ipython",
    "version": 3
   },
   "file_extension": ".py",
   "mimetype": "text/x-python",
   "name": "python",
   "nbconvert_exporter": "python",
   "pygments_lexer": "ipython3",
   "version": "3.11.3"
  }
 },
 "nbformat": 4,
 "nbformat_minor": 5
}
