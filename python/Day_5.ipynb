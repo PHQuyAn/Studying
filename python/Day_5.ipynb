{
 "cells": [
  {
   "cell_type": "markdown",
   "id": "430501ae",
   "metadata": {},
   "source": [
    "<div class = 'alert alert-block alert-info'>\n",
    "<h3> Review Loops </h3>\n",
    "https://github.com/Asabeneh/30-Days-Of-Python/\n",
    "</div>"
   ]
  },
  {
   "cell_type": "markdown",
   "id": "54543996",
   "metadata": {},
   "source": [
    "**3. Go to the data folder and use the countries_data.py file**  \n",
    "```\n",
    "I. Total number of languages  \n",
    "II. Ten most spoken languages  \n",
    "III. 10 most populated countries in the world  \n",
    "```"
   ]
  },
  {
   "cell_type": "code",
   "execution_count": 1,
   "id": "c2186878",
   "metadata": {},
   "outputs": [],
   "source": [
    "from Data.countries_data import countries"
   ]
  },
  {
   "cell_type": "code",
   "execution_count": 8,
   "id": "ef5e3b01",
   "metadata": {},
   "outputs": [],
   "source": [
    "from collections import Counter"
   ]
  },
  {
   "cell_type": "code",
   "execution_count": 11,
   "id": "c2ae4170",
   "metadata": {},
   "outputs": [
    {
     "name": "stdout",
     "output_type": "stream",
     "text": [
      "Total number of languages: 112\n"
     ]
    }
   ],
   "source": [
    "def countLanguages(data):\n",
    "    languages = []\n",
    "    for country in data:\n",
    "        for language in country['languages']:\n",
    "            languages.append(language)\n",
    "            \n",
    "    return len(set(languages))\n",
    "    \n",
    "print('Total number of languages:',countLanguages(countries))"
   ]
  },
  {
   "cell_type": "code",
   "execution_count": 16,
   "id": "2fcb341d",
   "metadata": {},
   "outputs": [
    {
     "data": {
      "text/plain": [
       "[('English', 91),\n",
       " ('French', 45),\n",
       " ('Arabic', 25),\n",
       " ('Spanish', 24),\n",
       " ('Portuguese', 9),\n",
       " ('Russian', 9),\n",
       " ('Dutch', 8),\n",
       " ('German', 7),\n",
       " ('Chinese', 5),\n",
       " ('Serbian', 4),\n",
       " ('Swahili', 4),\n",
       " ('Italian', 4),\n",
       " ('Swedish', 3),\n",
       " ('Albanian', 3),\n",
       " ('Croatian', 3),\n",
       " ('Norwegian', 3),\n",
       " ('Uzbek', 2),\n",
       " ('Turkmen', 2),\n",
       " ('Samoan', 2),\n",
       " ('Guaraní', 2)]"
      ]
     },
     "execution_count": 16,
     "metadata": {},
     "output_type": "execute_result"
    }
   ],
   "source": [
    "def mostLanguages(data, top):\n",
    "    #Get all languages\n",
    "    languages = []\n",
    "    for country in data:\n",
    "        for language in country['languages']:\n",
    "            languages.append(language)\n",
    "            \n",
    "    #Count and give the result\n",
    "    topLanguages = Counter(languages).most_common(top)\n",
    "    return topLanguages\n",
    "        \n",
    "    \n",
    "# Top languages from countries data\n",
    "mostLanguages(countries, 20)"
   ]
  },
  {
   "cell_type": "code",
   "execution_count": 23,
   "id": "6d88a224",
   "metadata": {},
   "outputs": [
    {
     "data": {
      "text/plain": [
       "[{'name': 'China', 'population': 1377422166},\n",
       " {'name': 'India', 'population': 1295210000},\n",
       " {'name': 'United States of America', 'population': 323947000},\n",
       " {'name': 'Indonesia', 'population': 258705000},\n",
       " {'name': 'Brazil', 'population': 206135893},\n",
       " {'name': 'Pakistan', 'population': 194125062},\n",
       " {'name': 'Nigeria', 'population': 186988000},\n",
       " {'name': 'Bangladesh', 'population': 161006790},\n",
       " {'name': 'Russian Federation', 'population': 146599183},\n",
       " {'name': 'Japan', 'population': 126960000}]"
      ]
     },
     "execution_count": 23,
     "metadata": {},
     "output_type": "execute_result"
    }
   ],
   "source": [
    "def populatedCountries(data, top):\n",
    "    popCountries = []\n",
    "    for country in data:\n",
    "        popData = {\n",
    "                    'name': country['name'],\n",
    "                    'population': country['population']\n",
    "                  }\n",
    "        popCountries.append(popData)\n",
    "        \n",
    "    popCountries = sorted(popCountries, key = lambda x: x['population'],\n",
    "                         reverse = True)\n",
    "    results = []\n",
    "    for i in range(0,top):\n",
    "        results.append(popCountries[i])\n",
    "    return results\n",
    "    \n",
    "populatedCountries(countries, 10)"
   ]
  },
  {
   "cell_type": "markdown",
   "id": "9e761be1",
   "metadata": {},
   "source": [
    "<div class = 'alert alert-block alert-info'>\n",
    "    <h3> Modules Review </h3>\n",
    "    https://github.com/Asabeneh/30-Days-Of-Python/\n",
    "</div>"
   ]
  },
  {
   "cell_type": "markdown",
   "id": "ab399c9f",
   "metadata": {},
   "source": [
    "**Write a module can generate rgb colors and hexa colors. Using this module to generate type of color that user wants**"
   ]
  },
  {
   "cell_type": "code",
   "execution_count": 9,
   "id": "25c44eb4",
   "metadata": {},
   "outputs": [
    {
     "name": "stdout",
     "output_type": "stream",
     "text": [
      "Let's input (type 'RGB' or 'hexa'):\n",
      "RGB or Hexa colors: HHexa\n",
      "\n",
      "(just type 'RGB' or 'hexa')\n",
      "Type input wrong, please type the input again: hexa\n",
      "#3A5136\n"
     ]
    },
    {
     "data": {
      "image/png": "[encoded data removed]",
      "text/plain": [
       "<Figure size 640x480 with 1 Axes>"
      ]
     },
     "metadata": {},
     "output_type": "display_data"
    }
   ],
   "source": [
    "from Color_Generation import *\n",
    "\n",
    "'''\n",
    "Color_Generation has: \n",
    "    - generate_rgb_color()\n",
    "    - generate_hexa_color()\n",
    "    - show_rgbColor()\n",
    "    - show_hexaColor()\n",
    "'''\n",
    "\n",
    "print(\"Let's input (type 'RGB' or 'hexa'):\")\n",
    "typeColor = input('RGB or Hexa colors: ')\n",
    "\n",
    "print()\n",
    "#Show color\n",
    "while True:\n",
    "    if typeColor.lower() == 'rgb':\n",
    "        color = generate_rgb_color()\n",
    "        print(color)\n",
    "        show_rgbColor(color)\n",
    "        break\n",
    "    elif typeColor.lower() == 'hexa':\n",
    "        color = generate_hexa_color()\n",
    "        print(color)\n",
    "        show_hexaColor(color)\n",
    "        break\n",
    "    else:\n",
    "        print(\"(just type 'RGB' or 'hexa')\")\n",
    "        typeColor = input('Type input wrong, please type the input again: ')"
   ]
  },
  {
   "cell_type": "markdown",
   "id": "4fda39c1",
   "metadata": {},
   "source": [
    "<div class = 'alert alert-block alert-info'> \n",
    "    <h3> Review List comprehension</h3>\n",
    "    https://github.com/Asabeneh/30-Days-Of-Python/\n",
    "</div>"
   ]
  },
  {
   "cell_type": "markdown",
   "id": "2e76fc2d",
   "metadata": {},
   "source": [
    "**Example:**\n",
    "Lambda Function"
   ]
  },
  {
   "cell_type": "code",
   "execution_count": 10,
   "id": "52d56480",
   "metadata": {},
   "outputs": [
    {
     "data": {
      "text/plain": [
       "8"
      ]
     },
     "execution_count": 10,
     "metadata": {},
     "output_type": "execute_result"
    }
   ],
   "source": [
    "add_two_nums = lambda a,b: a+b\n",
    "add_two_nums(3,5)"
   ]
  },
  {
   "cell_type": "code",
   "execution_count": 11,
   "id": "74b6be14",
   "metadata": {},
   "outputs": [
    {
     "data": {
      "text/plain": [
       "78"
      ]
     },
     "execution_count": 11,
     "metadata": {},
     "output_type": "execute_result"
    }
   ],
   "source": [
    "#Multiple variables\n",
    "multiple_variables = lambda a, b, c: a**2 - 3*b + 4*c\n",
    "multiple_variables(10, 10, 2)"
   ]
  },
  {
   "cell_type": "code",
   "execution_count": 12,
   "id": "f7fd501e",
   "metadata": {},
   "outputs": [
    {
     "name": "stdout",
     "output_type": "stream",
     "text": [
      "8\n"
     ]
    }
   ],
   "source": [
    "def power(x):\n",
    "    return lambda n : x ** n\n",
    "\n",
    "cube = power(2)(3)   # function power now need 2 arguments to run, in separate rounded brackets\n",
    "print(cube)  #2^3"
   ]
  },
  {
   "cell_type": "markdown",
   "id": "9b4908bf",
   "metadata": {},
   "source": [
    "**1. Filter only negative and zero in the list using list comprehension**\n",
    "```\n",
    "numbers = [-4, -3, -2, -1, 0, 2, 4, 6]\n",
    "```"
   ]
  },
  {
   "cell_type": "code",
   "execution_count": 14,
   "id": "27f0cfdc",
   "metadata": {},
   "outputs": [
    {
     "name": "stdout",
     "output_type": "stream",
     "text": [
      "[-4, -3, -2, -1]\n"
     ]
    }
   ],
   "source": [
    "numbers = [-4, -3, -2, -1, 0, 2, 4, 6]\n",
    "\n",
    "negNumbers = [i for i in numbers if i<0]\n",
    "print(negNumbers)"
   ]
  },
  {
   "cell_type": "markdown",
   "id": "c50e7afb",
   "metadata": {},
   "source": [
    "**2. Flatten the following list of lists of lists to a one dimensional list:**\n",
    "```\n",
    "list_of_lists =[[[1, 2, 3]], [[4, 5, 6]], [[7, 8, 9]]]\n",
    "\n",
    "output\n",
    "[1, 2, 3, 4, 5, 6, 7, 8, 9]\n",
    "```"
   ]
  },
  {
   "cell_type": "code",
   "execution_count": 17,
   "id": "23a061de",
   "metadata": {},
   "outputs": [
    {
     "name": "stdout",
     "output_type": "stream",
     "text": [
      "[1, 2, 3, 4, 5, 6, 7, 8, 9]\n"
     ]
    }
   ],
   "source": [
    "list_of_lists =[[[1, 2, 3]], [[4, 5, 6]], [[7, 8, 9]]]\n",
    "\n",
    "flattenList = [number for list_in in list_of_lists for row in list_in for number in row]\n",
    "print(flattenList)"
   ]
  },
  {
   "cell_type": "markdown",
   "id": "c663a84a",
   "metadata": {},
   "source": [
    "**3. Using list comprehension create the following list of tuples:**\n",
    "```\n",
    "[(0, 1, 0, 0, 0, 0, 0),\n",
    "(1, 1, 1, 1, 1, 1, 1),\n",
    "(2, 1, 2, 4, 8, 16, 32),\n",
    "(3, 1, 3, 9, 27, 81, 243),\n",
    "(4, 1, 4, 16, 64, 256, 1024),\n",
    "(5, 1, 5, 25, 125, 625, 3125),\n",
    "(6, 1, 6, 36, 216, 1296, 7776),\n",
    "(7, 1, 7, 49, 343, 2401, 16807),\n",
    "(8, 1, 8, 64, 512, 4096, 32768),\n",
    "(9, 1, 9, 81, 729, 6561, 59049),\n",
    "(10, 1, 10, 100, 1000, 10000, 100000)]\n",
    "```"
   ]
  },
  {
   "cell_type": "code",
   "execution_count": 32,
   "id": "4a5ca5f6",
   "metadata": {},
   "outputs": [
    {
     "data": {
      "text/plain": [
       "[(0, 1, 0, 0, 0, 0, 0),\n",
       " (1, 1, 1, 1, 1, 1, 1),\n",
       " (2, 1, 2, 4, 8, 16, 32),\n",
       " (3, 1, 3, 9, 27, 81, 243),\n",
       " (4, 1, 4, 16, 64, 256, 1024),\n",
       " (5, 1, 5, 25, 125, 625, 3125),\n",
       " (6, 1, 6, 36, 216, 1296, 7776),\n",
       " (7, 1, 7, 49, 343, 2401, 16807),\n",
       " (8, 1, 8, 64, 512, 4096, 32768),\n",
       " (9, 1, 9, 81, 729, 6561, 59049),\n",
       " (10, 1, 10, 100, 1000, 10000, 100000)]"
      ]
     },
     "execution_count": 32,
     "metadata": {},
     "output_type": "execute_result"
    }
   ],
   "source": [
    "result = [(i, 1, i, i**2, i**3, i**4, i**5) for i in range(11)]\n",
    "result"
   ]
  },
  {
   "cell_type": "markdown",
   "id": "26ec0c3f",
   "metadata": {},
   "source": [
    "**4. Flatten the following list to a new list:**\n",
    "```\n",
    "countries = [[('Finland', 'Helsinki')], [('Sweden', 'Stockholm')], [('Norway', 'Oslo')]]\n",
    "output:\n",
    "[['FINLAND','FIN', 'HELSINKI'], ['SWEDEN', 'SWE', 'STOCKHOLM'], ['NORWAY', 'NOR', 'OSLO']]\n",
    "```"
   ]
  },
  {
   "cell_type": "code",
   "execution_count": 7,
   "id": "3fe954bf",
   "metadata": {},
   "outputs": [
    {
     "data": {
      "text/plain": [
       "[['FINLAND', 'FIN', 'Helsinki'],\n",
       " ['SWEDEN', 'SWE', 'Stockholm'],\n",
       " ['NORWAY', 'NOR', 'Oslo']]"
      ]
     },
     "execution_count": 7,
     "metadata": {},
     "output_type": "execute_result"
    }
   ],
   "source": [
    "countries = [[('Finland', 'Helsinki')], [('Sweden', 'Stockholm')], [('Norway', 'Oslo')]]\n",
    "\n",
    "flatten_countries = [[element[0].upper(),element[0][:3].upper(),element[1]] for list_coun in countries for element in list_coun ]\n",
    "flatten_countries"
   ]
  },
  {
   "cell_type": "markdown",
   "id": "349e3342",
   "metadata": {},
   "source": [
    "**5. Change the following list to a list of dictionaries:**\n",
    "```\n",
    "countries = [[('Finland', 'Helsinki')], [('Sweden', 'Stockholm')], [('Norway', 'Oslo')]]\n",
    "output:\n",
    "[{'country': 'FINLAND', 'city': 'HELSINKI'},\n",
    "{'country': 'SWEDEN', 'city': 'STOCKHOLM'},\n",
    "{'country': 'NORWAY', 'city': 'OSLO'}]\n",
    "```"
   ]
  },
  {
   "cell_type": "code",
   "execution_count": 9,
   "id": "c61d24db",
   "metadata": {},
   "outputs": [
    {
     "data": {
      "text/plain": [
       "[{'country': 'FINLAND', 'city': 'HELSINKI'},\n",
       " {'country': 'SWEDEN', 'city': 'STOCKHOLM'},\n",
       " {'country': 'NORWAY', 'city': 'OSLO'}]"
      ]
     },
     "execution_count": 9,
     "metadata": {},
     "output_type": "execute_result"
    }
   ],
   "source": [
    "countries = [[('Finland', 'Helsinki')], [('Sweden', 'Stockholm')], [('Norway', 'Oslo')]]\n",
    "\n",
    "output = [{'country':element[0].upper(), 'city':element[1].upper()} for coun in countries for element in coun]\n",
    "output"
   ]
  },
  {
   "cell_type": "markdown",
   "id": "f81d1d69",
   "metadata": {},
   "source": [
    "**7. Write a lambda function which can solve a slope or y-intercept of linear functions.**"
   ]
  },
  {
   "cell_type": "code",
   "execution_count": 10,
   "id": "fc758f49",
   "metadata": {},
   "outputs": [
    {
     "name": "stdout",
     "output_type": "stream",
     "text": [
      "Slope: 1.0\n",
      "y_intercept: 1.0\n"
     ]
    }
   ],
   "source": [
    "# y = m*x + b\n",
    "'''\n",
    "m: slope of the line\n",
    "b: y-intercept\n",
    "x: the input\n",
    "'''\n",
    "\n",
    "calculate_slope = lambda x1, y1, x2, y2: (y2-y1)/(x2-x1)\n",
    "calculate_y_intercept = lambda slope, x, y: y - slope*x\n",
    "\n",
    "slope = calculate_slope(1,2,3,4)\n",
    "print('Slope:',slope)\n",
    "print('y_intercept:',calculate_y_intercept(slope, 3, 4))"
   ]
  }
 ],
 "metadata": {
  "kernelspec": {
   "display_name": "Python 3 (ipykernel)",
   "language": "python",
   "name": "python3"
  },
  "language_info": {
   "codemirror_mode": {
    "name": "ipython",
    "version": 3
   },
   "file_extension": ".py",
   "mimetype": "text/x-python",
   "name": "python",
   "nbconvert_exporter": "python",
   "pygments_lexer": "ipython3",
   "version": "3.11.3"
  }
 },
 "nbformat": 4,
 "nbformat_minor": 5
}
