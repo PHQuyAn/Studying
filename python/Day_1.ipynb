{
 "cells": [
  {
   "cell_type": "markdown",
   "id": "4f6852e8",
   "metadata": {},
   "source": [
    "<div class=\"alert alert-block alert-info\">\n",
    "    <h2> Conditionals</h2>\n",
    "    https://github.com/Asabeneh/30-Days-Of-Python\n",
    "</div>"
   ]
  },
  {
   "cell_type": "markdown",
   "id": "e45ac483",
   "metadata": {},
   "source": [
    "<span style = 'color:green'>\n",
    "    <h2> <b> Level 1 </b> </h2>\n",
    "</span>"
   ]
  },
  {
   "cell_type": "markdown",
   "id": "2a57fcd4",
   "metadata": {},
   "source": [
    "**1. Get user input using input(“Enter your age: ”). If user is 18 or older, give feedback: You are old enough to drive. If below 18 give feedback to wait for the missing amount of years.**\n",
    "\n",
    "- Enter your age: 30  \n",
    "You are old enough to learn to drive.  \n",
    "- Output:  \n",
    "Enter your age: 15  \n",
    "You need 3 more years to learn to drive.  "
   ]
  },
  {
   "cell_type": "code",
   "execution_count": 2,
   "id": "4cbbc161",
   "metadata": {},
   "outputs": [
    {
     "name": "stdout",
     "output_type": "stream",
     "text": [
      "Enter your age: 15\n",
      "You need 3 more years to learn to drive\n"
     ]
    }
   ],
   "source": [
    "age = int(input('Enter your age: '))\n",
    "\n",
    "if (age>=18):\n",
    "    print(\"You are old enough to drive\")\n",
    "else:\n",
    "    missing_year = 18 - age\n",
    "    print('You need ' + str(missing_year) + ' more years to learn to drive')"
   ]
  },
  {
   "cell_type": "markdown",
   "id": "f146e06a",
   "metadata": {},
   "source": [
    "**2. Compare the values of my_age and your_age using if … else. Who is older (me or you)? Use input(“Enter your age: ”) to get the age as input. You can use a nested condition to print 'year' for 1 year difference in age, 'years' for bigger differences, and a custom text if my_age = your_age. Output:**\n",
    "\n",
    "- Enter your age: 30  \n",
    "You are 5 years older than me"
   ]
  },
  {
   "cell_type": "code",
   "execution_count": 13,
   "id": "a08559c3",
   "metadata": {},
   "outputs": [
    {
     "name": "stdout",
     "output_type": "stream",
     "text": [
      "Enter your age: 10\n",
      "You are 10 years younger than me\n",
      "\n",
      "Now Sep 16th, 2023\n",
      "I am 20 years old\n"
     ]
    }
   ],
   "source": [
    "age = int(input('Enter your age: '))\n",
    "\n",
    "my_age = 20\n",
    "diff_age = age - my_age\n",
    "\n",
    "if (diff_age < 0):\n",
    "    age_descrip = 'year' if diff_age == -1 else \"years\"\n",
    "    print(f\"You are {abs(diff_age)} {age_descrip} younger than me\")\n",
    "elif (diff_age >0):\n",
    "    age_descrip = 'year' if diff_age == 1 else \"years\"\n",
    "    print(f\"You are {abs(diff_age)} {age_descrip} older than me\")\n",
    "else:\n",
    "    print('You are are as same age as me')\n",
    "    \n",
    "print()\n",
    "print(\"Now Sep 16th, 2023\")\n",
    "print(\"I am 20 years old\")"
   ]
  },
  {
   "cell_type": "markdown",
   "id": "b8206d60",
   "metadata": {},
   "source": [
    "**3. Get two numbers from the user using input prompt. If a is greater than b return a is greater than b, if a is less b return a is smaller than b, else a is equal to b.**   \n",
    "\n",
    "Output:  \n",
    "- Enter number one: 4  \n",
    "Enter number two: 3  \n",
    "4 is greater than 3"
   ]
  },
  {
   "cell_type": "code",
   "execution_count": 14,
   "id": "cc178e3d",
   "metadata": {},
   "outputs": [
    {
     "name": "stdout",
     "output_type": "stream",
     "text": [
      "Enter number one: 3\n",
      "Enter number two: 4\n",
      "3 is less than 4\n"
     ]
    }
   ],
   "source": [
    "A = int(input(\"Enter number one: \"))\n",
    "B = int(input(\"Enter number two: \"))\n",
    "\n",
    "if (A>B):\n",
    "    print(f\"{A} is greater than {B}\")\n",
    "elif (A<B):\n",
    "    print(f\"{A} is less than {B}\")\n",
    "else:\n",
    "    print(f\"{A} is equal {B}\")"
   ]
  },
  {
   "cell_type": "markdown",
   "id": "4c3f9158",
   "metadata": {},
   "source": [
    "<span style = \"color:green\"> \n",
    "    <h2> Level 2 </h2>\n",
    "</span>"
   ]
  },
  {
   "cell_type": "markdown",
   "id": "7cf6d6b1",
   "metadata": {},
   "source": [
    "**1. Write a code which gives grade to students according to theirs scores**\n",
    "\n",
    "80-100, A  \n",
    "70-89, B  \n",
    "60-69, C  \n",
    "50-59, D  \n",
    "0-49, F  "
   ]
  },
  {
   "cell_type": "code",
   "execution_count": 5,
   "id": "f69b2980",
   "metadata": {},
   "outputs": [
    {
     "name": "stdout",
     "output_type": "stream",
     "text": [
      "Score of student: 95\n",
      "Grade of student: A\n"
     ]
    }
   ],
   "source": [
    "scores = int(input('Score of student: '))\n",
    "\n",
    "grade = 'F'\n",
    "if (80 <= scores <=100):\n",
    "    grade = 'A'\n",
    "elif (70 <= scores <= 89):\n",
    "    grade = 'B'\n",
    "elif (60 <= scores <= 69):\n",
    "    grade = 'C'\n",
    "elif (50 <= scores <= 59):\n",
    "    grade = 'D'\n",
    "    \n",
    "print('Grade of student:',grade)"
   ]
  },
  {
   "cell_type": "markdown",
   "id": "17678a5f",
   "metadata": {},
   "source": [
    "**2. Check if the season is Autumn, Winter, Spring or Summer. If the user input is: September, October or November, the season is Autumn. December, January or February, the season is Winter. March, April or May, the season is Spring June, July or August, the season is Summer**  "
   ]
  },
  {
   "cell_type": "code",
   "execution_count": 11,
   "id": "2e836d15",
   "metadata": {},
   "outputs": [
    {
     "name": "stdout",
     "output_type": "stream",
     "text": [
      "Input a month (text type): 111\n",
      "Input a month!! (TEXT), please: April\n",
      "April is Spring\n"
     ]
    }
   ],
   "source": [
    "month = input('Input a month (text type): ')\n",
    "\n",
    "seasons = ['January', 'February', 'December',\n",
    "           'March', 'April','May', 'June', 'July', 'August',\n",
    "           'September','October','November']\n",
    "\n",
    "while (True):\n",
    "    if month in ['January', 'February', 'December']:\n",
    "        season = 'Winter'\n",
    "    elif month in ['March', 'April','May']:\n",
    "        season = 'Spring'\n",
    "    elif month in ['June', 'July', 'August']:\n",
    "        season = 'Summer'\n",
    "    elif month in ['September','October','November']:\n",
    "        season = 'Autumn'\n",
    "        \n",
    "    if month in seasons:\n",
    "        print(f\"{month} is {season}\")\n",
    "        break\n",
    "    else:\n",
    "        month = input('Input a month!! (TEXT), please: ')"
   ]
  },
  {
   "cell_type": "markdown",
   "id": "e620e059",
   "metadata": {},
   "source": [
    "**3. The following list conntains some fruits. If a fruit doesn't exist in the list add the fruit to the list and pring the modified list. If the fruit exist pring('That fruit already exist in the list')**\n",
    "```\n",
    "fruit = ['banana','orange','mango','lemon']\n",
    "```"
   ]
  },
  {
   "cell_type": "code",
   "execution_count": 13,
   "id": "b5ee57ed",
   "metadata": {},
   "outputs": [
    {
     "name": "stdout",
     "output_type": "stream",
     "text": [
      "We already have ['banana', 'orange', 'mango', 'lemon']\n",
      "Which fruit you want to add: chachacha\n",
      "\n",
      "fruit added\n",
      "['banana', 'orange', 'mango', 'lemon', 'chachacha']\n"
     ]
    }
   ],
   "source": [
    "fruit = ['banana', 'orange', 'mango', 'lemon']\n",
    "print('We already have',fruit)\n",
    "\n",
    "ft = input('Which fruit you want to add: ')\n",
    "if ft in fruit:\n",
    "    print('That fruit already exist in the list')\n",
    "else:\n",
    "    fruit.append(ft)\n",
    "    print()\n",
    "    print('fruit added')\n",
    "    print(fruit)"
   ]
  },
  {
   "cell_type": "markdown",
   "id": "54c2c649",
   "metadata": {},
   "source": [
    "<span style = color:green>\n",
    "    <h2> Level 3 </h2>\n",
    "</span>"
   ]
  },
  {
   "cell_type": "markdown",
   "id": "eaf351c8",
   "metadata": {},
   "source": [
    "**4. Here we have a person dictionary. Feel free to modify it!**\n",
    "\n",
    "```\n",
    "person={\n",
    "    'first_name': 'Asabeneh',\n",
    "    'last_name': 'Yetayeh',\n",
    "    'age': 250,\n",
    "    'country': 'Finland',\n",
    "    'is_marred': True,\n",
    "    'skills': ['JavaScript', 'React', 'Node', 'MongoDB', 'Python'],\n",
    "    'address': {\n",
    "        'street': 'Space street',\n",
    "        'zipcode': '02210'\n",
    "    }\n",
    "    }\n",
    "```\n",
    "\n",
    " * Check if the person dictionary has skills key, if so print out the middle skill in the skills list.\n",
    " * Check if the person dictionary has skills key, if so check if the person has 'Python' skill and print out the result.\n",
    " * If a person skills has only JavaScript and React, print('He is a front end developer'), if the person skills has Node, Python, MongoDB, print('He is a backend developer'), if the person skills has React, Node and MongoDB, Print('He is a fullstack developer'), else print('unknown title') - for more accurate results more conditions can be nested!\n",
    " * If the person is married and if he lives in Finland, print the information in the following format:"
   ]
  },
  {
   "cell_type": "code",
   "execution_count": 20,
   "id": "d403fb83",
   "metadata": {},
   "outputs": [
    {
     "name": "stdout",
     "output_type": "stream",
     "text": [
      "Skills of Asabeneh Yetayeh:  JavaScript, React, Node, MongoDB, Python\n",
      "Asabeneh Yetayeh have Python skill\n",
      "He is a front end developer\n",
      "Asabeneh Yetayeh lives in Finland He is married\n"
     ]
    }
   ],
   "source": [
    "person={\n",
    "    'first_name': 'Asabeneh',\n",
    "    'last_name': 'Yetayeh',\n",
    "    'age': 250,\n",
    "    'country': 'Finland',\n",
    "    'is_marred': True,\n",
    "    'skills': ['JavaScript', 'React', 'Node', 'MongoDB', 'Python'],\n",
    "    'address': {\n",
    "        'street': 'Space street',\n",
    "        'zipcode': '02210'\n",
    "    }\n",
    "    }\n",
    "\n",
    "person_name = person['first_name']+' '+person['last_name']\n",
    "#part1:\n",
    "if 'skills' in person:\n",
    "    skills = person['skills']\n",
    "    print('Skills of',person_name + ': ', ', '.join(skills))\n",
    "\n",
    "#part2\n",
    "if 'Python' in person['skills']:\n",
    "    print(person_name, 'have Python skill')\n",
    "    \n",
    "#part3\n",
    "if 'skills' in person and isinstance(person['skills'], list):\n",
    "    skills = person['skills']\n",
    "    if 'JavaScript' in skills and 'React' in skills:\n",
    "        print('He is a front end developer')\n",
    "    elif 'Node' in skills and 'Python' in skills and 'MongoDB' in skills:\n",
    "        print('He is a backend developer')\n",
    "    elif 'React' in skills and 'Node' in skills and 'MongoDB' in skills:\n",
    "        print('He is a fullstack developer')\n",
    "    else:\n",
    "        print('Unknown title')\n",
    "else:\n",
    "    print('Do not have skills')\n",
    "\n",
    "#part4\n",
    "country = person['country']\n",
    "if country == 'Finland':\n",
    "    print(person_name,'lives in',country,'He is married')"
   ]
  },
  {
   "cell_type": "markdown",
   "id": "9ea15bdb",
   "metadata": {},
   "source": [
    "<div class = \"alert alert-block alert-info\">\n",
    "    <h2> Loops </h2>\n",
    "    https://github.com/Asabeneh/30-Days-Of-Python\n",
    "</div>    "
   ]
  },
  {
   "cell_type": "markdown",
   "id": "f3cbdd13",
   "metadata": {},
   "source": [
    "<span style = color:green>\n",
    "    <h2> Level 1 </h2>\n",
    "<span>"
   ]
  },
  {
   "cell_type": "markdown",
   "id": "05ace64b",
   "metadata": {},
   "source": [
    "**1. Iterate 0 to 10 using for loop, do the same using while loop**"
   ]
  },
  {
   "cell_type": "code",
   "execution_count": 5,
   "id": "d403fc4b",
   "metadata": {},
   "outputs": [
    {
     "name": "stdout",
     "output_type": "stream",
     "text": [
      "For loop:   0 1 2 3 4 5 6 7 8 9 10 \n",
      "While loop: 0 1 2 3 4 5 6 7 8 9 10 \n"
     ]
    }
   ],
   "source": [
    "# For loop\n",
    "s = ''\n",
    "for i in range(0,11):\n",
    "    s += str(i) + ' '\n",
    "print(\"For loop:  \",s)\n",
    "\n",
    "#While loop\n",
    "s = ''\n",
    "i = 0\n",
    "while (i<=10):\n",
    "    s += str(i) + ' '\n",
    "    i += 1\n",
    "print(\"While loop:\",s)"
   ]
  },
  {
   "cell_type": "markdown",
   "id": "a6782d80",
   "metadata": {},
   "source": [
    "**5. Print the following pattern:**  \n",
    "0 x 0 = 0  \n",
    "1 x 1 = 1  \n",
    "2 x 2 = 4  \n",
    "3 x 3 = 9  \n",
    "4 x 4 = 16  \n",
    "5 x 5 = 25  \n",
    "6 x 6 = 36  \n",
    "7 x 7 = 49  \n",
    "8 x 8 = 64  \n",
    "9 x 9 = 81  \n",
    "10 x 10 = 100"
   ]
  },
  {
   "cell_type": "code",
   "execution_count": 8,
   "id": "efe34baf",
   "metadata": {},
   "outputs": [
    {
     "name": "stdout",
     "output_type": "stream",
     "text": [
      "0 x 0 = 0\n",
      "1 x 1 = 1\n",
      "2 x 2 = 4\n",
      "3 x 3 = 9\n",
      "4 x 4 = 16\n",
      "5 x 5 = 25\n",
      "6 x 6 = 36\n",
      "7 x 7 = 49\n",
      "8 x 8 = 64\n",
      "9 x 9 = 81\n",
      "10 x 10 = 100\n"
     ]
    }
   ],
   "source": [
    "for i in range(0, 11):\n",
    "    print(i,'x',i,'=',i*i)"
   ]
  },
  {
   "cell_type": "markdown",
   "id": "163b4437",
   "metadata": {},
   "source": [
    "**6. Iterate through the list, ['Python', 'Numpy','Pandas','Django', 'Flask'] using a for loop and print out the items.**"
   ]
  },
  {
   "cell_type": "code",
   "execution_count": 9,
   "id": "8021f584",
   "metadata": {},
   "outputs": [
    {
     "name": "stdout",
     "output_type": "stream",
     "text": [
      "Python\n",
      "Numpy\n",
      "Pandas\n",
      "Django\n",
      "Flask\n"
     ]
    }
   ],
   "source": [
    "Library = ['Python','Numpy','Pandas','Django','Flask']\n",
    "for lst in Library:\n",
    "    print(lst)"
   ]
  },
  {
   "cell_type": "markdown",
   "id": "8242dc14",
   "metadata": {},
   "source": [
    "<span style = color:green>\n",
    "    <h2> Level 2</h2>\n",
    "</span>"
   ]
  },
  {
   "cell_type": "markdown",
   "id": "d18c44e7",
   "metadata": {},
   "source": [
    "**1. Use for loop to iterate from 0 to 100 and print the sum of all numbers**\n",
    "```\n",
    "The sum of all numbers is 5050\n",
    "```"
   ]
  },
  {
   "cell_type": "code",
   "execution_count": 10,
   "id": "78eda2ef",
   "metadata": {},
   "outputs": [
    {
     "name": "stdout",
     "output_type": "stream",
     "text": [
      "The sum of all numbers is 5050\n"
     ]
    }
   ],
   "source": [
    "s = 0\n",
    "for i in range(0,101):\n",
    "    s+=i\n",
    "print(\"The sum of all numbers is\",s)"
   ]
  },
  {
   "cell_type": "markdown",
   "id": "56173f56",
   "metadata": {},
   "source": [
    "**2. Use for loop to iterate from 0 to 100 and print the sum of all evens and the sum of all odds**\n",
    "```\n",
    "The sum of all evens is 2550. And the sum of all odds is 2500\n",
    "```"
   ]
  },
  {
   "cell_type": "code",
   "execution_count": 13,
   "id": "9bb5b11c",
   "metadata": {},
   "outputs": [
    {
     "name": "stdout",
     "output_type": "stream",
     "text": [
      "The sum of all evens is 2550. And the sum of all odds is 2500\n"
     ]
    }
   ],
   "source": [
    "even_sum = 0\n",
    "odd_sum = 0\n",
    "for i in range(0,101):\n",
    "    if (i%2==0):\n",
    "        even_sum += i\n",
    "    else:\n",
    "        odd_sum += i\n",
    "        \n",
    "print('The sum of all evens is',str(even_sum) +\n",
    "      '. And the sum of all odds is',odd_sum)"
   ]
  },
  {
   "cell_type": "markdown",
   "id": "6125197d",
   "metadata": {},
   "source": [
    "<span style = color:green>\n",
    "    <h2> Level 3 </h2>\n",
    "</span>"
   ]
  },
  {
   "cell_type": "markdown",
   "id": "878bbe5c",
   "metadata": {},
   "source": [
    "**1. Go to the data folder and use the countries.py file. Loop through the countries and extract all the countries containing the word land.**"
   ]
  },
  {
   "cell_type": "code",
   "execution_count": 24,
   "id": "b1136eb1",
   "metadata": {},
   "outputs": [
    {
     "data": {
      "text/plain": [
       "['Finland',\n",
       " 'Iceland',\n",
       " 'Ireland',\n",
       " 'Marshall Islands',\n",
       " 'Netherlands',\n",
       " 'New Zealand',\n",
       " 'Poland',\n",
       " 'Solomon Islands',\n",
       " 'Swaziland',\n",
       " 'Switzerland',\n",
       " 'Thailand']"
      ]
     },
     "execution_count": 24,
     "metadata": {},
     "output_type": "execute_result"
    }
   ],
   "source": [
    "import sys\n",
    "sys.path.append('/Data')\n",
    "from countries import countries\n",
    "\n",
    "countries_land = []\n",
    "for coun in countries:\n",
    "    if 'land' in coun.lower():\n",
    "        countries_land.append(coun)\n",
    "        \n",
    "countries_land"
   ]
  },
  {
   "cell_type": "markdown",
   "id": "2d3cfd81",
   "metadata": {},
   "source": [
    "**2. This is a fruit list, ['banana', 'orange', 'mango', 'lemon'] reverse the order using loop.**"
   ]
  },
  {
   "cell_type": "code",
   "execution_count": 29,
   "id": "87d3a386",
   "metadata": {},
   "outputs": [
    {
     "data": {
      "text/plain": [
       "['lemon', 'mango', 'orange', 'banana']"
      ]
     },
     "execution_count": 29,
     "metadata": {},
     "output_type": "execute_result"
    }
   ],
   "source": [
    "fruit = ['banana','orange','mango','lemon']\n",
    "new_fruit =[]\n",
    "for fr in range(len(fruit)-1,-1,-1):\n",
    "    new_fruit.append(fruit[fr])\n",
    "    \n",
    "new_fruit"
   ]
  },
  {
   "cell_type": "markdown",
   "id": "7f2a25c4",
   "metadata": {},
   "source": [
    "**3. Go to the data folder and use the countries_data.py file.**  \n",
    "```\n",
    "I. What are the total number of languages in the data  \n",
    "II. Find the ten most spoken languages from the data  \n",
    "III. Find the 10 most populated countries in the world  \n",
    "```"
   ]
  },
  {
   "cell_type": "code",
   "execution_count": 59,
   "id": "bd0331b8",
   "metadata": {},
   "outputs": [
    {
     "name": "stdout",
     "output_type": "stream",
     "text": [
      "Total number of Languages: 112\n",
      "\n",
      "Ten most spoken languages\n",
      "English: is spoken at 91 countries\n",
      "French: is spoken at 45 countries\n",
      "Arabic: is spoken at 25 countries\n",
      "Spanish: is spoken at 24 countries\n",
      "Portuguese: is spoken at 9 countries\n",
      "Russian: is spoken at 9 countries\n",
      "Dutch: is spoken at 8 countries\n",
      "German: is spoken at 7 countries\n",
      "Chinese: is spoken at 5 countries\n",
      "Serbian: is spoken at 4 countries\n",
      "\n",
      "Top 10 populated countries\n",
      "['China', 'India', 'United States of America', 'Indonesia', 'Brazil', 'Pakistan', 'Nigeria', 'Bangladesh', 'Russian Federation', 'Japan']\n"
     ]
    }
   ],
   "source": [
    "from Data.countries_data import countries\n",
    "\n",
    "#I. Total number of languages in the data\n",
    "all_language = []\n",
    "for country in countries:\n",
    "    for language in country['languages']:\n",
    "        all_language.append(language)\n",
    "        \n",
    "print('Total number of Languages:',len(set(all_language)))\n",
    "print()\n",
    "#II. Find the ten most spoken languages from the data\n",
    "print('Ten most spoken languages')\n",
    "from collections import Counter\n",
    "language_counter = Counter(all_language)\n",
    "top_10_languages = language_counter.most_common(10)\n",
    "for language, count in top_10_languages:\n",
    "    print(f\"{language}: is spoken at {count} countries\")\n",
    "    \n",
    "#10 most populated countries in the world\n",
    "top_10_populated = sorted(countries, key = lambda x: x['population'],\n",
    "                        reverse = True)[:10]\n",
    "populated_coun = []\n",
    "for country in top_10_populated:\n",
    "    populated_coun.append(country['name'])\n",
    "print()\n",
    "print(\"Top 10 populated countries\")\n",
    "print(populated_coun)"
   ]
  }
 ],
 "metadata": {
  "kernelspec": {
   "display_name": "Python 3 (ipykernel)",
   "language": "python",
   "name": "python3"
  },
  "language_info": {
   "codemirror_mode": {
    "name": "ipython",
    "version": 3
   },
   "file_extension": ".py",
   "mimetype": "text/x-python",
   "name": "python",
   "nbconvert_exporter": "python",
   "pygments_lexer": "ipython3",
   "version": "3.11.3"
  }
 },
 "nbformat": 4,
 "nbformat_minor": 5
}
