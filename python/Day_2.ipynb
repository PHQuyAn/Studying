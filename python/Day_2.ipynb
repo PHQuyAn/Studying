{
 "cells": [
  {
   "cell_type": "markdown",
   "id": "f0b8fb33",
   "metadata": {},
   "source": [
    "<div class = \"alert alert-block alert-info\"> \n",
    "    <h2> Loops Review </h2>\n",
    "    https://github.com/Asabeneh/30-Days-Of-Python\n",
    "</div>"
   ]
  },
  {
   "cell_type": "markdown",
   "id": "2f7429ff",
   "metadata": {},
   "source": [
    "<span style = color:green>\n",
    "    <h3> Level 3 </h3>\n",
    "</span>"
   ]
  },
  {
   "cell_type": "markdown",
   "id": "8a491be1",
   "metadata": {},
   "source": [
    "**Go to the data folder and use the countries_data.py file.**  \n",
    "I. What are the total number of languages in the data  \n",
    "II. Find the ten most spoken languages from the data  \n",
    "III. Find the 10 most populated countries in the world  "
   ]
  },
  {
   "cell_type": "code",
   "execution_count": 28,
   "id": "1c10550e",
   "metadata": {},
   "outputs": [
    {
     "name": "stdout",
     "output_type": "stream",
     "text": [
      "Total of languages is: 112\n",
      "\n",
      "Top 10 most spoken languages:\n",
      "English is spoken by 91 countries\n",
      "French is spoken by 45 countries\n",
      "Arabic is spoken by 25 countries\n",
      "Spanish is spoken by 24 countries\n",
      "Portuguese is spoken by 9 countries\n",
      "Russian is spoken by 9 countries\n",
      "Dutch is spoken by 8 countries\n",
      "German is spoken by 7 countries\n",
      "Chinese is spoken by 5 countries\n",
      "Serbian is spoken by 4 countries\n",
      "\n",
      "10 most populated countries in the world\n",
      "China has the population is 1377422166 people\n",
      "India has the population is 1295210000 people\n",
      "United States of America has the population is 323947000 people\n",
      "Indonesia has the population is 258705000 people\n",
      "Brazil has the population is 206135893 people\n",
      "Pakistan has the population is 194125062 people\n",
      "Nigeria has the population is 186988000 people\n",
      "Bangladesh has the population is 161006790 people\n",
      "Russian Federation has the population is 146599183 people\n"
     ]
    }
   ],
   "source": [
    "from Data.countries_data import countries\n",
    "\n",
    "#Total Number of languages in the data\n",
    "all_languages = []\n",
    "for country in countries:\n",
    "    for language in country['languages']:\n",
    "        all_languages.append(language)\n",
    "print('Total of languages is:',len(set(all_languages)))\n",
    "print()\n",
    "\n",
    "#Find the ten most spoken languages from the data\n",
    "print('Top 10 most spoken languages:')\n",
    "from collections import Counter\n",
    "language_count = Counter(all_languages)\n",
    "Top_10_languages = language_count.most_common(10)\n",
    "for language, count in Top_10_languages:\n",
    "    print(f\"{language} is spoken by {count} countries\")\n",
    "print()\n",
    "\n",
    "\n",
    "#Find the 10 most populated countries in the world\n",
    "print(\"10 most populated countries in the world\")\n",
    "lst_pop_countries = sorted(countries, key = lambda x: x['population'], \n",
    "                           reverse = True)\n",
    "Top_10_population = []\n",
    "i = 1\n",
    "for pop_country in lst_pop_countries:\n",
    "    population_data = {\n",
    "        'name' : pop_country['name'],\n",
    "        'population':pop_country['population']\n",
    "    }\n",
    "    Top_10_population.append(population_data)\n",
    "    i+=1\n",
    "    if (i==10):\n",
    "        break\n",
    "\n",
    "for pop_country in Top_10_population:\n",
    "    print(pop_country['name'],'has the population is',pop_country['population'],'people')"
   ]
  },
  {
   "cell_type": "markdown",
   "id": "bf2a8473",
   "metadata": {},
   "source": [
    "<div class = \"alert alert-block alert-info\">\n",
    "    <h2> Tuples </h2>\n",
    "    https://github.com/Asabeneh/30-Days-Of-Python\n",
    "</div>"
   ]
  },
  {
   "cell_type": "markdown",
   "id": "c49f434e",
   "metadata": {},
   "source": [
    "<span style = color:green> \n",
    "    <h3> Level 2</h3>\n",
    "</span>"
   ]
  },
  {
   "cell_type": "markdown",
   "id": "46a0a20d",
   "metadata": {},
   "source": [
    "**1. Unpack siblings and parents from family_members**"
   ]
  },
  {
   "cell_type": "code",
   "execution_count": 42,
   "id": "62004e5c",
   "metadata": {},
   "outputs": [
    {
     "name": "stdout",
     "output_type": "stream",
     "text": [
      "Grand parents: ('Alfred Pennyworth', 'Thomas WayneDick Grayson')\n",
      "Parents: ('Bruce Wayne', 'Selina Kyle')\n",
      "Children: ('Jason Todd', 'Tim Drake', 'Damian Wayne', 'Kate Kane')\n",
      "Siblings: ('Barbara Gordon', 'Kate Kane')\n"
     ]
    }
   ],
   "source": [
    "family_members = ('Bruce Wayne','Alfred Pennyworth', 'Thomas Wayne'\n",
    "                  'Dick Grayson','Jason Todd','Tim Drake','Damian Wayne',\n",
    "                  'Kate Kane', 'Barbara Gordon','Selina Kyle')\n",
    "grand_parents = family_members[1:3]\n",
    "parents = family_members[0::len(family_members)-1]\n",
    "children = family_members[3:7]\n",
    "siblings = family_members[-2:-4:-1]\n",
    "\n",
    "print('Grand parents:',grand_parents)\n",
    "print(\"Parents:\", parents)\n",
    "print('Children:', children)\n",
    "print(\"Siblings:\", siblings)"
   ]
  },
  {
   "cell_type": "markdown",
   "id": "39759573",
   "metadata": {},
   "source": [
    "**2. Create fruits, vegetables and animal products tuples. Join the three tuples and assign it to a variable called food_stuff_tp**"
   ]
  },
  {
   "cell_type": "code",
   "execution_count": 44,
   "id": "3ef8dd34",
   "metadata": {},
   "outputs": [
    {
     "name": "stdout",
     "output_type": "stream",
     "text": [
      "Food_Stuff_tp\n",
      "('banana', 'apple', 'avocado', 'orange', 'papaya', 'strawberry', 'cabbage', 'carrot', 'cauliflower', 'ginger', 'onion', 'pumpkin', 'chicken', 'pig', 'beef', 'cow', 'chimpanzee', 'deer')\n"
     ]
    }
   ],
   "source": [
    "fruits = ('banana','apple','avocado','orange','papaya','strawberry')\n",
    "vegetables = ('cabbage','carrot','cauliflower','ginger','onion','pumpkin')\n",
    "animals = ('chicken','pig','beef','cow','chimpanzee','deer')\n",
    "\n",
    "food_stuff_tp = fruits + vegetables + animals\n",
    "print(\"Food_Stuff_tp\")\n",
    "print(food_stuff_tp)"
   ]
  },
  {
   "cell_type": "markdown",
   "id": "35d61fa1",
   "metadata": {},
   "source": [
    "**3. Change the about food_stuff_tp tuple to a food_stuff_lt list**"
   ]
  },
  {
   "cell_type": "code",
   "execution_count": 45,
   "id": "b3ead3b7",
   "metadata": {},
   "outputs": [
    {
     "name": "stdout",
     "output_type": "stream",
     "text": [
      "['banana', 'apple', 'avocado', 'orange', 'papaya', 'strawberry', 'cabbage', 'carrot', 'cauliflower', 'ginger', 'onion', 'pumpkin', 'chicken', 'pig', 'beef', 'cow', 'chimpanzee', 'deer']\n"
     ]
    }
   ],
   "source": [
    "food_stuff_lt = list(food_stuff_tp)\n",
    "print(food_stuff_lt)"
   ]
  },
  {
   "cell_type": "markdown",
   "id": "d5c381a2",
   "metadata": {},
   "source": [
    "**4. Slice out the middle items from the food_stuff_tp tuple or food_stuff_lt list**"
   ]
  },
  {
   "cell_type": "code",
   "execution_count": 46,
   "id": "bd3fbfa1",
   "metadata": {},
   "outputs": [
    {
     "name": "stdout",
     "output_type": "stream",
     "text": [
      "ginger\n"
     ]
    }
   ],
   "source": [
    "middle_index = len(food_stuff_lt)//2\n",
    "print(food_stuff_lt[middle_index])"
   ]
  },
  {
   "cell_type": "markdown",
   "id": "f706653b",
   "metadata": {},
   "source": [
    "**5. Slice out the first three and the last three items from food_staff_lt list**"
   ]
  },
  {
   "cell_type": "code",
   "execution_count": 54,
   "id": "7ce3fdff",
   "metadata": {},
   "outputs": [
    {
     "name": "stdout",
     "output_type": "stream",
     "text": [
      "['banana', 'apple', 'avocado', 'cow', 'chimpanzee', 'deer']\n"
     ]
    }
   ],
   "source": [
    "n = len(food_stuff_lt)\n",
    "food_staff_lt = food_stuff_lt[0:3] + food_stuff_lt[n-3:n+1]\n",
    "print(food_staff_lt)"
   ]
  },
  {
   "cell_type": "markdown",
   "id": "8c77056a",
   "metadata": {},
   "source": [
    "**6. Delete the food_staff_tp tuple completely**"
   ]
  },
  {
   "cell_type": "code",
   "execution_count": 55,
   "id": "117f33e4",
   "metadata": {},
   "outputs": [
    {
     "name": "stdout",
     "output_type": "stream",
     "text": [
      "food_staff_lt is deleted\n"
     ]
    }
   ],
   "source": [
    "del food_staff_lt\n",
    "print('food_staff_lt is deleted')"
   ]
  },
  {
   "cell_type": "markdown",
   "id": "7e14cb2f",
   "metadata": {},
   "source": [
    "**7. Check if an item exist in tuple:**  \n",
    "- Check if 'Estonia' is a nordic country\n",
    "- Check if 'Iceland' is a nordic country\n",
    "```\n",
    "nordic_countries = ('Denmark','Finland','Iceland','Norway','Sweden')\n",
    "```"
   ]
  },
  {
   "cell_type": "code",
   "execution_count": 58,
   "id": "8b2802cc",
   "metadata": {},
   "outputs": [
    {
     "name": "stdout",
     "output_type": "stream",
     "text": [
      "Is \"Estonia\" in a nordic country: False\n",
      "Is \"Iceland\" in a nordic country: True\n"
     ]
    }
   ],
   "source": [
    "nordic_countries = ('Denmark','Finlad','Iceland','Norway','Sweden')\n",
    "\n",
    "print('Is \"Estonia\" in a nordic country:','Estonia' in nordic_countries)\n",
    "print('Is \"Iceland\" in a nordic country:','Iceland' in nordic_countries)"
   ]
  },
  {
   "cell_type": "markdown",
   "id": "a0b55f99",
   "metadata": {},
   "source": [
    "<div class = \"alert alert-block alert-info\">\n",
    "    <h2> Sets </h2>\n",
    "    https://github.com/Asabeneh/30-Days-Of-Python\n",
    "</div>"
   ]
  },
  {
   "cell_type": "markdown",
   "id": "41ea98fb",
   "metadata": {},
   "source": [
    "<span style = color:green> \n",
    "    <h3> Level 2 </h3>\n",
    "</span>"
   ]
  },
  {
   "cell_type": "markdown",
   "id": "b87e28b4",
   "metadata": {},
   "source": [
    "**1. Join A and B**"
   ]
  },
  {
   "cell_type": "code",
   "execution_count": 69,
   "id": "a0bd2cbb",
   "metadata": {},
   "outputs": [
    {
     "name": "stdout",
     "output_type": "stream",
     "text": [
      "{'United Kingdom', 'Singapore', 'Greece', 'Australia', 'Canada', 'Russia', 'New Zeland', 'Malaysia', 'USA', 'Italy'}   10\n"
     ]
    }
   ],
   "source": [
    "A = {'Canada','USA','Singapore','Australia','Russia','Malaysia'}\n",
    "B = {'USA', 'United Kingdom','New Zeland','Greece','Italy','Singapore'}\n",
    "\n",
    "AB = A.union(B)\n",
    "print(AB,' ',len(AB))"
   ]
  },
  {
   "cell_type": "markdown",
   "id": "c37e2f09",
   "metadata": {},
   "source": [
    "**2. Find A intersection B**"
   ]
  },
  {
   "cell_type": "code",
   "execution_count": 65,
   "id": "1d93d190",
   "metadata": {},
   "outputs": [
    {
     "name": "stdout",
     "output_type": "stream",
     "text": [
      "{'USA', 'Singapore'}\n"
     ]
    }
   ],
   "source": [
    "print(A.intersection(B))"
   ]
  },
  {
   "cell_type": "markdown",
   "id": "8eff10c0",
   "metadata": {},
   "source": [
    "**3. Is A subset of B**"
   ]
  },
  {
   "cell_type": "code",
   "execution_count": 66,
   "id": "92648036",
   "metadata": {},
   "outputs": [
    {
     "name": "stdout",
     "output_type": "stream",
     "text": [
      "False\n"
     ]
    }
   ],
   "source": [
    "print(A.issubset(B))"
   ]
  },
  {
   "cell_type": "markdown",
   "id": "bb60847e",
   "metadata": {},
   "source": [
    "**4. Are A and B disjoint sets**"
   ]
  },
  {
   "cell_type": "code",
   "execution_count": 68,
   "id": "c4130173",
   "metadata": {},
   "outputs": [
    {
     "name": "stdout",
     "output_type": "stream",
     "text": [
      "False\n"
     ]
    }
   ],
   "source": [
    "print(A.isdisjoint(B))"
   ]
  },
  {
   "cell_type": "markdown",
   "id": "9a294e32",
   "metadata": {},
   "source": [
    "**5. Join A with B and B with A**"
   ]
  },
  {
   "cell_type": "code",
   "execution_count": 71,
   "id": "7e476196",
   "metadata": {},
   "outputs": [
    {
     "name": "stdout",
     "output_type": "stream",
     "text": [
      "A joins B: {'United Kingdom', 'Singapore', 'Greece', 'Canada', 'Russia', 'New Zeland', 'Australia', 'Malaysia', 'USA', 'Italy'}\n",
      "\n",
      "B joins A: {'United Kingdom', 'Singapore', 'Greece', 'Canada', 'New Zeland', 'Russia', 'Australia', 'Malaysia', 'USA', 'Italy'}\n"
     ]
    }
   ],
   "source": [
    "A_join_B = A.union(B)\n",
    "B_join_A = B.union(A)\n",
    "\n",
    "print('A joins B:',A_join_B)\n",
    "print()\n",
    "print('B joins A:',B_join_A)"
   ]
  },
  {
   "cell_type": "markdown",
   "id": "8b2f64dc",
   "metadata": {},
   "source": [
    "**6. Delete sets completely**"
   ]
  },
  {
   "cell_type": "code",
   "execution_count": 72,
   "id": "1ca2ffcd",
   "metadata": {},
   "outputs": [
    {
     "name": "stdout",
     "output_type": "stream",
     "text": [
      "Sets A and B are deleted\n"
     ]
    }
   ],
   "source": [
    "del A\n",
    "del B\n",
    "print('Sets A and B are deleted')"
   ]
  },
  {
   "cell_type": "code",
   "execution_count": 73,
   "id": "61fa54aa",
   "metadata": {},
   "outputs": [
    {
     "ename": "NameError",
     "evalue": "name 'A' is not defined",
     "output_type": "error",
     "traceback": [
      "\u001b[1;31m---------------------------------------------------------------------------\u001b[0m",
      "\u001b[1;31mNameError\u001b[0m                                 Traceback (most recent call last)",
      "Cell \u001b[1;32mIn[73], line 1\u001b[0m\n\u001b[1;32m----> 1\u001b[0m \u001b[38;5;28mprint\u001b[39m(\u001b[43mA\u001b[49m)\n",
      "\u001b[1;31mNameError\u001b[0m: name 'A' is not defined"
     ]
    }
   ],
   "source": [
    "print(A)"
   ]
  },
  {
   "cell_type": "markdown",
   "id": "789bae3d",
   "metadata": {},
   "source": [
    "<span style = color:green> \n",
    "    <h3> Level 3 </h3>\n",
    "</span>"
   ]
  },
  {
   "cell_type": "markdown",
   "id": "8e909a76",
   "metadata": {},
   "source": [
    "**1. Convert the ages to a set and compare the length of the list and the set, which one is bigger?**"
   ]
  },
  {
   "cell_type": "code",
   "execution_count": 75,
   "id": "0bdba499",
   "metadata": {},
   "outputs": [
    {
     "name": "stdout",
     "output_type": "stream",
     "text": [
      "The list is bigger\n"
     ]
    }
   ],
   "source": [
    "ages = [20, 30, 24, 34, 25, 35, 18, 17, 18]\n",
    "ages_set = set(ages)\n",
    "\n",
    "print('The set is bigger') if len(ages_set)>len(ages) else print('The list is bigger')"
   ]
  },
  {
   "cell_type": "markdown",
   "id": "ba793208",
   "metadata": {},
   "source": [
    "**3. *I am a teacher and I love to inspire and teach people*. How many unique words have been used in the sentence? Use the split methods and set to get the unique words.**"
   ]
  },
  {
   "cell_type": "code",
   "execution_count": 78,
   "id": "4f5f4c5a",
   "metadata": {},
   "outputs": [
    {
     "name": "stdout",
     "output_type": "stream",
     "text": [
      "10 numbers of unique words\n",
      "teach I am teacher love to people inspire and a "
     ]
    }
   ],
   "source": [
    "st = \"I am a teacher and I love to inspire and teach people\"\n",
    "\n",
    "sentence = st.split()\n",
    "sentence = set(sentence)\n",
    "print(len(sentence),'numbers of unique words')\n",
    "for i in sentence:\n",
    "    print(i,end = ' ')"
   ]
  },
  {
   "cell_type": "markdown",
   "id": "009b3b33",
   "metadata": {},
   "source": [
    "<div class = \"alert alert-block alert-info\"> \n",
    "    <h2> Functions </h2>\n",
    "    https://github.com/Asabeneh/30-Days-Of-Python\n",
    "</div>"
   ]
  },
  {
   "cell_type": "markdown",
   "id": "225782e8",
   "metadata": {},
   "source": [
    "<span style = color:green>\n",
    "    <h3> Level 2 </h3>\n",
    "</span>"
   ]
  },
  {
   "cell_type": "markdown",
   "id": "c68a1b5d",
   "metadata": {},
   "source": [
    "**1. Declare a function named evens_and_odds. It takes a positive integer as parameter and it counts number of evens and odds in the number**\n",
    "```\n",
    "print(evens_and_odds(100))\n",
    "#The number of odds are 50\n",
    "#The number of evens are 51\n",
    "```"
   ]
  },
  {
   "cell_type": "code",
   "execution_count": 7,
   "id": "ab0781cf",
   "metadata": {},
   "outputs": [],
   "source": [
    "def evens_and_odds(number):\n",
    "    if number>0:\n",
    "        even = 0\n",
    "        odd = 0\n",
    "        for i in range(0,number+1):\n",
    "            if (i%2==0):\n",
    "                even+=1\n",
    "            else:\n",
    "                odd+=1\n",
    "        return f\"The number of odds are {odd} \\nThe number of evens are {even}\"\n",
    "    else:\n",
    "        return 'You have to enter a positive int number'"
   ]
  },
  {
   "cell_type": "code",
   "execution_count": 8,
   "id": "0f877bd4",
   "metadata": {},
   "outputs": [
    {
     "name": "stdout",
     "output_type": "stream",
     "text": [
      "The number of odds are 50 \n",
      "The number of evens are 51\n"
     ]
    }
   ],
   "source": [
    "print(evens_and_odds(100))"
   ]
  },
  {
   "cell_type": "markdown",
   "id": "5397bef6",
   "metadata": {},
   "source": [
    "**2. Call your function *is_empty*, it takes a parameter and it checks if it is empty or not**"
   ]
  },
  {
   "cell_type": "code",
   "execution_count": 12,
   "id": "499735df",
   "metadata": {},
   "outputs": [],
   "source": [
    "def is_empty(*value):\n",
    "    if not value:\n",
    "        return True\n",
    "    else:\n",
    "        return False"
   ]
  },
  {
   "cell_type": "code",
   "execution_count": 14,
   "id": "30504b70",
   "metadata": {},
   "outputs": [
    {
     "name": "stdout",
     "output_type": "stream",
     "text": [
      "False\n",
      "False\n",
      "True\n"
     ]
    }
   ],
   "source": [
    "print(is_empty('Hello'))\n",
    "print(is_empty('Hi','Greeting'))\n",
    "print(is_empty())"
   ]
  },
  {
   "cell_type": "markdown",
   "id": "07fa4094",
   "metadata": {},
   "source": [
    "**3. Write different functions which take lists. They should calculate_mean, calculate_median, calculate_mode, calculate_range, calculate_variance, calculate_std (standard deviation)**"
   ]
  },
  {
   "cell_type": "code",
   "execution_count": 49,
   "id": "0541681c",
   "metadata": {},
   "outputs": [],
   "source": [
    "def calculate_mean(numbers):\n",
    "    return sum(numbers)/len(numbers)\n",
    "\n",
    "def calculate_median(numbers):\n",
    "    numbers = sorted(numbers)\n",
    "    if len(numbers)%2 != 0:\n",
    "        return numbers[len(numbers)//2]\n",
    "    else:\n",
    "        mid1 = numbers[(len(numbers)//2) -1]\n",
    "        mid2 = numbers[len(numbers)//2]\n",
    "        return (numbers[mid1] + numbers[mid2]) // 2\n",
    "\n",
    "def calculate_mode(numbers):\n",
    "    from collections import Counter\n",
    "    lst_num = Counter(numbers)\n",
    "    \n",
    "    for key, value in lst_num.items():\n",
    "        if value == max(lst_num.values()):\n",
    "            mode = key\n",
    "    return mode\n",
    "\n",
    "def calculate_range(numbers):\n",
    "    if len(numbers) == 0:\n",
    "        return None\n",
    "    else:\n",
    "        return max(numbers)-min(numbers)\n",
    "\n",
    "def calculate_variance(numbers):\n",
    "    mean = calculate_mean(numbers)\n",
    "    \n",
    "    P1 = 0\n",
    "    for num in numbers:\n",
    "        P1 = P1 + (num - mean)**2\n",
    "    \n",
    "    variance = P1 / len(numbers)\n",
    "    return round(variance,3)\n",
    "\n",
    "def calculate_std(numbers):\n",
    "    import math\n",
    "    variance = calculate_variance(numbers)\n",
    "    return round(math.sqrt(variance),3)"
   ]
  },
  {
   "cell_type": "code",
   "execution_count": 50,
   "id": "5ded927b",
   "metadata": {},
   "outputs": [
    {
     "name": "stdout",
     "output_type": "stream",
     "text": [
      "Mean: 86.8\n",
      "Median: 85\n",
      "Mode: 92\n",
      "Range: 17\n",
      "Variance: 36.56\n",
      "Standard Deviation: 6.046\n"
     ]
    }
   ],
   "source": [
    "lst = [95, 78, 84, 85, 92]\n",
    "print(\"Mean:\",calculate_mean(lst))\n",
    "print(\"Median:\",calculate_median(lst))\n",
    "print('Mode:', calculate_mode(lst))\n",
    "print(\"Range:\", calculate_range(lst))\n",
    "print(\"Variance:\", calculate_variance(lst))\n",
    "print(\"Standard Deviation:\", calculate_std(lst))"
   ]
  },
  {
   "cell_type": "markdown",
   "id": "a1012d1f",
   "metadata": {},
   "source": [
    "<span style = color:green>\n",
    "    <h3> Level 3 </h3>\n",
    "</span>"
   ]
  },
  {
   "cell_type": "markdown",
   "id": "1fa8d95f",
   "metadata": {},
   "source": [
    "**5. Go to the data folder and access the countries-data.py file**\n",
    "- Create a function called the most_spoken_languages in the world. It should return 10 or 20 most spoken languages in the world in descending order\n",
    "- Create a function called the most_populated_countries. It should return 10 or 20 most populated countries in descending order."
   ]
  },
  {
   "cell_type": "code",
   "execution_count": 67,
   "id": "da45d3ef",
   "metadata": {},
   "outputs": [],
   "source": [
    "def most_spoken_languages(All_languages, top):\n",
    "    from collections import Counter\n",
    "    language_count = Counter(All_languages)\n",
    "    most_spoken = language_count.most_common(top)\n",
    "    \n",
    "    most_languages = []\n",
    "    for language in most_spoken:\n",
    "        most_languages.append(language[0])\n",
    "    return most_languages"
   ]
  },
  {
   "cell_type": "code",
   "execution_count": 84,
   "id": "cd8f4b87",
   "metadata": {},
   "outputs": [],
   "source": [
    "def most_populated_countries(countries, top):\n",
    "    all_countries = sorted(countries, key = lambda x: x['population'],\n",
    "                           reverse = True)\n",
    "    pop_countries = []\n",
    "    i = 0\n",
    "    for country in all_countries:\n",
    "        most_pop_country = {\n",
    "            'name': country['name'],\n",
    "            'population': country['population']\n",
    "        }\n",
    "        pop_countries.append(most_pop_country)\n",
    "        i+=1\n",
    "        if (i==top):\n",
    "            break\n",
    "    return pop_countries"
   ]
  },
  {
   "cell_type": "code",
   "execution_count": 85,
   "id": "b12c23d2",
   "metadata": {},
   "outputs": [
    {
     "name": "stdout",
     "output_type": "stream",
     "text": [
      "Top 10 languages most spoken in the world:\n",
      "1. English\n",
      "2. French\n",
      "3. Arabic\n",
      "4. Spanish\n",
      "5. Portuguese\n",
      "6. Russian\n",
      "7. Dutch\n",
      "8. German\n",
      "9. Chinese\n",
      "10. Serbian\n",
      "\n",
      "\n",
      "Top 10 populated countries in the world\n",
      "1. China with 1377422166 people\n",
      "2. India with 1295210000 people\n",
      "3. United States of America with 323947000 people\n",
      "4. Indonesia with 258705000 people\n",
      "5. Brazil with 206135893 people\n",
      "6. Pakistan with 194125062 people\n",
      "7. Nigeria with 186988000 people\n",
      "8. Bangladesh with 161006790 people\n",
      "9. Russian Federation with 146599183 people\n",
      "10. Japan with 126960000 people\n",
      "\n",
      "\n"
     ]
    }
   ],
   "source": [
    "from Data.countries_data import countries\n",
    "\n",
    "#Most_spoken_languages\n",
    "All_language = []\n",
    "for country in countries:\n",
    "    for language in country['languages']:\n",
    "        All_language.append(language)\n",
    "\n",
    "print(\"Top 10 languages most spoken in the world:\")\n",
    "most_spoken = most_spoken_languages(All_language, 10)\n",
    "i = 1\n",
    "for language in most_spoken:\n",
    "    print(f\"{i}. {language}\")\n",
    "    i+=1\n",
    "    \n",
    "print()\n",
    "print()\n",
    "\n",
    "#The most populated countries in the world\n",
    "print(\"Top 10 populated countries in the world\")\n",
    "populated_countries = most_populated_countries(countries, 10)\n",
    "i = 1\n",
    "for country in populated_countries:\n",
    "    print(f\"{i}. {country['name']} with {country['population']} people\")\n",
    "    i+=1\n",
    "    \n",
    "print()\n",
    "print()"
   ]
  }
 ],
 "metadata": {
  "kernelspec": {
   "display_name": "Python 3 (ipykernel)",
   "language": "python",
   "name": "python3"
  },
  "language_info": {
   "codemirror_mode": {
    "name": "ipython",
    "version": 3
   },
   "file_extension": ".py",
   "mimetype": "text/x-python",
   "name": "python",
   "nbconvert_exporter": "python",
   "pygments_lexer": "ipython3",
   "version": "3.11.3"
  }
 },
 "nbformat": 4,
 "nbformat_minor": 5
}
