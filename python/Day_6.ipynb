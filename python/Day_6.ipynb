{
 "cells": [
  {
   "cell_type": "markdown",
   "id": "9c184ff3",
   "metadata": {},
   "source": [
    "<div class = 'alert alert-block alert-info'> \n",
    "    <h3> List Comprehension </h3>\n",
    "    https://github.com/Asabeneh/30-Days-Of-Python/\n",
    "</div>"
   ]
  },
  {
   "cell_type": "code",
   "execution_count": 3,
   "id": "1f450b1a",
   "metadata": {},
   "outputs": [
    {
     "name": "stdout",
     "output_type": "stream",
     "text": [
      "First way\n",
      "<class 'list'>\n",
      "['W', 'i', 'n', 't', 'e', 'r']\n",
      "\n",
      "Second way\n",
      "<class 'list'>\n",
      "['W', 'i', 'n', 't', 'e', 'r']\n"
     ]
    }
   ],
   "source": [
    "#Change String to list\n",
    "print(\"First way\")\n",
    "season = \"Winter\"\n",
    "lst = list(season)\n",
    "print(type(lst))\n",
    "print(lst)\n",
    "print()\n",
    "\n",
    "#Change String to list by List comprehension\n",
    "print(\"Second way\")\n",
    "season = \"Winter\"\n",
    "lst = [i for i in season]\n",
    "print(type(lst))\n",
    "print(lst)"
   ]
  },
  {
   "cell_type": "code",
   "execution_count": 5,
   "id": "1ec1dc3e",
   "metadata": {},
   "outputs": [
    {
     "name": "stdout",
     "output_type": "stream",
     "text": [
      "[0, 1, 2, 3, 4, 5, 6, 7, 8, 9]\n"
     ]
    }
   ],
   "source": [
    "#Create a list of numbers\n",
    "numbers = [i for i in range(0,10)]\n",
    "print(numbers)"
   ]
  },
  {
   "cell_type": "code",
   "execution_count": 6,
   "id": "02691551",
   "metadata": {},
   "outputs": [
    {
     "name": "stdout",
     "output_type": "stream",
     "text": [
      "[(0, 0), (1, 1), (2, 4), (3, 9), (4, 16), (5, 25), (6, 36), (7, 49), (8, 64), (9, 81), (10, 100)]\n"
     ]
    }
   ],
   "source": [
    "#Create list of tuples\n",
    "numbers = [(i,i*i) for i in range(0,11)]\n",
    "print(numbers)"
   ]
  },
  {
   "cell_type": "code",
   "execution_count": 7,
   "id": "76779301",
   "metadata": {},
   "outputs": [
    {
     "name": "stdout",
     "output_type": "stream",
     "text": [
      "[0, 2, 4, 6, 8, 10, 12, 14, 16, 18, 20]\n"
     ]
    }
   ],
   "source": [
    "#Combine with if expression\n",
    "# Generating even numbers \n",
    "even_nums = [i for i in range(0,21) if i %2==0]\n",
    "print(even_nums)"
   ]
  },
  {
   "cell_type": "markdown",
   "id": "d1cea8f9",
   "metadata": {},
   "source": [
    "#### Lambda Function"
   ]
  },
  {
   "cell_type": "code",
   "execution_count": 10,
   "id": "00b0c8f8",
   "metadata": {},
   "outputs": [
    {
     "name": "stdout",
     "output_type": "stream",
     "text": [
      "Addition function: 10\n",
      "Lambda function: 10\n"
     ]
    }
   ],
   "source": [
    "def add(a,b):\n",
    "    return a+b\n",
    "\n",
    "print(\"Addition function:\",add(5,5))\n",
    "\n",
    "#Using Lambda function \n",
    "add_two_nums = lambda a, b: a+b\n",
    "print(\"Lambda function:\",add_two_nums(2,8))"
   ]
  },
  {
   "cell_type": "code",
   "execution_count": 14,
   "id": "fab052b8",
   "metadata": {},
   "outputs": [
    {
     "name": "stdout",
     "output_type": "stream",
     "text": [
      "add 5\n",
      "linear 32.5\n"
     ]
    }
   ],
   "source": [
    "#Self invoking lambda function\n",
    "add = (lambda a, b: a+b)(2,3)\n",
    "linear = (lambda a,b,X: a+b*X)(2.5, 3, 10)\n",
    "\n",
    "print(\"add\",add)\n",
    "print(\"linear\",linear)"
   ]
  },
  {
   "cell_type": "code",
   "execution_count": 16,
   "id": "32ee887c",
   "metadata": {},
   "outputs": [
    {
     "name": "stdout",
     "output_type": "stream",
     "text": [
      "14\n"
     ]
    }
   ],
   "source": [
    "def multiple(x,y):\n",
    "    return lambda n: x**n+y\n",
    "\n",
    "print(multiple(3,5)(2))"
   ]
  },
  {
   "cell_type": "markdown",
   "id": "fec01c06",
   "metadata": {},
   "source": [
    "<span style=color:green>\n",
    "    <b> <h3> Exercises </h3> </b>\n",
    "</span>"
   ]
  },
  {
   "cell_type": "markdown",
   "id": "4545ff1e",
   "metadata": {},
   "source": [
    "1. Filter only negative and zero in the list using list comprehension\n",
    "```\n",
    "    numbers = [-4, -3, -2, -1, 0, 2, 4, 6]\n",
    "```"
   ]
  },
  {
   "cell_type": "code",
   "execution_count": 17,
   "id": "d68d459f",
   "metadata": {},
   "outputs": [
    {
     "name": "stdout",
     "output_type": "stream",
     "text": [
      "[-4, -3, -2, -1]\n"
     ]
    }
   ],
   "source": [
    "numbers = [-4, -3, -2, -1, 0, 2, 4, 6]\n",
    "neg_nums = [i for i in numbers if (i<0)]\n",
    "print(neg_nums)"
   ]
  },
  {
   "cell_type": "markdown",
   "id": "5fe3a1d2",
   "metadata": {},
   "source": [
    "2. Flatten the following list of lists of lists to a one dimensional list :\n",
    "```\n",
    "list_of_lists =[[[1, 2, 3]], [[4, 5, 6]], [[7, 8, 9]]]\n",
    "\n",
    "output\n",
    "[1, 2, 3, 4, 5, 6, 7, 8, 9]\n",
    "```"
   ]
  },
  {
   "cell_type": "code",
   "execution_count": 19,
   "id": "63ad0658",
   "metadata": {},
   "outputs": [
    {
     "name": "stdout",
     "output_type": "stream",
     "text": [
      "[1, 2, 3, 4, 5, 6, 7, 8, 9]\n"
     ]
    }
   ],
   "source": [
    "list_of_lists =[[[1, 2, 3]], [[4, 5, 6]], [[7, 8, 9]]]\n",
    "\n",
    "flatten = [j for lst in list_of_lists for iLst in lst for j in iLst]\n",
    "print(flatten)"
   ]
  },
  {
   "cell_type": "markdown",
   "id": "22dc00c5",
   "metadata": {},
   "source": [
    "3. Using list comprehension create the following list of tuples:\n",
    "```\n",
    "[(0, 1, 0, 0, 0, 0, 0),\n",
    "(1, 1, 1, 1, 1, 1, 1),\n",
    "(2, 1, 2, 4, 8, 16, 32),\n",
    "(3, 1, 3, 9, 27, 81, 243),\n",
    "(4, 1, 4, 16, 64, 256, 1024),\n",
    "(5, 1, 5, 25, 125, 625, 3125),\n",
    "(6, 1, 6, 36, 216, 1296, 7776),\n",
    "(7, 1, 7, 49, 343, 2401, 16807),\n",
    "(8, 1, 8, 64, 512, 4096, 32768),\n",
    "(9, 1, 9, 81, 729, 6561, 59049),\n",
    "(10, 1, 10, 100, 1000, 10000, 100000)]\n",
    "```"
   ]
  },
  {
   "cell_type": "code",
   "execution_count": 27,
   "id": "65e545a0",
   "metadata": {},
   "outputs": [
    {
     "name": "stdout",
     "output_type": "stream",
     "text": [
      "[(0, 1, 0, 0, 0, 0, 0), (1, 1, 1, 1, 1, 1, 1), (2, 1, 2, 4, 8, 16, 32), (3, 1, 3, 9, 27, 81, 243), (4, 1, 4, 16, 64, 256, 1024), (5, 1, 5, 25, 125, 625, 3125), (6, 1, 6, 36, 216, 1296, 7776), (7, 1, 7, 49, 343, 2401, 16807), (8, 1, 8, 64, 512, 4096, 32768), (9, 1, 9, 81, 729, 6561, 59049)]\n"
     ]
    }
   ],
   "source": [
    "lst_of_tuple = [(i,1,i,i**2,i**3,i**4,i**5) for i in range(0,10)]\n",
    "print(lst_of_tuple)"
   ]
  },
  {
   "cell_type": "markdown",
   "id": "7504ac37",
   "metadata": {},
   "source": [
    "4. Flatten the following list to a new list:\n",
    "\n",
    "```\n",
    "countries = [[('Finland', 'Helsinki')], [('Sweden', 'Stockholm')], [('Norway', 'Oslo')]]\n",
    "output:\n",
    "[['FINLAND','FIN', 'HELSINKI'], ['SWEDEN', 'SWE', 'STOCKHOLM'], ['NORWAY', 'NOR', 'OSLO']]\n",
    "```"
   ]
  },
  {
   "cell_type": "code",
   "execution_count": 8,
   "id": "688ced96",
   "metadata": {},
   "outputs": [
    {
     "data": {
      "text/plain": [
       "[['FINLAND', 'FIN', 'HELSINKI'],\n",
       " ['SWEDEN', 'SWE', 'STOCKHOLM'],\n",
       " ['NORWAY', 'NOR', 'OSLO']]"
      ]
     },
     "execution_count": 8,
     "metadata": {},
     "output_type": "execute_result"
    }
   ],
   "source": [
    "countries = [[('Finland', 'Helsinki')], [('Sweden', 'Stockholm')], [('Norway', 'Oslo')]]\n",
    "\n",
    "Ncountries = [[country[0].upper(),country[0].upper()[:3],country[1].upper()] for list_countries in countries for country in list_countries]\n",
    "Ncountries"
   ]
  },
  {
   "cell_type": "markdown",
   "id": "4760e44d",
   "metadata": {},
   "source": [
    "5. Change the following list to a list of dictionaries:\n",
    "```\n",
    "countries = [[('Finland', 'Helsinki')], [('Sweden', 'Stockholm')], [('Norway', 'Oslo')]]\n",
    "output:\n",
    "[{'country': 'FINLAND', 'city': 'HELSINKI'},\n",
    "{'country': 'SWEDEN', 'city': 'STOCKHOLM'},\n",
    "{'country': 'NORWAY', 'city': 'OSLO'}]\n",
    "```"
   ]
  },
  {
   "cell_type": "code",
   "execution_count": 9,
   "id": "539221d2",
   "metadata": {},
   "outputs": [
    {
     "data": {
      "text/plain": [
       "[{'country': 'Finland', 'city': 'Helsinki'},\n",
       " {'country': 'Sweden', 'city': 'Stockholm'},\n",
       " {'country': 'Norway', 'city': 'Oslo'}]"
      ]
     },
     "execution_count": 9,
     "metadata": {},
     "output_type": "execute_result"
    }
   ],
   "source": [
    "countries = [[('Finland', 'Helsinki')], [('Sweden', 'Stockholm')], [('Norway', 'Oslo')]]\n",
    "\n",
    "Ncountries = [{'country':country[0],'city':country[1]} for list_countries in countries for country in list_countries]\n",
    "Ncountries"
   ]
  },
  {
   "cell_type": "markdown",
   "id": "a2dd339d",
   "metadata": {},
   "source": [
    "6. Change the following list of lists to a list of concatenated strings:\n",
    "```\n",
    "names = [[('Asabeneh', 'Yetayeh')], [('David', 'Smith')], [('Donald', 'Trump')], [('Bill', 'Gates')]]\n",
    "output\n",
    "['Asabeneh Yetaeyeh', 'David Smith', 'Donald Trump', 'Bill Gates']\n",
    "```"
   ]
  },
  {
   "cell_type": "code",
   "execution_count": 11,
   "id": "bf743259",
   "metadata": {},
   "outputs": [
    {
     "data": {
      "text/plain": [
       "['Asabeneh Yetayeh', 'David Smith', 'Donald Trump', 'Bill Gates']"
      ]
     },
     "execution_count": 11,
     "metadata": {},
     "output_type": "execute_result"
    }
   ],
   "source": [
    "names = [[('Asabeneh', 'Yetayeh')], [('David', 'Smith')], [('Donald', 'Trump')], [('Bill', 'Gates')]]\n",
    "\n",
    "famous_names = [name[0]+ ' '+name[1] for list_of_names in names for name in list_of_names]\n",
    "famous_names"
   ]
  },
  {
   "cell_type": "markdown",
   "id": "33a12c33",
   "metadata": {},
   "source": [
    "<div class = 'alert alert-block alert-info'> \n",
    "    <h3> Higher order functions </h3>\n",
    "    https://github.com/Asabeneh/30-Days-Of-Python/\n",
    "</div>"
   ]
  },
  {
   "cell_type": "markdown",
   "id": "cae730eb",
   "metadata": {},
   "source": [
    "<h3> Built-in Higher Order Function </h3>  \n",
    "  \n",
    "<b>Map(func, iter):</b> allows to apply a specified function to each element in an iterable (list, tuple, or string)  \n",
    "\n",
    "```\n",
    "numbers = [1,2,3,4,5]\n",
    "list(map(lambda x: x**2, numbers))\n",
    "\n",
    "output: [1, 4, 9, 16, 25]\n",
    "```  \n",
    "\n",
    "**filter(func, iter):** allows to filter elements from an iterable based on a specified condition function\n",
    "```\n",
    "numbers = [1,2,3,4,5,6]\n",
    "list(filter(lambda x: x%2 == 0, numbers))\n",
    "\n",
    "output: [2,4,6]\n",
    "```  \n",
    "\n",
    "**reduce(func, iter):** allows to combine elements in an iterable in an iterable into a single result  \n",
    "```\n",
    "from functools import reduce\n",
    "numbers = [1,2,3,4,5]\n",
    "reduce(lambda x, y: x*y, numbers\n",
    "\n",
    "output: 120\n",
    "```"
   ]
  },
  {
   "cell_type": "code",
   "execution_count": 17,
   "id": "4052bd9e",
   "metadata": {},
   "outputs": [
    {
     "data": {
      "text/plain": [
       "[1, 2, 3, 4, 5]"
      ]
     },
     "execution_count": 17,
     "metadata": {},
     "output_type": "execute_result"
    }
   ],
   "source": [
    "numbers = [1,2,3,4,5]\n",
    "list(map(lambda x:x**2, numbers))\n",
    "\n",
    "number = '1 2 3 4 5'\n",
    "list(map(int,number.split()))"
   ]
  },
  {
   "cell_type": "code",
   "execution_count": 22,
   "id": "052fcbfe",
   "metadata": {
    "scrolled": true
   },
   "outputs": [
    {
     "name": "stdout",
     "output_type": "stream",
     "text": [
      "[False, True, False, True, False, True]\n",
      "[2, 4, 6]\n"
     ]
    }
   ],
   "source": [
    "numbers = [1,2,3,4,5,6]\n",
    "numMap = list(map(lambda x: x%2 ==0, numbers))\n",
    "numFil = list(filter(lambda x: x%2==0, numbers))\n",
    "print(numMap)\n",
    "print(numFil)"
   ]
  },
  {
   "cell_type": "code",
   "execution_count": 25,
   "id": "28c3e9b6",
   "metadata": {},
   "outputs": [
    {
     "data": {
      "text/plain": [
       "3628800"
      ]
     },
     "execution_count": 25,
     "metadata": {},
     "output_type": "execute_result"
    }
   ],
   "source": [
    "from functools import reduce\n",
    "numbers = [1,2,3,4,5,6,7,8,9,10]\n",
    "reduce(lambda x,y: x*y, numbers)"
   ]
  },
  {
   "cell_type": "markdown",
   "id": "bad999ad",
   "metadata": {},
   "source": [
    "<span style = color:green> \n",
    "    <h3> Level 1</h3>\n",
    "</span>"
   ]
  },
  {
   "cell_type": "markdown",
   "id": "18b3c989",
   "metadata": {},
   "source": [
    "**3. Define a call function before map, filter or reduce, see examples.**"
   ]
  },
  {
   "cell_type": "code",
   "execution_count": 8,
   "id": "57a247d6",
   "metadata": {},
   "outputs": [
    {
     "name": "stdout",
     "output_type": "stream",
     "text": [
      "[1, 4, 9, 16, 25]\n"
     ]
    }
   ],
   "source": [
    "#map example\n",
    "def square(x):\n",
    "    return x**2\n",
    "\n",
    "numbers = [1,2,3,4,5]\n",
    "squared = list(map(square, numbers))\n",
    "print(squared)"
   ]
  },
  {
   "cell_type": "code",
   "execution_count": 9,
   "id": "557d1312",
   "metadata": {},
   "outputs": [
    {
     "name": "stdout",
     "output_type": "stream",
     "text": [
      "[2, 4, 6]\n"
     ]
    }
   ],
   "source": [
    "#filter example\n",
    "def is_even(x):\n",
    "    if x%2 == 0:\n",
    "        return True\n",
    "    return False\n",
    "\n",
    "numbers = [1,2,3,4,5,6]\n",
    "even_numbers = list(filter(is_even, numbers))\n",
    "print(even_numbers)"
   ]
  },
  {
   "cell_type": "code",
   "execution_count": 10,
   "id": "514bd664",
   "metadata": {},
   "outputs": [
    {
     "name": "stdout",
     "output_type": "stream",
     "text": [
      "120\n"
     ]
    }
   ],
   "source": [
    "#reduce example\n",
    "from functools import reduce\n",
    "\n",
    "def multiply(x, y):\n",
    "    return x*y\n",
    "\n",
    "numbers = [1,2,3,4,5]\n",
    "multiply_numbers = reduce(multiply, numbers)\n",
    "print(multiply_numbers)"
   ]
  },
  {
   "cell_type": "markdown",
   "id": "2ef8650c",
   "metadata": {},
   "source": [
    "<span style = color:green> \n",
    "    <h3> Level 2 </h3>\n",
    "</span>"
   ]
  },
  {
   "cell_type": "markdown",
   "id": "d088fc4e",
   "metadata": {},
   "source": [
    "**1. Use map to create a new list by changing each country to uppercase in the countries list**"
   ]
  },
  {
   "cell_type": "code",
   "execution_count": 35,
   "id": "05233c5d",
   "metadata": {},
   "outputs": [],
   "source": [
    "from Data.countries_data import countries\n",
    "\n",
    "countryName = [country['name'] for country in countries]"
   ]
  },
  {
   "cell_type": "code",
   "execution_count": 36,
   "id": "bd5de427",
   "metadata": {},
   "outputs": [
    {
     "data": {
      "text/plain": [
       "['AFGHANISTAN',\n",
       " 'ÅLAND ISLANDS',\n",
       " 'ALBANIA',\n",
       " 'ALGERIA',\n",
       " 'AMERICAN SAMOA',\n",
       " 'ANDORRA',\n",
       " 'ANGOLA',\n",
       " 'ANGUILLA',\n",
       " 'ANTARCTICA',\n",
       " 'ANTIGUA AND BARBUDA',\n",
       " 'ARGENTINA',\n",
       " 'ARMENIA',\n",
       " 'ARUBA',\n",
       " 'AUSTRALIA',\n",
       " 'AUSTRIA',\n",
       " 'AZERBAIJAN',\n",
       " 'BAHAMAS',\n",
       " 'BAHRAIN',\n",
       " 'BANGLADESH',\n",
       " 'BARBADOS',\n",
       " 'BELARUS',\n",
       " 'BELGIUM',\n",
       " 'BELIZE',\n",
       " 'BENIN',\n",
       " 'BERMUDA',\n",
       " 'BHUTAN',\n",
       " 'BOLIVIA (PLURINATIONAL STATE OF)',\n",
       " 'BONAIRE, SINT EUSTATIUS AND SABA',\n",
       " 'BOSNIA AND HERZEGOVINA',\n",
       " 'BOTSWANA',\n",
       " 'BOUVET ISLAND',\n",
       " 'BRAZIL',\n",
       " 'BRITISH INDIAN OCEAN TERRITORY',\n",
       " 'UNITED STATES MINOR OUTLYING ISLANDS',\n",
       " 'VIRGIN ISLANDS (BRITISH)',\n",
       " 'VIRGIN ISLANDS (U.S.)',\n",
       " 'BRUNEI DARUSSALAM',\n",
       " 'BULGARIA',\n",
       " 'BURKINA FASO',\n",
       " 'BURUNDI',\n",
       " 'CAMBODIA',\n",
       " 'CAMEROON',\n",
       " 'CANADA',\n",
       " 'CABO VERDE',\n",
       " 'CAYMAN ISLANDS',\n",
       " 'CENTRAL AFRICAN REPUBLIC',\n",
       " 'CHAD',\n",
       " 'CHILE',\n",
       " 'CHINA',\n",
       " 'CHRISTMAS ISLAND',\n",
       " 'COCOS (KEELING) ISLANDS',\n",
       " 'COLOMBIA',\n",
       " 'COMOROS',\n",
       " 'CONGO',\n",
       " 'CONGO (DEMOCRATIC REPUBLIC OF THE)',\n",
       " 'COOK ISLANDS',\n",
       " 'COSTA RICA',\n",
       " 'CROATIA',\n",
       " 'CUBA',\n",
       " 'CURAÇAO',\n",
       " 'CYPRUS',\n",
       " 'CZECH REPUBLIC',\n",
       " 'DENMARK',\n",
       " 'DJIBOUTI',\n",
       " 'DOMINICA',\n",
       " 'DOMINICAN REPUBLIC',\n",
       " 'ECUADOR',\n",
       " 'EGYPT',\n",
       " 'EL SALVADOR',\n",
       " 'EQUATORIAL GUINEA',\n",
       " 'ERITREA',\n",
       " 'ESTONIA',\n",
       " 'ETHIOPIA',\n",
       " 'FALKLAND ISLANDS (MALVINAS)',\n",
       " 'FAROE ISLANDS',\n",
       " 'FIJI',\n",
       " 'FINLAND',\n",
       " 'FRANCE',\n",
       " 'FRENCH GUIANA',\n",
       " 'FRENCH POLYNESIA',\n",
       " 'FRENCH SOUTHERN TERRITORIES',\n",
       " 'GABON',\n",
       " 'GAMBIA',\n",
       " 'GEORGIA',\n",
       " 'GERMANY',\n",
       " 'GHANA',\n",
       " 'GIBRALTAR',\n",
       " 'GREECE',\n",
       " 'GREENLAND',\n",
       " 'GRENADA',\n",
       " 'GUADELOUPE',\n",
       " 'GUAM',\n",
       " 'GUATEMALA',\n",
       " 'GUERNSEY',\n",
       " 'GUINEA',\n",
       " 'GUINEA-BISSAU',\n",
       " 'GUYANA',\n",
       " 'HAITI',\n",
       " 'HEARD ISLAND AND MCDONALD ISLANDS',\n",
       " 'HOLY SEE',\n",
       " 'HONDURAS',\n",
       " 'HONG KONG',\n",
       " 'HUNGARY',\n",
       " 'ICELAND',\n",
       " 'INDIA',\n",
       " 'INDONESIA',\n",
       " \"CÔTE D'IVOIRE\",\n",
       " 'IRAN (ISLAMIC REPUBLIC OF)',\n",
       " 'IRAQ',\n",
       " 'IRELAND',\n",
       " 'ISLE OF MAN',\n",
       " 'ISRAEL',\n",
       " 'ITALY',\n",
       " 'JAMAICA',\n",
       " 'JAPAN',\n",
       " 'JERSEY',\n",
       " 'JORDAN',\n",
       " 'KAZAKHSTAN',\n",
       " 'KENYA',\n",
       " 'KIRIBATI',\n",
       " 'KUWAIT',\n",
       " 'KYRGYZSTAN',\n",
       " \"LAO PEOPLE'S DEMOCRATIC REPUBLIC\",\n",
       " 'LATVIA',\n",
       " 'LEBANON',\n",
       " 'LESOTHO',\n",
       " 'LIBERIA',\n",
       " 'LIBYA',\n",
       " 'LIECHTENSTEIN',\n",
       " 'LITHUANIA',\n",
       " 'LUXEMBOURG',\n",
       " 'MACAO',\n",
       " 'MACEDONIA (THE FORMER YUGOSLAV REPUBLIC OF)',\n",
       " 'MADAGASCAR',\n",
       " 'MALAWI',\n",
       " 'MALAYSIA',\n",
       " 'MALDIVES',\n",
       " 'MALI',\n",
       " 'MALTA',\n",
       " 'MARSHALL ISLANDS',\n",
       " 'MARTINIQUE',\n",
       " 'MAURITANIA',\n",
       " 'MAURITIUS',\n",
       " 'MAYOTTE',\n",
       " 'MEXICO',\n",
       " 'MICRONESIA (FEDERATED STATES OF)',\n",
       " 'MOLDOVA (REPUBLIC OF)',\n",
       " 'MONACO',\n",
       " 'MONGOLIA',\n",
       " 'MONTENEGRO',\n",
       " 'MONTSERRAT',\n",
       " 'MOROCCO',\n",
       " 'MOZAMBIQUE',\n",
       " 'MYANMAR',\n",
       " 'NAMIBIA',\n",
       " 'NAURU',\n",
       " 'NEPAL',\n",
       " 'NETHERLANDS',\n",
       " 'NEW CALEDONIA',\n",
       " 'NEW ZEALAND',\n",
       " 'NICARAGUA',\n",
       " 'NIGER',\n",
       " 'NIGERIA',\n",
       " 'NIUE',\n",
       " 'NORFOLK ISLAND',\n",
       " \"KOREA (DEMOCRATIC PEOPLE'S REPUBLIC OF)\",\n",
       " 'NORTHERN MARIANA ISLANDS',\n",
       " 'NORWAY',\n",
       " 'OMAN',\n",
       " 'PAKISTAN',\n",
       " 'PALAU',\n",
       " 'PALESTINE, STATE OF',\n",
       " 'PANAMA',\n",
       " 'PAPUA NEW GUINEA',\n",
       " 'PARAGUAY',\n",
       " 'PERU',\n",
       " 'PHILIPPINES',\n",
       " 'PITCAIRN',\n",
       " 'POLAND',\n",
       " 'PORTUGAL',\n",
       " 'PUERTO RICO',\n",
       " 'QATAR',\n",
       " 'REPUBLIC OF KOSOVO',\n",
       " 'RÉUNION',\n",
       " 'ROMANIA',\n",
       " 'RUSSIAN FEDERATION',\n",
       " 'RWANDA',\n",
       " 'SAINT BARTHÉLEMY',\n",
       " 'SAINT HELENA, ASCENSION AND TRISTAN DA CUNHA',\n",
       " 'SAINT KITTS AND NEVIS',\n",
       " 'SAINT LUCIA',\n",
       " 'SAINT MARTIN (FRENCH PART)',\n",
       " 'SAINT PIERRE AND MIQUELON',\n",
       " 'SAINT VINCENT AND THE GRENADINES',\n",
       " 'SAMOA',\n",
       " 'SAN MARINO',\n",
       " 'SAO TOME AND PRINCIPE',\n",
       " 'SAUDI ARABIA',\n",
       " 'SENEGAL',\n",
       " 'SERBIA',\n",
       " 'SEYCHELLES',\n",
       " 'SIERRA LEONE',\n",
       " 'SINGAPORE',\n",
       " 'SINT MAARTEN (DUTCH PART)',\n",
       " 'SLOVAKIA',\n",
       " 'SLOVENIA',\n",
       " 'SOLOMON ISLANDS',\n",
       " 'SOMALIA',\n",
       " 'SOUTH AFRICA',\n",
       " 'SOUTH GEORGIA AND THE SOUTH SANDWICH ISLANDS',\n",
       " 'KOREA (REPUBLIC OF)',\n",
       " 'SOUTH SUDAN',\n",
       " 'SPAIN',\n",
       " 'SRI LANKA',\n",
       " 'SUDAN',\n",
       " 'SURINAME',\n",
       " 'SVALBARD AND JAN MAYEN',\n",
       " 'SWAZILAND',\n",
       " 'SWEDEN',\n",
       " 'SWITZERLAND',\n",
       " 'SYRIAN ARAB REPUBLIC',\n",
       " 'TAIWAN',\n",
       " 'TAJIKISTAN',\n",
       " 'TANZANIA, UNITED REPUBLIC OF',\n",
       " 'THAILAND',\n",
       " 'TIMOR-LESTE',\n",
       " 'TOGO',\n",
       " 'TOKELAU',\n",
       " 'TONGA',\n",
       " 'TRINIDAD AND TOBAGO',\n",
       " 'TUNISIA',\n",
       " 'TURKEY',\n",
       " 'TURKMENISTAN',\n",
       " 'TURKS AND CAICOS ISLANDS',\n",
       " 'TUVALU',\n",
       " 'UGANDA',\n",
       " 'UKRAINE',\n",
       " 'UNITED ARAB EMIRATES',\n",
       " 'UNITED KINGDOM OF GREAT BRITAIN AND NORTHERN IRELAND',\n",
       " 'UNITED STATES OF AMERICA',\n",
       " 'URUGUAY',\n",
       " 'UZBEKISTAN',\n",
       " 'VANUATU',\n",
       " 'VENEZUELA (BOLIVARIAN REPUBLIC OF)',\n",
       " 'VIET NAM',\n",
       " 'WALLIS AND FUTUNA',\n",
       " 'WESTERN SAHARA',\n",
       " 'YEMEN',\n",
       " 'ZAMBIA',\n",
       " 'ZIMBABWE']"
      ]
     },
     "execution_count": 36,
     "metadata": {},
     "output_type": "execute_result"
    }
   ],
   "source": [
    "def upperCase(st):\n",
    "    return st.upper()\n",
    "\n",
    "upperCountry = list(map(upperCase,countryName))\n",
    "upperCountry"
   ]
  },
  {
   "cell_type": "markdown",
   "id": "0febd20d",
   "metadata": {},
   "source": [
    "<b> 2. Use map to create new list by changing each number to its square in the numbers list</b>"
   ]
  },
  {
   "cell_type": "code",
   "execution_count": 38,
   "id": "5e9554ad",
   "metadata": {},
   "outputs": [
    {
     "data": {
      "text/plain": [
       "[1, 4, 9, 16, 25]"
      ]
     },
     "execution_count": 38,
     "metadata": {},
     "output_type": "execute_result"
    }
   ],
   "source": [
    "number = [1,2,3,4,5]\n",
    "\n",
    "squaredNum = list(map(lambda x:x**2, number))\n",
    "squaredNum"
   ]
  },
  {
   "cell_type": "markdown",
   "id": "46c290cf",
   "metadata": {},
   "source": [
    "<b> 3. Use map to change each name to uppercase in the names list </b>"
   ]
  },
  {
   "cell_type": "code",
   "execution_count": 49,
   "id": "3508cbb2",
   "metadata": {},
   "outputs": [
    {
     "data": {
      "text/plain": [
       "['ALEX', 'NAPOLEON', 'PHUCLONG', 'SANTACLAUS', 'ELONMUSK']"
      ]
     },
     "execution_count": 49,
     "metadata": {},
     "output_type": "execute_result"
    }
   ],
   "source": [
    "names = ['Alex','Napoleon','PhucLong','SantaClaus','ElonMusk']\n",
    "\n",
    "def upperCase(st):\n",
    "    return st.upper()\n",
    "\n",
    "upperName = list(map(upperCase,names))\n",
    "upperName"
   ]
  },
  {
   "cell_type": "markdown",
   "id": "ded2f6ac",
   "metadata": {},
   "source": [
    "<b> 4. Use filter to filter out countries containing 'land' </b>"
   ]
  },
  {
   "cell_type": "code",
   "execution_count": 54,
   "id": "d88e9bc1",
   "metadata": {},
   "outputs": [
    {
     "data": {
      "text/plain": [
       "['Åland Islands',\n",
       " 'Bouvet Island',\n",
       " 'United States Minor Outlying Islands',\n",
       " 'Virgin Islands (British)',\n",
       " 'Virgin Islands (U.S.)',\n",
       " 'Cayman Islands',\n",
       " 'Christmas Island',\n",
       " 'Cocos (Keeling) Islands',\n",
       " 'Cook Islands',\n",
       " 'Falkland Islands (Malvinas)',\n",
       " 'Faroe Islands',\n",
       " 'Finland',\n",
       " 'Greenland',\n",
       " 'Heard Island and McDonald Islands',\n",
       " 'Iceland',\n",
       " 'Ireland',\n",
       " 'Marshall Islands',\n",
       " 'Netherlands',\n",
       " 'New Zealand',\n",
       " 'Norfolk Island',\n",
       " 'Northern Mariana Islands',\n",
       " 'Poland',\n",
       " 'Solomon Islands',\n",
       " 'South Georgia and the South Sandwich Islands',\n",
       " 'Swaziland',\n",
       " 'Switzerland',\n",
       " 'Thailand',\n",
       " 'Turks and Caicos Islands',\n",
       " 'United Kingdom of Great Britain and Northern Ireland']"
      ]
     },
     "execution_count": 54,
     "metadata": {},
     "output_type": "execute_result"
    }
   ],
   "source": [
    "countryLand = list(filter(lambda ctr:'land' in ctr ,countryName))\n",
    "countryLand"
   ]
  },
  {
   "cell_type": "markdown",
   "id": "057aa4a2",
   "metadata": {},
   "source": [
    "<b> 5. Use filter to filter out countries having exactly six characters </b>"
   ]
  },
  {
   "cell_type": "code",
   "execution_count": 55,
   "id": "56353fcd",
   "metadata": {},
   "outputs": [
    {
     "data": {
      "text/plain": [
       "['Angola',\n",
       " 'Belize',\n",
       " 'Bhutan',\n",
       " 'Brazil',\n",
       " 'Canada',\n",
       " 'Cyprus',\n",
       " 'France',\n",
       " 'Gambia',\n",
       " 'Greece',\n",
       " 'Guinea',\n",
       " 'Guyana',\n",
       " 'Israel',\n",
       " 'Jersey',\n",
       " 'Jordan',\n",
       " 'Kuwait',\n",
       " 'Latvia',\n",
       " 'Malawi',\n",
       " 'Mexico',\n",
       " 'Monaco',\n",
       " 'Norway',\n",
       " 'Panama',\n",
       " 'Poland',\n",
       " 'Rwanda',\n",
       " 'Serbia',\n",
       " 'Sweden',\n",
       " 'Taiwan',\n",
       " 'Turkey',\n",
       " 'Tuvalu',\n",
       " 'Uganda',\n",
       " 'Zambia']"
      ]
     },
     "execution_count": 55,
     "metadata": {},
     "output_type": "execute_result"
    }
   ],
   "source": [
    "countrySix = list(filter(lambda ctr: len(ctr)==6, countryName))\n",
    "countrySix"
   ]
  },
  {
   "cell_type": "markdown",
   "id": "ec3a8520",
   "metadata": {},
   "source": [
    "<b> 6. Use filter to filter out countries containing six letters and more in the country list</b>"
   ]
  },
  {
   "cell_type": "code",
   "execution_count": 57,
   "id": "5b9a0b6f",
   "metadata": {},
   "outputs": [
    {
     "data": {
      "text/plain": [
       "['Afghanistan',\n",
       " 'Åland Islands',\n",
       " 'Albania',\n",
       " 'Algeria',\n",
       " 'American Samoa',\n",
       " 'Andorra',\n",
       " 'Angola',\n",
       " 'Anguilla',\n",
       " 'Antarctica',\n",
       " 'Antigua and Barbuda',\n",
       " 'Argentina',\n",
       " 'Armenia',\n",
       " 'Australia',\n",
       " 'Austria',\n",
       " 'Azerbaijan',\n",
       " 'Bahamas',\n",
       " 'Bahrain',\n",
       " 'Bangladesh',\n",
       " 'Barbados',\n",
       " 'Belarus',\n",
       " 'Belgium',\n",
       " 'Belize',\n",
       " 'Bermuda',\n",
       " 'Bhutan',\n",
       " 'Bolivia (Plurinational State of)',\n",
       " 'Bonaire, Sint Eustatius and Saba',\n",
       " 'Bosnia and Herzegovina',\n",
       " 'Botswana',\n",
       " 'Bouvet Island',\n",
       " 'Brazil',\n",
       " 'British Indian Ocean Territory',\n",
       " 'United States Minor Outlying Islands',\n",
       " 'Virgin Islands (British)',\n",
       " 'Virgin Islands (U.S.)',\n",
       " 'Brunei Darussalam',\n",
       " 'Bulgaria',\n",
       " 'Burkina Faso',\n",
       " 'Burundi',\n",
       " 'Cambodia',\n",
       " 'Cameroon',\n",
       " 'Canada',\n",
       " 'Cabo Verde',\n",
       " 'Cayman Islands',\n",
       " 'Central African Republic',\n",
       " 'Christmas Island',\n",
       " 'Cocos (Keeling) Islands',\n",
       " 'Colombia',\n",
       " 'Comoros',\n",
       " 'Congo (Democratic Republic of the)',\n",
       " 'Cook Islands',\n",
       " 'Costa Rica',\n",
       " 'Croatia',\n",
       " 'Curaçao',\n",
       " 'Cyprus',\n",
       " 'Czech Republic',\n",
       " 'Denmark',\n",
       " 'Djibouti',\n",
       " 'Dominica',\n",
       " 'Dominican Republic',\n",
       " 'Ecuador',\n",
       " 'El Salvador',\n",
       " 'Equatorial Guinea',\n",
       " 'Eritrea',\n",
       " 'Estonia',\n",
       " 'Ethiopia',\n",
       " 'Falkland Islands (Malvinas)',\n",
       " 'Faroe Islands',\n",
       " 'Finland',\n",
       " 'France',\n",
       " 'French Guiana',\n",
       " 'French Polynesia',\n",
       " 'French Southern Territories',\n",
       " 'Gambia',\n",
       " 'Georgia',\n",
       " 'Germany',\n",
       " 'Gibraltar',\n",
       " 'Greece',\n",
       " 'Greenland',\n",
       " 'Grenada',\n",
       " 'Guadeloupe',\n",
       " 'Guatemala',\n",
       " 'Guernsey',\n",
       " 'Guinea',\n",
       " 'Guinea-Bissau',\n",
       " 'Guyana',\n",
       " 'Heard Island and McDonald Islands',\n",
       " 'Holy See',\n",
       " 'Honduras',\n",
       " 'Hong Kong',\n",
       " 'Hungary',\n",
       " 'Iceland',\n",
       " 'Indonesia',\n",
       " \"Côte d'Ivoire\",\n",
       " 'Iran (Islamic Republic of)',\n",
       " 'Ireland',\n",
       " 'Isle of Man',\n",
       " 'Israel',\n",
       " 'Jamaica',\n",
       " 'Jersey',\n",
       " 'Jordan',\n",
       " 'Kazakhstan',\n",
       " 'Kiribati',\n",
       " 'Kuwait',\n",
       " 'Kyrgyzstan',\n",
       " \"Lao People's Democratic Republic\",\n",
       " 'Latvia',\n",
       " 'Lebanon',\n",
       " 'Lesotho',\n",
       " 'Liberia',\n",
       " 'Liechtenstein',\n",
       " 'Lithuania',\n",
       " 'Luxembourg',\n",
       " 'Macedonia (the former Yugoslav Republic of)',\n",
       " 'Madagascar',\n",
       " 'Malawi',\n",
       " 'Malaysia',\n",
       " 'Maldives',\n",
       " 'Marshall Islands',\n",
       " 'Martinique',\n",
       " 'Mauritania',\n",
       " 'Mauritius',\n",
       " 'Mayotte',\n",
       " 'Mexico',\n",
       " 'Micronesia (Federated States of)',\n",
       " 'Moldova (Republic of)',\n",
       " 'Monaco',\n",
       " 'Mongolia',\n",
       " 'Montenegro',\n",
       " 'Montserrat',\n",
       " 'Morocco',\n",
       " 'Mozambique',\n",
       " 'Myanmar',\n",
       " 'Namibia',\n",
       " 'Netherlands',\n",
       " 'New Caledonia',\n",
       " 'New Zealand',\n",
       " 'Nicaragua',\n",
       " 'Nigeria',\n",
       " 'Norfolk Island',\n",
       " \"Korea (Democratic People's Republic of)\",\n",
       " 'Northern Mariana Islands',\n",
       " 'Norway',\n",
       " 'Pakistan',\n",
       " 'Palestine, State of',\n",
       " 'Panama',\n",
       " 'Papua New Guinea',\n",
       " 'Paraguay',\n",
       " 'Philippines',\n",
       " 'Pitcairn',\n",
       " 'Poland',\n",
       " 'Portugal',\n",
       " 'Puerto Rico',\n",
       " 'Republic of Kosovo',\n",
       " 'Réunion',\n",
       " 'Romania',\n",
       " 'Russian Federation',\n",
       " 'Rwanda',\n",
       " 'Saint Barthélemy',\n",
       " 'Saint Helena, Ascension and Tristan da Cunha',\n",
       " 'Saint Kitts and Nevis',\n",
       " 'Saint Lucia',\n",
       " 'Saint Martin (French part)',\n",
       " 'Saint Pierre and Miquelon',\n",
       " 'Saint Vincent and the Grenadines',\n",
       " 'San Marino',\n",
       " 'Sao Tome and Principe',\n",
       " 'Saudi Arabia',\n",
       " 'Senegal',\n",
       " 'Serbia',\n",
       " 'Seychelles',\n",
       " 'Sierra Leone',\n",
       " 'Singapore',\n",
       " 'Sint Maarten (Dutch part)',\n",
       " 'Slovakia',\n",
       " 'Slovenia',\n",
       " 'Solomon Islands',\n",
       " 'Somalia',\n",
       " 'South Africa',\n",
       " 'South Georgia and the South Sandwich Islands',\n",
       " 'Korea (Republic of)',\n",
       " 'South Sudan',\n",
       " 'Sri Lanka',\n",
       " 'Suriname',\n",
       " 'Svalbard and Jan Mayen',\n",
       " 'Swaziland',\n",
       " 'Sweden',\n",
       " 'Switzerland',\n",
       " 'Syrian Arab Republic',\n",
       " 'Taiwan',\n",
       " 'Tajikistan',\n",
       " 'Tanzania, United Republic of',\n",
       " 'Thailand',\n",
       " 'Timor-Leste',\n",
       " 'Tokelau',\n",
       " 'Trinidad and Tobago',\n",
       " 'Tunisia',\n",
       " 'Turkey',\n",
       " 'Turkmenistan',\n",
       " 'Turks and Caicos Islands',\n",
       " 'Tuvalu',\n",
       " 'Uganda',\n",
       " 'Ukraine',\n",
       " 'United Arab Emirates',\n",
       " 'United Kingdom of Great Britain and Northern Ireland',\n",
       " 'United States of America',\n",
       " 'Uruguay',\n",
       " 'Uzbekistan',\n",
       " 'Vanuatu',\n",
       " 'Venezuela (Bolivarian Republic of)',\n",
       " 'Viet Nam',\n",
       " 'Wallis and Futuna',\n",
       " 'Western Sahara',\n",
       " 'Zambia',\n",
       " 'Zimbabwe']"
      ]
     },
     "execution_count": 57,
     "metadata": {},
     "output_type": "execute_result"
    }
   ],
   "source": [
    "countrySixM = list(filter(lambda ctr: len(ctr)>=6, countryName))\n",
    "countrySixM"
   ]
  },
  {
   "cell_type": "markdown",
   "id": "13425a19",
   "metadata": {},
   "source": [
    "<b> 7. Use filter to filter out countries starting with an 'E' </b>"
   ]
  },
  {
   "cell_type": "code",
   "execution_count": 58,
   "id": "ae13ec2c",
   "metadata": {},
   "outputs": [
    {
     "data": {
      "text/plain": [
       "['Ecuador',\n",
       " 'Egypt',\n",
       " 'El Salvador',\n",
       " 'Equatorial Guinea',\n",
       " 'Eritrea',\n",
       " 'Estonia',\n",
       " 'Ethiopia']"
      ]
     },
     "execution_count": 58,
     "metadata": {},
     "output_type": "execute_result"
    }
   ],
   "source": [
    "countryE = list(filter(lambda ctr: ctr[0]=='E', countryName))\n",
    "countryE"
   ]
  },
  {
   "cell_type": "markdown",
   "id": "0ce6007f",
   "metadata": {},
   "source": [
    "<b> 8. Chain two or more list iterators </b>"
   ]
  },
  {
   "cell_type": "code",
   "execution_count": 64,
   "id": "2ebda109",
   "metadata": {},
   "outputs": [
    {
     "data": {
      "text/plain": [
       "200"
      ]
     },
     "execution_count": 64,
     "metadata": {},
     "output_type": "execute_result"
    }
   ],
   "source": [
    "arr = [1,2,3,4,5]\n",
    "\n",
    "'''\n",
    "result = (map(lambda x: x*2, arr)\n",
    "          | filter(lambda x: x>5, arr)\n",
    "          | map(lambda x: x**2)\n",
    "          | reduce(lambda x, y: x+y))\n",
    "\n",
    "'''\n",
    "result = reduce(\n",
    "         lambda acc, x: acc+x,\n",
    "         map(lambda x:x**2, filter(lambda x: x>5, map(lambda x:x*2,arr)))\n",
    "        )\n",
    "result"
   ]
  },
  {
   "cell_type": "code",
   "execution_count": 67,
   "id": "bb1b9aee",
   "metadata": {},
   "outputs": [
    {
     "data": {
      "text/plain": [
       "[36, 64, 100]"
      ]
     },
     "execution_count": 67,
     "metadata": {},
     "output_type": "execute_result"
    }
   ],
   "source": [
    "list(map(lambda x:x**2, filter(lambda x: x>5, map(lambda x:x*2,arr))))"
   ]
  },
  {
   "cell_type": "code",
   "execution_count": 68,
   "id": "682cbb4f",
   "metadata": {},
   "outputs": [
    {
     "data": {
      "text/plain": [
       "200"
      ]
     },
     "execution_count": 68,
     "metadata": {},
     "output_type": "execute_result"
    }
   ],
   "source": [
    "36+64+100"
   ]
  },
  {
   "cell_type": "markdown",
   "id": "b9015c89",
   "metadata": {},
   "source": [
    "<b> 9. Declare a function called get_string_lists which takes a list as a parameter and then returns a list containing only string items </b>"
   ]
  },
  {
   "cell_type": "code",
   "execution_count": 75,
   "id": "a33580ca",
   "metadata": {},
   "outputs": [
    {
     "data": {
      "text/plain": [
       "['string', 'take69', 'Noel2023', '260805']"
      ]
     },
     "execution_count": 75,
     "metadata": {},
     "output_type": "execute_result"
    }
   ],
   "source": [
    "def get_string_lists(lst):\n",
    "    res = list(filter(lambda st: isinstance(st,str) == True,lst))\n",
    "    return res\n",
    "    \n",
    "\n",
    "string = ['string', 'take69','Noel2023',1020,1907,2608,'260805']\n",
    "get_string_lists(string)"
   ]
  },
  {
   "cell_type": "markdown",
   "id": "07740967",
   "metadata": {},
   "source": [
    "<b> 10. Use reduce to sum all the numbers in the numbers list</b>"
   ]
  },
  {
   "cell_type": "code",
   "execution_count": 78,
   "id": "bf84536d",
   "metadata": {},
   "outputs": [
    {
     "data": {
      "text/plain": [
       "55"
      ]
     },
     "execution_count": 78,
     "metadata": {},
     "output_type": "execute_result"
    }
   ],
   "source": [
    "from functools import reduce\n",
    "\n",
    "numbers = [1,2,3,4,5,6,7,8,9,10]\n",
    "totalNum = reduce(lambda x,y: x+y, numbers)\n",
    "totalNum"
   ]
  },
  {
   "cell_type": "markdown",
   "id": "19aa4635",
   "metadata": {},
   "source": [
    "<b> 11. Use reduce to concatenate all the contries and to produce this sentence: Estonia, Finland, Sweden, Denmark, Norway, and Iceland are north European countries </b>"
   ]
  },
  {
   "cell_type": "code",
   "execution_count": 82,
   "id": "1d7e2511",
   "metadata": {},
   "outputs": [
    {
     "data": {
      "text/plain": [
       "'Estonia, Finland, Sweden, Denmark, Norway, and Iceland are north European countries'"
      ]
     },
     "execution_count": 82,
     "metadata": {},
     "output_type": "execute_result"
    }
   ],
   "source": [
    "euroCountry = ['Estonia', 'Finland', 'Sweden','Denmark','Norway','Iceland']\n",
    "\n",
    "euroCountr = reduce(lambda x,y: f\"{x}, {y}\", euroCountry[:-1]) + f\", and {euroCountry[-1]} are north European countries\"\n",
    "euroCountr"
   ]
  },
  {
   "cell_type": "markdown",
   "id": "5a5e455b",
   "metadata": {},
   "source": [
    "<b>12. Declare a function called categorize_countries that returns a list of countries with some common pattern </b>"
   ]
  },
  {
   "cell_type": "code",
   "execution_count": 97,
   "id": "201bd88d",
   "metadata": {},
   "outputs": [
    {
     "data": {
      "text/plain": [
       "['Namibia', 'Viet Nam']"
      ]
     },
     "execution_count": 97,
     "metadata": {},
     "output_type": "execute_result"
    }
   ],
   "source": [
    "def categorize_countries(countryLst, pattern):\n",
    "    categorCountry = list(filter(lambda ctr: pattern in ctr, countryLst))\n",
    "    return categorCountry\n",
    "\n",
    "categorize_countries(countryName,'Nam')"
   ]
  },
  {
   "cell_type": "markdown",
   "id": "58c34a7f",
   "metadata": {},
   "source": [
    "<b>13. Create a function returning a dictionary, where keys stand for starting letters of countries and values are the number of country names starting with that letter </b>"
   ]
  },
  {
   "cell_type": "code",
   "execution_count": 99,
   "id": "f3e41b97",
   "metadata": {},
   "outputs": [
    {
     "data": {
      "text/plain": [
       "{'A': 15,\n",
       " 'Å': 1,\n",
       " 'B': 21,\n",
       " 'U': 8,\n",
       " 'V': 5,\n",
       " 'C': 23,\n",
       " 'D': 4,\n",
       " 'E': 7,\n",
       " 'F': 8,\n",
       " 'G': 16,\n",
       " 'H': 6,\n",
       " 'I': 9,\n",
       " 'J': 4,\n",
       " 'K': 7,\n",
       " 'L': 9,\n",
       " 'M': 23,\n",
       " 'N': 13,\n",
       " 'O': 1,\n",
       " 'P': 12,\n",
       " 'Q': 1,\n",
       " 'R': 5,\n",
       " 'S': 33,\n",
       " 'T': 14,\n",
       " 'W': 2,\n",
       " 'Y': 1,\n",
       " 'Z': 2}"
      ]
     },
     "execution_count": 99,
     "metadata": {},
     "output_type": "execute_result"
    }
   ],
   "source": [
    "def countryDct(countryLst):\n",
    "    letter_count = {}\n",
    "    for country in countryLst:\n",
    "        first_letter = country[0]\n",
    "        letter_count[first_letter] = letter_count.get(first_letter,0) +1\n",
    "        \n",
    "    return letter_count\n",
    "\n",
    "countryDct(countryName)"
   ]
  },
  {
   "cell_type": "markdown",
   "id": "a9c589a7",
   "metadata": {},
   "source": [
    "<b> 14. Declare a get_first_ten_countries function - it returns a list of first ten countries from the countries.js list in the data folder. </b>"
   ]
  },
  {
   "cell_type": "code",
   "execution_count": 106,
   "id": "2d9a7b43",
   "metadata": {},
   "outputs": [
    {
     "data": {
      "text/plain": [
       "['Afghanistan',\n",
       " 'Åland Islands',\n",
       " 'Albania',\n",
       " 'Algeria',\n",
       " 'American Samoa',\n",
       " 'Andorra',\n",
       " 'Angola',\n",
       " 'Anguilla',\n",
       " 'Antarctica',\n",
       " 'Antigua and Barbuda']"
      ]
     },
     "execution_count": 106,
     "metadata": {},
     "output_type": "execute_result"
    }
   ],
   "source": [
    "def get_first_ten_countries(countryLst):\n",
    "    return list(map(lambda x: x['name'],countryLst[:10]))\n",
    "\n",
    "get_first_ten_countries(countries)"
   ]
  },
  {
   "cell_type": "markdown",
   "id": "1dd83b21",
   "metadata": {},
   "source": [
    "<b>15. Declare a get_last_ten_countries function that returns the last ten countries in the countries list. </b>"
   ]
  },
  {
   "cell_type": "code",
   "execution_count": 108,
   "id": "99b4f066",
   "metadata": {},
   "outputs": [
    {
     "data": {
      "text/plain": [
       "['Uruguay',\n",
       " 'Uzbekistan',\n",
       " 'Vanuatu',\n",
       " 'Venezuela (Bolivarian Republic of)',\n",
       " 'Viet Nam',\n",
       " 'Wallis and Futuna',\n",
       " 'Western Sahara',\n",
       " 'Yemen',\n",
       " 'Zambia',\n",
       " 'Zimbabwe']"
      ]
     },
     "execution_count": 108,
     "metadata": {},
     "output_type": "execute_result"
    }
   ],
   "source": [
    "def get_last_ten_countries(countryLst):\n",
    "    return list(map(lambda x: x['name'],countryLst[-10:]))\n",
    "\n",
    "get_last_ten_countries(countries)"
   ]
  },
  {
   "cell_type": "markdown",
   "id": "ea1c5d21",
   "metadata": {},
   "source": [
    "<span style=color:Blue>\n",
    "<h3> <b> End day </b></h3>\n",
    "</span>"
   ]
  }
 ],
 "metadata": {
  "kernelspec": {
   "display_name": "Python 3 (ipykernel)",
   "language": "python",
   "name": "python3"
  },
  "language_info": {
   "codemirror_mode": {
    "name": "ipython",
    "version": 3
   },
   "file_extension": ".py",
   "mimetype": "text/x-python",
   "name": "python",
   "nbconvert_exporter": "python",
   "pygments_lexer": "ipython3",
   "version": "3.11.3"
  }
 },
 "nbformat": 4,
 "nbformat_minor": 5
}
