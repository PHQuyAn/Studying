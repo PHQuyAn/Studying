{
 "cells": [
  {
   "cell_type": "markdown",
   "id": "62b02c78",
   "metadata": {},
   "source": [
    "<div class=\"alert alert-block alert-info\">\n",
    "    <h3> Exception Handling </h3>\n",
    "    https://github.com/Asabeneh/30-Days-Of-Python/blob/master/17_Day_Exception_handling/\n",
    "</div>"
   ]
  },
  {
   "cell_type": "markdown",
   "id": "cc6194b6",
   "metadata": {},
   "source": [
    "<span style=color:green> \n",
    "    <b> Exception Handling</b>\n",
    "</span>"
   ]
  },
  {
   "cell_type": "markdown",
   "id": "5c0c1f58",
   "metadata": {},
   "source": [
    "```\n",
    "try:\n",
    "    code in this block if things go well\n",
    "except:\n",
    "    code in this block run if things go wrong\n",
    "```"
   ]
  },
  {
   "cell_type": "code",
   "execution_count": 1,
   "id": "c4302f0c",
   "metadata": {},
   "outputs": [
    {
     "name": "stdout",
     "output_type": "stream",
     "text": [
      "Something went wrong\n"
     ]
    }
   ],
   "source": [
    "try:\n",
    "    print(10+'5')\n",
    "except:\n",
    "    print('Something went wrong')"
   ]
  },
  {
   "cell_type": "code",
   "execution_count": 28,
   "id": "d6e4eb6a",
   "metadata": {},
   "outputs": [
    {
     "name": "stdout",
     "output_type": "stream",
     "text": [
      "2023-12-26\n"
     ]
    }
   ],
   "source": [
    "print(date.today())"
   ]
  },
  {
   "cell_type": "code",
   "execution_count": 17,
   "id": "69dd9e6a",
   "metadata": {
    "scrolled": true
   },
   "outputs": [
    {
     "name": "stdout",
     "output_type": "stream",
     "text": [
      "Enter your name: An\n",
      "Year you were born: 2003\n",
      "You are An and your age is 20\n"
     ]
    }
   ],
   "source": [
    "from datetime import date\n",
    "\n",
    "year = date.today().year\n",
    "try: \n",
    "    name = input('Enter your name: ')\n",
    "    year_born = int(input('Year you were born: '))\n",
    "    age = year - year_born\n",
    "    print(f\"You are {name} and your age is {age}\")\n",
    "except:\n",
    "    print('Something went wrong')"
   ]
  },
  {
   "cell_type": "code",
   "execution_count": 23,
   "id": "7a0cf69b",
   "metadata": {},
   "outputs": [
    {
     "name": "stdout",
     "output_type": "stream",
     "text": [
      "Let' try 2 times\n",
      "Enter your name: An \n",
      "Year you were born: 2003\n",
      "You are An . And your age is 20\n",
      "\n",
      "Enter your name: An\n",
      "Year you were born: 2003.\n",
      "Value error occured\n",
      "\n"
     ]
    }
   ],
   "source": [
    "from datetime import date\n",
    "\n",
    "print('Let\\' try 2 times')\n",
    "\n",
    "i = 1\n",
    "while (i<=2):\n",
    "    year = date.today().year\n",
    "    try:\n",
    "        name = input('Enter your name: ')\n",
    "        year_born = int(input('Year you were born: '))\n",
    "        age = year - year_born\n",
    "        print(f\"You are {name}. And your age is {age}\")\n",
    "    except TypeError:\n",
    "        print('Type error occured')\n",
    "    except ValueError:\n",
    "        print(\"Value error occured\")\n",
    "    except ZeroDivisionError:\n",
    "        print('zero division error occured')\n",
    "    i+=1\n",
    "    print()"
   ]
  },
  {
   "cell_type": "code",
   "execution_count": 24,
   "id": "ed59badd",
   "metadata": {},
   "outputs": [
    {
     "name": "stdout",
     "output_type": "stream",
     "text": [
      "Enter your name: An 20\n",
      "Year you were born: 20.\n",
      "invalid literal for int() with base 10: '20.'\n"
     ]
    }
   ],
   "source": [
    "from datetime import date\n",
    "\n",
    "year = date.today().year\n",
    "try: \n",
    "    name = input('Enter your name: ')\n",
    "    year_born = int(input('Year you were born: '))\n",
    "    age = year - year_born\n",
    "    print(f\"You are {name} and your age is {age}\")\n",
    "except Exception as e:\n",
    "    print(e)"
   ]
  },
  {
   "cell_type": "markdown",
   "id": "47372502",
   "metadata": {},
   "source": [
    "<span style=color:green> \n",
    "    <b><h3>Packing and Unpacking Arguments in Python </h3></b>\n",
    "</span>"
   ]
  },
  {
   "cell_type": "markdown",
   "id": "470749b2",
   "metadata": {},
   "source": [
    "<span style=color:green> \n",
    "    <b><h3> Unpacking </h3></b> \n",
    "</span> \n",
    "\n",
    "- **Unpacking Lists**"
   ]
  },
  {
   "cell_type": "code",
   "execution_count": 30,
   "id": "4d7cef6b",
   "metadata": {
    "scrolled": true
   },
   "outputs": [
    {
     "ename": "TypeError",
     "evalue": "sum_of_five_nums() missing 4 required positional arguments: 'b', 'c', 'd', and 'e'",
     "output_type": "error",
     "traceback": [
      "\u001b[1;31m---------------------------------------------------------------------------\u001b[0m",
      "\u001b[1;31mTypeError\u001b[0m                                 Traceback (most recent call last)",
      "Cell \u001b[1;32mIn[30], line 5\u001b[0m\n\u001b[0;32m      2\u001b[0m     \u001b[38;5;28;01mreturn\u001b[39;00m a\u001b[38;5;241m+\u001b[39mb\u001b[38;5;241m+\u001b[39mc\u001b[38;5;241m+\u001b[39md\u001b[38;5;241m+\u001b[39me\n\u001b[0;32m      4\u001b[0m lst \u001b[38;5;241m=\u001b[39m [\u001b[38;5;241m1\u001b[39m,\u001b[38;5;241m2\u001b[39m,\u001b[38;5;241m3\u001b[39m,\u001b[38;5;241m4\u001b[39m,\u001b[38;5;241m5\u001b[39m]\n\u001b[1;32m----> 5\u001b[0m \u001b[38;5;28mprint\u001b[39m(\u001b[43msum_of_five_nums\u001b[49m\u001b[43m(\u001b[49m\u001b[43mlst\u001b[49m\u001b[43m)\u001b[49m) \u001b[38;5;66;03m#TypeError:: sum_of_five_nums() missing 4 required\u001b[39;00m\n",
      "\u001b[1;31mTypeError\u001b[0m: sum_of_five_nums() missing 4 required positional arguments: 'b', 'c', 'd', and 'e'"
     ]
    }
   ],
   "source": [
    "def sum_of_five_nums(a,b,c,d,e):\n",
    "    return a+b+c+d+e\n",
    "\n",
    "lst = [1,2,3,4,5]\n",
    "print(sum_of_five_nums(lst)) #TypeError:: sum_of_five_nums() missing 4 required"
   ]
  },
  {
   "cell_type": "markdown",
   "id": "e6b5e95e",
   "metadata": {},
   "source": [
    "This function takes numbers (not a list) so it raises an error.  \n",
    "Let's unpack/destructure the list"
   ]
  },
  {
   "cell_type": "code",
   "execution_count": 31,
   "id": "836c6aec",
   "metadata": {},
   "outputs": [
    {
     "name": "stdout",
     "output_type": "stream",
     "text": [
      "15\n"
     ]
    }
   ],
   "source": [
    "def sum_of_five_nums(a,b,c,d,e):\n",
    "    return a+b+c+d+e\n",
    "\n",
    "lst = [1,2,3,4,5]\n",
    "print(sum_of_five_nums(*lst))"
   ]
  },
  {
   "cell_type": "markdown",
   "id": "6a5b4028",
   "metadata": {},
   "source": [
    "Unpacking in the range built-in function"
   ]
  },
  {
   "cell_type": "code",
   "execution_count": 36,
   "id": "90c40485",
   "metadata": {},
   "outputs": [
    {
     "name": "stdout",
     "output_type": "stream",
     "text": [
      "[2, 3, 4, 5, 6]\n",
      "range(2, 7)\n"
     ]
    }
   ],
   "source": [
    "numbers = range(2,7)   #normal call with separate argument\n",
    "print(list(numbers))\n",
    "\n",
    "args = [2,7]\n",
    "numbers = range(*args) #Call with arguments unpacked from a list\n",
    "print(numbers)"
   ]
  },
  {
   "cell_type": "markdown",
   "id": "fdfe17b0",
   "metadata": {},
   "source": [
    "List or tuple can also be unpacked:"
   ]
  },
  {
   "cell_type": "code",
   "execution_count": 39,
   "id": "9797985c",
   "metadata": {},
   "outputs": [
    {
     "name": "stdout",
     "output_type": "stream",
     "text": [
      "America Canada Taiwan ['Korea', 'Singapore', 'Vietnam']\n"
     ]
    }
   ],
   "source": [
    "countries = ['America','Canada','Taiwan','Korea','Singapore','Vietnam']\n",
    "Ame, Can, Tai, *rest = countries \n",
    "\n",
    "print(Ame, Can, Tai, rest) "
   ]
  },
  {
   "cell_type": "code",
   "execution_count": 41,
   "id": "ab20c26a",
   "metadata": {},
   "outputs": [
    {
     "name": "stdout",
     "output_type": "stream",
     "text": [
      "1 [2, 3, 4, 5, 6] 7\n"
     ]
    }
   ],
   "source": [
    "number = [1,2,3,4,5,6,7]\n",
    "one, *middle, last = number\n",
    "print(one, middle, last)"
   ]
  },
  {
   "cell_type": "code",
   "execution_count": 43,
   "id": "ccd01ab1",
   "metadata": {},
   "outputs": [
    {
     "name": "stdout",
     "output_type": "stream",
     "text": [
      "An lives in Vietnam, SaiGon. He is 20 years old.\n"
     ]
    }
   ],
   "source": [
    "#Unpacking Dictionaries\n",
    "\n",
    "def unpacking_person_info(name, country, city, age):\n",
    "    return f'{name} lives in {country}, {city}. He is {age} years old.'\n",
    "\n",
    "dct = {'name':'An', 'country':'Vietnam', 'city':'SaiGon', 'age':20}\n",
    "print(unpacking_person_info(**dct))"
   ]
  },
  {
   "cell_type": "code",
   "execution_count": null,
   "id": "755acc68",
   "metadata": {},
   "outputs": [],
   "source": []
  }
 ],
 "metadata": {
  "kernelspec": {
   "display_name": "Python 3 (ipykernel)",
   "language": "python",
   "name": "python3"
  },
  "language_info": {
   "codemirror_mode": {
    "name": "ipython",
    "version": 3
   },
   "file_extension": ".py",
   "mimetype": "text/x-python",
   "name": "python",
   "nbconvert_exporter": "python",
   "pygments_lexer": "ipython3",
   "version": "3.11.3"
  }
 },
 "nbformat": 4,
 "nbformat_minor": 5
}
