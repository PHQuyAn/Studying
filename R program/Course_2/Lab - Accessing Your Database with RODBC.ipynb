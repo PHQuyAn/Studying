{
 "cells": [
  {
   "cell_type": "markdown",
   "id": "c831b9ad-090e-4236-9645-297d0dbbcb96",
   "metadata": {},
   "source": [
    "<p style=\"text-align:center\">\n",
    "    <a href=\"https://skills.network\" target=\"_blank\">\n",
    "    <img src=\"https://cf-courses-data.s3.us.cloud-object-storage.appdomain.cloud/assets/logos/SN_web_lightmode.png\" width=\"200\" alt=\"Skills Network Logo\">\n",
    "    </a>\n",
    "</p>\n",
    "\n",
    "<h1 align=center><font size = 5>Hands-on Lab: Accessing Your Database with RODBC</h1>\n"
   ]
  },
  {
   "cell_type": "markdown",
   "id": "7d060eb8-b77e-4b6f-ba0f-4722a6bad80b",
   "metadata": {},
   "source": [
    "### Welcome!\n",
    "\n",
    "In this hands-on lab, we will learn how to connect and discover metadata from database servers with R using RODBC.\n"
   ]
  },
  {
   "cell_type": "markdown",
   "id": "702264b3-d120-4ba4-8225-678150cb3a18",
   "metadata": {},
   "source": [
    "<div class=\"alert alert-block alert-info\" style=\"margin-top: 20px\">\n",
    "<h3>Tasks</h3>\n",
    "<ol><ol><ol>\n",
    "<li><a href=\"#ref6a\">Pre-requisites</a></li>\n",
    "<li><a href=\"#ref6b\">Create an R notebook</a></li>\n",
    "<li><a href=\"#ref6c\">Load RODBC</a></li>\n",
    "<li><a href=\"#ref6d\">Connection information</a></li>\n",
    "<li><a href=\"#ref6e\">Create a database connection</a></li>\n",
    "<li><a href=\"#ref6f\">Connection Attributes</a></li>\n",
    "<li><a href=\"#ref6g\">Connection Metadata</a></li>\n",
    "<li><a href=\"#ref6h\">Supported Datatypes</a></li>\n",
    "<li><a href=\"#ref6i\">List of Tables</a></li>\n",
    "<li><a href=\"#ref6j\">Columns in a Table</a></li>\n",
    "<li><a href=\"#ref6k\">Dis-connect</a></li>\n",
    "</ol></ol></ol>\n",
    "<br>\n",
    "Estimated Time Needed: <strong>15 min</strong>\n",
    "</div>\n"
   ]
  },
  {
   "cell_type": "markdown",
   "id": "6de753e1-25a5-4444-baff-13ed5561c4cf",
   "metadata": {},
   "source": [
    "<a id=\"ref6a\"></a>\n",
    "\n",
    "<h3>a. Pre-requisites</h3>\n"
   ]
  },
  {
   "cell_type": "markdown",
   "id": "2283150b-11ba-447f-b6c3-d5378c3f29d7",
   "metadata": {},
   "source": [
    "In this lab we will use Jupyter Notebooks within SN Labs to access data in a Db2 on Cloud database using RODBC.\n"
   ]
  },
  {
   "cell_type": "markdown",
   "id": "7e3c26d9-1e80-4a63-bcf6-c158dd4989d3",
   "metadata": {},
   "source": [
    "<a id=\"ref6b\"></a>\n",
    "\n",
    "<h3>b. Create an R notebook</h3>\n",
    "\n",
    "If required, set the notebook kernel to R by clicking on the kernel on the top right hand corner:\n",
    "\n",
    "<img src=\"https://cf-courses-data.s3.us.cloud-object-storage.appdomain.cloud/IBMDeveloperSkillsNetwork-RP0103EN-SkillsNetwork/labs/Lab%20-%20Accessing%20Your%20Database%20with%20RODBC/kernel.png\">\n"
   ]
  },
  {
   "cell_type": "markdown",
   "id": "24094080-06e1-4056-94ac-11ba19913cba",
   "metadata": {},
   "source": [
    "<a id=\"ref6c\"></a>\n",
    "\n",
    "<h3>c. Load RODBC</h3>\n"
   ]
  },
  {
   "cell_type": "markdown",
   "id": "b65cd3bc-f288-491f-a478-dc89543a6fa7",
   "metadata": {},
   "source": [
    "The RODBC package and the ODBC driver for Db2 are pre-installed on your workbench. Let’s load the RODBC package by clicking on the following cell and executing it (Shift+Enter):\n"
   ]
  },
  {
   "cell_type": "code",
   "execution_count": 5,
   "metadata": {},
   "outputs": [
    {
     "ename": "ERROR",
     "evalue": "Error in eval(expr, envir, enclos): object 'RODBC' not found\n",
     "output_type": "error",
     "traceback": [
      "Error in eval(expr, envir, enclos): object 'RODBC' not found\nTraceback:\n",
      "1. install.packages(RODBC)"
     ]
    }
   ],
   "source": [
    "install.packages(RODBC)"
   ]
  },
  {
   "cell_type": "code",
   "execution_count": 6,
   "id": "7fa130e3-876e-41a6-a02f-408582239c04",
   "metadata": {},
   "outputs": [
    {
     "ename": "ERROR",
     "evalue": "Error in library(RODBC): there is no package called 'RODBC'\n",
     "output_type": "error",
     "traceback": [
      "Error in library(RODBC): there is no package called 'RODBC'\nTraceback:\n",
      "1. library(RODBC)"
     ]
    }
   ],
   "source": [
    "library(RODBC);"
   ]
  },
  {
   "cell_type": "markdown",
   "id": "8fc1ac7d-53de-4008-b759-30ac617fd6f8",
   "metadata": {},
   "source": [
    "<a id=\"ref6d\"></a>\n",
    "\n",
    "<h3>d. Connection information</h3>\n"
   ]
  },
  {
   "cell_type": "markdown",
   "id": "fe38b99a-7c06-47c5-8274-2677babc214f",
   "metadata": {},
   "source": [
    "To connect to your Db2 instance, you require the following details:\n",
    "* Driver class\n",
    "* Database name\n",
    "* Hostname\n",
    "* Port number\n",
    "* Protocol\n",
    "* Username\n",
    "* Password\n",
    "\n",
    "We will be using different variables to store this information, so that we can use these values at a later point of time when required.\n",
    "\n",
    "Replace the values for **hostname, port number, username and password** by copying them from Service Credentials in your DB2 instance. \n",
    "\n",
    "For instructions on accessing **Db2 Service Credentials**, go to <a href=\"https://cf-courses-data.s3.us.cloud-object-storage.appdomain.cloud/IBMDeveloperSkillsNetwork-DB0201EN-SkillsNetwork/labs/Module%205/LAB-0v6_Create_Database_Credentials.md.html?origin=www.coursera.org\">Hands-on Lab: Create Db2 Service Credentials.</a>\n",
    "\n",
    ">Note:This is just an example screenshot of service credentials. However these values will vary with respect to the DB2 instance which you create.\n"
   ]
  },
  {
   "cell_type": "markdown",
   "id": "4aab94e6-f5a4-48fe-8000-5b4bc10b8b37",
   "metadata": {},
   "source": [
    "<details>\n",
    "<summary>Click here to view/hide hint</summary>\n",
    "<p>\n",
    "\n",
    "\n",
    "<img src=\"https://cf-courses-data.s3.us.cloud-object-storage.appdomain.cloud/IBMDeveloperSkillsNetwork-RP0103EN-SkillsNetwork/labs/Lab%20-%20Accessing%20Your%20Database%20using%20RJDBC/images/servicecredentials.png\">\n",
    "    \n",
    "    \n",
    "    \n",
    "</details>\n"
   ]
  },
  {
   "cell_type": "code",
   "execution_count": 2,
   "id": "6ed766af-cf37-413d-ace0-3da8dbfbe3cb",
   "metadata": {},
   "outputs": [],
   "source": [
    "#Enter the values for your database connection\n",
    "dsn_driver = \"com.ibm.db2.jcc.DB2Driver\"\n",
    "dsn_database = \"bludb\"            \n",
    "dsn_hostname = \"54a2f15b-5c0f-46df-8954-7e38e612c2bd.c1ogj3sd0tgtu0lqde00.databases.appdomain.cloud\"   #replace <yourhostname> with your hostname from the Service credentials\n",
    "dsn_port = \"32733\"                     #replace with the port number from Service Credentials \n",
    "dsn_protocol = \"TCPIP\"            \n",
    "dsn_uid = \"jpy42919\"            #replace <username> with your username from Service Credentials\n",
    "dsn_pwd = \"cLg2nbt2sgIb4cqb\"            #replace <password> with your password from Service Credentials\n",
    "dsn_security = \"ssl\""
   ]
  },
  {
   "cell_type": "markdown",
   "id": "89eb76c9-9f92-4359-83dd-8b5e7ebaead3",
   "metadata": {},
   "source": [
    "<a id=\"ref6e\"></a>\n",
    "\n",
    "<h3>e. Create a database connection</h3>\n"
   ]
  },
  {
   "cell_type": "markdown",
   "id": "acd7f101-4e00-47f3-b2a8-f504aea90aaa",
   "metadata": {},
   "source": [
    "The next step is to create a connection string and connect to Db2 using odbcDriverConnect() function. **odbcDriverConnect()** takes this connection string as its parameter and returns a connection object.\n"
   ]
  },
  {
   "cell_type": "code",
   "execution_count": 3,
   "id": "d225eeea-215c-48fe-ad9c-fa0dd00b2464",
   "metadata": {},
   "outputs": [
    {
     "ename": "ERROR",
     "evalue": "Error in odbcDriverConnect(conn_path): could not find function \"odbcDriverConnect\"\n",
     "output_type": "error",
     "traceback": [
      "Error in odbcDriverConnect(conn_path): could not find function \"odbcDriverConnect\"\nTraceback:\n"
     ]
    }
   ],
   "source": [
    "conn_path = paste(\"DRIVER=\",dsn_driver,\n",
    "                  \";DATABASE=\",dsn_database,\n",
    "                  \";HOSTNAME=\",dsn_hostname,\n",
    "                  \";PORT=\",dsn_port,\n",
    "                  \";PROTOCOL=\",dsn_protocol,\n",
    "                  \";UID=\",dsn_uid,\n",
    "                  \";PWD=\",dsn_pwd,\n",
    "                  \";SECURITY=\",dsn_security,        \n",
    "                    sep=\"\")\n",
    "conn = odbcDriverConnect(conn_path)\n",
    "conn"
   ]
  },
  {
   "cell_type": "markdown",
   "id": "19ec2f6c-197d-4a4d-8b35-cba24680ca41",
   "metadata": {},
   "source": [
    "<a id=\"ref6f\"></a>\n",
    "\n",
    "<h3>f. Connection Attributes</h3>\n"
   ]
  },
  {
   "cell_type": "markdown",
   "id": "75c38534-d540-433b-98cd-7b45205c963e",
   "metadata": {},
   "source": [
    "Let’s examine the connection attributes using the attributes() function:\n"
   ]
  },
  {
   "cell_type": "code",
   "execution_count": null,
   "id": "c35951ec-bf88-4f64-a4c4-9809941ac397",
   "metadata": {},
   "outputs": [],
   "source": [
    "attributes(conn)"
   ]
  },
  {
   "cell_type": "markdown",
   "id": "8ac8b8cf-c9e2-4824-a9f9-69c1827a979e",
   "metadata": {},
   "source": [
    "<a id=\"ref6g\"></a>\n",
    "\n",
    "<h3>g. Connection Metadata</h3>\n"
   ]
  },
  {
   "cell_type": "markdown",
   "id": "4a9ac33f-80af-4561-9124-f9c585f01303",
   "metadata": {},
   "source": [
    "And review the connection metadata using  the odbcGetInfo() function. This function will provide details about the database name, version and the version of the ODBC driver:\n"
   ]
  },
  {
   "cell_type": "code",
   "execution_count": null,
   "id": "a4be0fb7-a744-434b-8227-d449e38ca789",
   "metadata": {},
   "outputs": [],
   "source": [
    "conn.info = odbcGetInfo(conn)\n",
    "conn.info[\"DBMS_Name\"]\n",
    "conn.info[\"DBMS_Ver\"] \n",
    "conn.info[\"Driver_ODBC_Ver\"]"
   ]
  },
  {
   "cell_type": "markdown",
   "id": "ac21de9e-0519-4f02-bf70-f624a122f0c9",
   "metadata": {},
   "source": [
    "<a id=\"ref6h\"></a>\n",
    "\n",
    "<h3>h. Supported Datatypes</h3>\n"
   ]
  },
  {
   "cell_type": "markdown",
   "id": "80f01bde-c43f-47b6-82c7-848833e57d15",
   "metadata": {},
   "source": [
    "Let’s now examine the datatypes supported by the database using sqlTypeInfo() function. This function will return a dataframe having information about the supported datatypes. The dataframe will have 4 columns such as Type_Name, Data Type and Column Size.\n"
   ]
  },
  {
   "cell_type": "code",
   "execution_count": null,
   "id": "d777eb88-340a-4434-90fc-de1e18fc7794",
   "metadata": {},
   "outputs": [],
   "source": [
    "sql.info = sqlTypeInfo(conn)\n",
    "print(sql.info)"
   ]
  },
  {
   "cell_type": "markdown",
   "id": "9ea40cb1-7239-4916-9ccd-7ad6a31b81cb",
   "metadata": {},
   "source": [
    "Let's print only the first and third column from the dataframe:\n"
   ]
  },
  {
   "cell_type": "code",
   "execution_count": null,
   "id": "e6522de5-62ac-4080-b4dd-7318ec5cae33",
   "metadata": {},
   "outputs": [],
   "source": [
    "print(sql.info[c(1,3)], row.names=FALSE)"
   ]
  },
  {
   "cell_type": "markdown",
   "id": "450d7aa4-e3a8-4fde-8b81-0660f0a3f98a",
   "metadata": {},
   "source": [
    "<a id=\"ref6i\"></a>\n",
    "\n",
    "<h3>i. List of Tables</h3>\n"
   ]
  },
  {
   "cell_type": "markdown",
   "id": "cb8443e3-58cc-4ace-bc38-663d9518d542",
   "metadata": {},
   "source": [
    "We will use the sqlTables() function to return a dataframe with information about table-like objects (i.e. TABLEs, VIEWs, ALIASes, etc.) in the Db2 system Schema **SYSIBM** and save it in a variable called tab.frame. \n",
    "We will get the count of the tables in the schema using **nrow()** function. \n",
    "We can then display their names using the TABLE_NAME column of the dataframe.\n",
    "\n"
   ]
  },
  {
   "cell_type": "code",
   "execution_count": null,
   "id": "27e7c833-ef97-4177-9145-06bb14216bcf",
   "metadata": {},
   "outputs": [],
   "source": [
    "tab.frame = sqlTables(conn, schema=\"<Enter Schema>\") # e.g. \"SYSIBM\"\n",
    "nrow(tab.frame)\n",
    "tab.frame$TABLE_NAME"
   ]
  },
  {
   "cell_type": "markdown",
   "id": "9e18e789-619f-4a3d-876b-f2fb07ca6567",
   "metadata": {},
   "source": [
    "<a id=\"ref6j\"></a>\n",
    "\n",
    "<h3>j. Columns in a Table</h3>\n"
   ]
  },
  {
   "cell_type": "markdown",
   "id": "98284d49-2b2a-4eb2-82b1-201c64d9a00c",
   "metadata": {},
   "source": [
    "Next, let’s look at column metadata for columns in the system catalog table **SYSSCHEMATA**. We will use **sqlColumns()** function which describes the column structure of tables on an ODBC database connection.\n"
   ]
  },
  {
   "cell_type": "code",
   "execution_count": null,
   "id": "154a7cda-56da-4ff2-9bb1-64e2c86ad184",
   "metadata": {},
   "outputs": [],
   "source": [
    "tab.name <- \"<Enter Table>\" # e.g. \"SYSSCHEMATA\"\n",
    "col.detail <- sqlColumns(conn, tab.name)\n",
    "print(col.detail[c(2,3,4,6,7,9,18)], row.names=FALSE)"
   ]
  },
  {
   "cell_type": "markdown",
   "id": "861e9b4a-d40b-4994-8099-47bce055464a",
   "metadata": {},
   "source": [
    "<a id=\"ref6k\"></a>\n",
    "\n",
    "<h3>k. Dis-connect</h3>\n"
   ]
  },
  {
   "cell_type": "markdown",
   "id": "39e7c083-ae3f-47d2-9f4f-824dd213521c",
   "metadata": {},
   "source": [
    "Finally, as a best practice we should close the database connection once we're done with it.\n"
   ]
  },
  {
   "cell_type": "code",
   "execution_count": null,
   "id": "9ebc0822-6d49-4d92-9d23-195939653cbc",
   "metadata": {},
   "outputs": [],
   "source": [
    "odbcCloseAll()"
   ]
  },
  {
   "cell_type": "markdown",
   "id": "4e467cc5-4cf5-4ce6-820f-3c44ec48bb41",
   "metadata": {},
   "source": [
    "### Practice exercises\n"
   ]
  },
  {
   "cell_type": "markdown",
   "id": "a0bcde50-cf98-4bd3-8863-93225ed2f0f5",
   "metadata": {},
   "source": [
    "##### 1. Provide the database credentials for your instance of **Db2**\n"
   ]
  },
  {
   "cell_type": "code",
   "execution_count": null,
   "id": "75a8cf4d-77cb-4037-9fb2-a8c2e85bc7c3",
   "metadata": {},
   "outputs": [],
   "source": [
    "#write your code here"
   ]
  },
  {
   "cell_type": "markdown",
   "id": "884b6318-38f3-4e38-b794-d1a9b75b7b5b",
   "metadata": {},
   "source": [
    "<details>\n",
    "<summary>Click here to view/hide hint</summary>\n",
    "<p>\n",
    "\n",
    "```\n",
    "# Fill in the following details\n",
    "dsn_driver = \"com.ibm.db2.jcc.DB2Driver\"\n",
    "dsn_database = \"...\"            \n",
    "dsn_hostname = \"<yourhostname>\"  \n",
    "dsn_port = \"...\"               \n",
    "dsn_protocol = \"...\"           \n",
    "dsn_uid = \"<username>\"        \n",
    "dsn_pwd = \"<password>\"      \n",
    "```\n",
    "\n",
    "</details>\n"
   ]
  },
  {
   "cell_type": "markdown",
   "id": "f2a6065d-831e-4b0e-992d-00f1ad91dcb8",
   "metadata": {},
   "source": [
    "<details>\n",
    "<summary>Click here to view/hide solution</summary>\n",
    "<p>\n",
    "\n",
    "```\n",
    "#Enter the values for you database connection\n",
    "dsn_driver = \"com.ibm.db2.jcc.DB2Driver\"\n",
    "dsn_database = \"bludb\"            # e.g. \"bludb\"\n",
    "dsn_hostname = \"<yourhostname>\"   # e.g. replace <yourhostname> with your hostname\n",
    "dsn_port = \"\"                # e.g. \"3273\" \n",
    "dsn_protocol = \"TCPIP\"            # i.e. \"TCPIP\"\n",
    "dsn_uid = \"<username>\"              # e.g. replace <username> with your userid\n",
    "dsn_pwd = \"<password>\"            # e.g. replace <password> with your password\n",
    "```\n",
    "\n",
    "</details>\n"
   ]
  },
  {
   "cell_type": "markdown",
   "id": "4a696bb9-dd5f-4ae6-a7b0-5fbe586e4338",
   "metadata": {},
   "source": [
    "##### 2. Create a connection string and connect to Db2.\n"
   ]
  },
  {
   "cell_type": "code",
   "execution_count": null,
   "id": "2a4ba1e1-f930-44c8-8cc5-a744765f5397",
   "metadata": {},
   "outputs": [],
   "source": [
    "#write your code here"
   ]
  },
  {
   "cell_type": "markdown",
   "id": "43fe9260-7f38-4539-bfa5-15722f340924",
   "metadata": {},
   "source": [
    "<details>\n",
    "<summary>Click here to view/hide hint</summary>\n",
    "<p>\n",
    "\n",
    "```\n",
    "# Fill in the ...\n",
    "conn_path <- paste(\"DRIVER=\",...\n",
    "                  \";DATABASE=\",...\n",
    "                  \";HOSTNAME=\",...\n",
    "                  \";PORT=\",...\n",
    "                  \";PROTOCOL=\",...\n",
    "                  \";UID=\",...\n",
    "                  \";PWD=\",...\"\n",
    "                  \";SECURITY=\",...\")\n",
    "conn <- ...(...)\n",
    "```\n",
    "\n",
    "</details>\n"
   ]
  },
  {
   "cell_type": "markdown",
   "id": "7d03be9f-f819-4e1c-a118-d2c2ae2fc40d",
   "metadata": {},
   "source": [
    "<details>\n",
    "<summary>Click here to view/hide solution</summary>\n",
    "<p>\n",
    "\n",
    "```\n",
    "conn_path <- paste(\"DRIVER=\",dsn_driver,\n",
    "                  \";DATABASE=\",dsn_database,\n",
    "                  \";HOSTNAME=\",dsn_hostname,\n",
    "                  \";PORT=\",dsn_port,\n",
    "                  \";PROTOCOL=\",dsn_protocol,\n",
    "                  \";UID=\",dsn_uid,\n",
    "                  \";PWD=\",dsn_pwd,\n",
    "                  \";SECURITY=\",dsn_security,        \n",
    "                    sep=\"\")\n",
    "conn <- odbcDriverConnect(conn_path)\n",
    "conn\n",
    "```\n",
    "\n",
    "</div>\n"
   ]
  },
  {
   "cell_type": "markdown",
   "id": "92e071b1-76fb-4dbe-a374-e6fd02c49e6f",
   "metadata": {},
   "source": [
    "##### 3. List of tables: Use the sqlTables() function to return a dataframe with information about table-like objects (i.e. TABLEs, VIEWs, ALIASes, etc.) in the Db2 system Schema **SYSIBM** and save it in a variable called tab. Display the count of the tables in the schema using **nrow()** function and their names using the TABLE_NAME column of the dataframe.\n"
   ]
  },
  {
   "cell_type": "code",
   "execution_count": null,
   "id": "a4560006-e134-4119-a898-97518639372e",
   "metadata": {},
   "outputs": [],
   "source": [
    "#write your code here"
   ]
  },
  {
   "cell_type": "markdown",
   "id": "b4d1eb9f-11d1-4f86-aadd-55d8a8def4df",
   "metadata": {},
   "source": [
    "<details>\n",
    "<summary>Click here to view/hide hint</summary>\n",
    "<p>\n",
    "\n",
    "```\n",
    "# Fill in the ...\n",
    "tab <- sql...(conn, ...=\"<Enter Schema>\")\n",
    "nrow(tab....)\n",
    "tab$...\n",
    "```\n",
    "\n",
    "</details>\n"
   ]
  },
  {
   "cell_type": "markdown",
   "id": "2c41dbe6-bc98-4107-9938-a347f9df2f5f",
   "metadata": {},
   "source": [
    "<details>\n",
    "<summary>Click here to view/hide solution</summary>\n",
    "<p>\n",
    "\n",
    "```\n",
    "tab <- sqlTables(conn, schema=\"<Enter Schema>\") # e.g. \"SYSIBM\"\n",
    "nrow(tab)\n",
    "tab$TABLE_NAME\n",
    "```\n",
    "\n",
    "</details>\n"
   ]
  },
  {
   "cell_type": "markdown",
   "id": "49eaeb30-1720-4870-8b0f-2f9725746471",
   "metadata": {},
   "source": [
    "##### 4. Display the column metadata for columns in the IBM system catalog table **SYSSTRINGS**\n"
   ]
  },
  {
   "cell_type": "code",
   "execution_count": null,
   "id": "84a9371b-ef05-4ebc-a651-3b47f85474bd",
   "metadata": {},
   "outputs": [],
   "source": [
    "#write your code here"
   ]
  },
  {
   "cell_type": "markdown",
   "id": "4236e1cc-c542-46bc-ae53-4c068749f2c4",
   "metadata": {},
   "source": [
    "<details>\n",
    "<summary>Click here to view/hide hint</summary>\n",
    "<p>\n",
    "\n",
    "```\n",
    "# Fill in the ...\n",
    "tab.... <- \"....\"\n",
    "col.detail <- sql...(conn, tab....)\n",
    "print(....detail[c(...,...,7,...,...)], row....=FALSE)\n",
    "```\n",
    "\n",
    "</details>\n"
   ]
  },
  {
   "cell_type": "markdown",
   "id": "77ac4a8a-fa5f-403a-9d4e-71fff72edd0a",
   "metadata": {},
   "source": [
    "<details>\n",
    "<summary>Click here to view/hide solution</summary>\n",
    "<p>\n",
    "\n",
    "```\n",
    "query = \"SELECT * FROM SYSIBM.SYSSTRINGS\";\n",
    "rs = dbSendQuery(conn,query);\n",
    "df = fetch(rs,20);\n",
    "```\n",
    "</p>\n",
    "</details>\n"
   ]
  },
  {
   "cell_type": "markdown",
   "id": "9bb57dd0-1551-4871-b391-a17937801bb9",
   "metadata": {},
   "source": [
    "<a id=\"ref6o\"></a>\n",
    "\n",
    "<h3>Summary</h3>\n"
   ]
  },
  {
   "cell_type": "markdown",
   "id": "bcda3ce4-43e7-44d8-bc64-042c1cbb1259",
   "metadata": {},
   "source": [
    "In this lab you accessed data in a Db2 on Cloud database using RODBC connection from a R notebook in Jupyter, and discovered different metadata.\n"
   ]
  },
  {
   "cell_type": "markdown",
   "id": "847d3736-683e-4072-ae7f-f869a75b09b2",
   "metadata": {},
   "source": [
    "<hr>\n"
   ]
  },
  {
   "cell_type": "markdown",
   "id": "d0aa5326-066d-48c2-91e6-f5f12a75728c",
   "metadata": {},
   "source": [
    "#### Thank you for completing this lab on getting connected and querying databases using RODBC.\n"
   ]
  },
  {
   "cell_type": "markdown",
   "id": "cb92d71b-2d5a-40ed-8033-a03ea1875906",
   "metadata": {},
   "source": [
    "<hr>\n",
    "\n",
    "## Authors\n",
    "\n",
    "-   [Rav Ahuja](https://ca.linkedin.com/in/rav-ahuja-8aa4562a?cm_mmc=Email_Newsletter-_-Developer_Ed%2BTech-_-WW_WW-_-SkillsNetwork-Courses-IBMDeveloperSkillsNetwork-RP0103EN-SkillsNetwork-23619267&cm_mmca1=000026UJ&cm_mmca2=10006555&cm_mmca3=M12345678&cvosrc=email.Newsletter.M12345678&cvo_campaign=000026UJ)\n",
    "-   [Agatha Colangelo](https://www.linkedin.com/in/agathacolangelo?cm_mmc=Email_Newsletter-_-Developer_Ed%2BTech-_-WW_WW-_-SkillsNetwork-Courses-IBMDeveloperSkillsNetwork-RP0103EN-SkillsNetwork-23619267&cm_mmca1=000026UJ&cm_mmca2=10006555&cm_mmca3=M12345678&cvosrc=email.Newsletter.M12345678&cvo_campaign=000026UJ)\n",
    "-   [Sandip Saha Joy](https://www.linkedin.com/in/sandipsahajoy?cm_mmc=Email_Newsletter-_-Developer_Ed%2BTech-_-WW_WW-_-SkillsNetwork-Courses-IBMDeveloperSkillsNetwork-RP0103EN-SkillsNetwork-23619267&cm_mmca1=000026UJ&cm_mmca2=10006555&cm_mmca3=M12345678&cvosrc=email.Newsletter.M12345678&cvo_campaign=000026UJ)\n",
    "-   [Shreya Khurana](https://www.linkedin.com/in/shreya-khurana-437211237/?utm_medium=Exinfluencer&utm_source=Exinfluencer&utm_content=000026UJ&utm_term=10006555&utm_id=NA-SkillsNetwork-Channel-SkillsNetworkCoursesIBMDeveloperSkillsNetworkRP0103ENSkillsNetwork896-2023-01-01)\n",
    "\n",
    "\n",
    "## Changelog\n",
    "\n",
    "| Date (YYYY-MM-DD) | Version | Changed By                   | Change Description                 |\n",
    "| ----------------- | ------- | ---------------------------- | ---------------------------------- |\n",
    "| 2023-07-20   | 2.2     | Shreya Khurana        | Created revised version of the lab|\n",
    "| 2021-07-14        | 2.1    | Lakshmi Holla            | Added ssl changes |\n",
    "| 2021-01-22        | 2.0     | Sandip Saha Joy              | Created revised version of the lab |\n",
    "| 2017              | 1.0     | Rav Ahuja & Agatha Colangelo | Created initial version of the lab |\n",
    "\n",
    "<hr>\n",
    "\n",
    "<h2 align=center><font size = 5>Copyright &copy; IBM Corporation 2017-2021. All rights reserved.</h2>\n"
   ]
  }
 ],
 "metadata": {
  "kernelspec": {
   "display_name": "R",
   "language": "R",
   "name": "ir"
  },
  "language_info": {
   "codemirror_mode": "r",
   "file_extension": ".r",
   "mimetype": "text/x-r-source",
   "name": "R",
   "pygments_lexer": "r",
   "version": "4.3.1"
  }
 },
 "nbformat": 4,
 "nbformat_minor": 4
}
